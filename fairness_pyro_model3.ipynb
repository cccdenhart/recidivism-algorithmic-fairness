{
 "cells": [
  {
   "cell_type": "code",
   "execution_count": 1,
   "metadata": {},
   "outputs": [],
   "source": [
    "import matplotlib.pyplot as plt\n",
    "import torch\n",
    "import pyro\n",
    "import pyro.distributions as dist\n",
    "import numpy as np\n",
    "import pandas as pd\n",
    "%matplotlib inline\n",
    "\n",
    "pyro.set_rng_seed(42)"
   ]
  },
  {
   "cell_type": "code",
   "execution_count": 2,
   "metadata": {},
   "outputs": [
    {
     "name": "stdout",
     "output_type": "stream",
     "text": [
      "['African-American', 'Caucasian']\n"
     ]
    },
    {
     "data": {
      "text/plain": [
       "tensor([0.5999, 0.4001])"
      ]
     },
     "execution_count": 2,
     "metadata": {},
     "output_type": "execute_result"
    }
   ],
   "source": [
    "# race\n",
    "df = pd.read_csv('model3_race.csv')\n",
    "race_alias = list(df['Var1'])\n",
    "race_prob = torch.tensor(list(df['Freq']) )\n",
    "print(race_alias)\n",
    "race_prob"
   ]
  },
  {
   "cell_type": "code",
   "execution_count": 3,
   "metadata": {},
   "outputs": [
    {
     "name": "stdout",
     "output_type": "stream",
     "text": [
      "['Female', 'Male']\n"
     ]
    },
    {
     "data": {
      "text/plain": [
       "tensor([0.1992, 0.8008])"
      ]
     },
     "execution_count": 3,
     "metadata": {},
     "output_type": "execute_result"
    }
   ],
   "source": [
    "# sex\n",
    "df = pd.read_csv('model3_sex.csv')\n",
    "sex_alias = list(df['Var1'])\n",
    "sex_prob = torch.tensor(list(df['Freq']) )\n",
    "print(sex_alias)\n",
    "sex_prob"
   ]
  },
  {
   "cell_type": "code",
   "execution_count": 4,
   "metadata": {},
   "outputs": [
    {
     "name": "stdout",
     "output_type": "stream",
     "text": [
      "['25 - 45', 'Greater than 45', 'Less than 25']\n"
     ]
    },
    {
     "data": {
      "text/plain": [
       "tensor([0.5701, 0.2182, 0.2117])"
      ]
     },
     "execution_count": 4,
     "metadata": {},
     "output_type": "execute_result"
    }
   ],
   "source": [
    "# age_cat\n",
    "df = pd.read_csv('model3_age_cat.csv')\n",
    "age_cat_alias = list(df['Var1'])\n",
    "age_cat_prob = torch.tensor(list(df['Freq']) )\n",
    "print(age_cat_alias)\n",
    "age_cat_prob"
   ]
  },
  {
   "cell_type": "code",
   "execution_count": 5,
   "metadata": {},
   "outputs": [
    {
     "name": "stdout",
     "output_type": "stream",
     "text": [
      "['F', 'M']\n"
     ]
    },
    {
     "data": {
      "text/plain": [
       "tensor([[[0.6065, 0.3935],\n",
       "         [0.5637, 0.4363],\n",
       "         [0.6196, 0.3804]],\n",
       "\n",
       "        [[0.6609, 0.3391],\n",
       "         [0.6056, 0.3944],\n",
       "         [0.7507, 0.2493]]])"
      ]
     },
     "execution_count": 5,
     "metadata": {},
     "output_type": "execute_result"
    }
   ],
   "source": [
    "# c_charge_degree\n",
    "df = pd.read_csv('model3_c_charge_degree.csv')\n",
    "c_charge_degree_alias = list(set( df['c_charge_degree'] ))\n",
    "\n",
    "dic = {}\n",
    "for index, row in df.iterrows():\n",
    "    dic[( row['sex'],row['age_cat'],row['c_charge_degree'])] = row['Freq']\n",
    "l1 = []\n",
    "for s in sex_alias:\n",
    "    l2 = []\n",
    "    for a in age_cat_alias:\n",
    "        l3 = []\n",
    "        for c in c_charge_degree_alias:            \n",
    "            l3 += [ dic[s,a,c] ]\n",
    "        l2 +=  [ l3 ]\n",
    "    l1 += [ l2 ]\n",
    "\n",
    "c_charge_degree_probs = torch.tensor( l1 )\n",
    "\n",
    "print(c_charge_degree_alias)\n",
    "c_charge_degree_probs"
   ]
  },
  {
   "cell_type": "code",
   "execution_count": 6,
   "metadata": {},
   "outputs": [
    {
     "name": "stdout",
     "output_type": "stream",
     "text": [
      "[0, 1]\n"
     ]
    },
    {
     "data": {
      "text/plain": [
       "tensor([[0.5010, 0.4990],\n",
       "        [0.6015, 0.3985]])"
      ]
     },
     "execution_count": 6,
     "metadata": {},
     "output_type": "execute_result"
    }
   ],
   "source": [
    "# two_year_recid\n",
    "df = pd.read_csv('model3_two_year_recid.csv')\n",
    "two_year_recid_alias = list(df['Unnamed: 0'])\n",
    "\n",
    "l = []\n",
    "for e in c_charge_degree_alias:\n",
    "    l += [ list( df[e] )  ]\n",
    "two_year_recid_probs = torch.tensor( l )\n",
    "\n",
    "print(two_year_recid_alias)\n",
    "two_year_recid_probs"
   ]
  },
  {
   "cell_type": "code",
   "execution_count": 7,
   "metadata": {},
   "outputs": [],
   "source": [
    "def model():\n",
    "    race = pyro.sample(\"race\", dist.Categorical( race_prob )) \n",
    "    sex = pyro.sample(\"sex\", dist.Categorical( sex_prob )) \n",
    "    age_cat = pyro.sample(\"age_cat\", dist.Categorical( age_cat_prob )) \n",
    "    c_charge_degree = pyro.sample(\"c_charge_degree\", dist.Categorical(c_charge_degree_probs[sex][age_cat]))\n",
    "    two_year_recid = pyro.sample(\"two_year_recid\", dist.Categorical(two_year_recid_probs[c_charge_degree]))\n"
   ]
  },
  {
   "cell_type": "markdown",
   "metadata": {},
   "source": [
    "### Intervention"
   ]
  },
  {
   "cell_type": "code",
   "execution_count": 8,
   "metadata": {},
   "outputs": [],
   "source": [
    "# You are interested in the average causal effect P(two_year_recid = 1|do(race = 0)) − P(two_year_recid = 1|do(race = 1)),\n",
    "# where two_year_recid=1 represents recidivism, \n",
    "# race=0 represents \"African-American\" \n",
    "# race=0 represents \"Caucasian\" "
   ]
  },
  {
   "cell_type": "code",
   "execution_count": 9,
   "metadata": {},
   "outputs": [
    {
     "name": "stdout",
     "output_type": "stream",
     "text": [
      "-0.0018000000000000056 0.10852999585368094\n"
     ]
    },
    {
     "data": {
      "text/plain": [
       "(array([ 1.,  0.,  4., 10., 23., 15., 18., 17.,  6.,  6.]),\n",
       " array([-0.34 , -0.282, -0.224, -0.166, -0.108, -0.05 ,  0.008,  0.066,\n",
       "         0.124,  0.182,  0.24 ]),\n",
       " <a list of 10 Patch objects>)"
      ]
     },
     "execution_count": 9,
     "metadata": {},
     "output_type": "execute_result"
    },
    {
     "data": {
      "image/png": "[encoded data removed]",
      "text/plain": [
       "<Figure size 432x288 with 1 Axes>"
      ]
     },
     "metadata": {
      "needs_background": "light"
     },
     "output_type": "display_data"
    }
   ],
   "source": [
    "ls = []\n",
    "for run in range(100):\n",
    "    num_sample = 100\n",
    "    P_y1_do = {}\n",
    "    for x in [0,1]:\n",
    "        do_model = pyro.do(model, data={ 'race': torch.tensor( x )  })\n",
    "        posterior = pyro.infer.Importance(do_model, num_samples=num_sample).run()\n",
    "        marginal = pyro.infer.EmpiricalMarginal(posterior, \"two_year_recid\") \n",
    "        samples = np.array([marginal().item() for _ in range(num_sample)])\n",
    "        e_unique, e_counts = np.unique(samples, return_counts=True)\n",
    "        dic = dict( zip(e_unique, e_counts) )\n",
    "        P_y1_do[ x ] = dic[ 1 ] / num_sample\n",
    "    diff = P_y1_do[0] - P_y1_do[1]\n",
    "    ls += [ diff ]\n",
    "print(np.mean(ls), np.std(ls))\n",
    "plt.hist(ls) "
   ]
  },
  {
   "cell_type": "markdown",
   "metadata": {},
   "source": [
    "### Counterfactual fairness"
   ]
  },
  {
   "cell_type": "code",
   "execution_count": 10,
   "metadata": {},
   "outputs": [],
   "source": [
    "# P(two_year_recid race=0 = 1|race = 1,two_year_recid = 0)"
   ]
  },
  {
   "cell_type": "code",
   "execution_count": 11,
   "metadata": {},
   "outputs": [
    {
     "data": {
      "text/plain": [
       "(array([ 4.,  7.,  9., 16., 26., 15.,  9.,  9.,  4.,  1.]),\n",
       " array([0.35 , 0.375, 0.4  , 0.425, 0.45 , 0.475, 0.5  , 0.525, 0.55 ,\n",
       "        0.575, 0.6  ]),\n",
       " <a list of 10 Patch objects>)"
      ]
     },
     "execution_count": 11,
     "metadata": {},
     "output_type": "execute_result"
    },
    {
     "data": {
      "image/png": "[encoded data removed]",
      "text/plain": [
       "<Figure size 432x288 with 1 Axes>"
      ]
     },
     "metadata": {
      "needs_background": "light"
     },
     "output_type": "display_data"
    }
   ],
   "source": [
    "num_sample = 100\n",
    "conditioned_model = pyro.condition(model, data = {\"race\": torch.tensor(1), \"two_year_recid\": torch.tensor(0)})\n",
    "posterior = pyro.infer.Importance(conditioned_model, num_samples=num_sample).run()\n",
    "ls = []\n",
    "for run in range(100):\n",
    "    z = 0\n",
    "    for _ in range(num_sample):\n",
    "        trace = posterior()\n",
    "        s = trace.nodes['sex']['value']\n",
    "        a = trace.nodes['age_cat']['value']\n",
    "        c = trace.nodes['c_charge_degree']['value']\n",
    "        do_model = pyro.do(model, data = {\"race\": torch.tensor(0)})\n",
    "        counterfactual_model = pyro.condition(do_model, data = {'sex': s,'age_cat': a, 'c_charge_degree': c })\n",
    "        trace_counterfactual = pyro.poutine.trace(counterfactual_model)\n",
    "        trace = trace_counterfactual.get_trace()\n",
    "        z += trace.nodes['two_year_recid']['value']\n",
    "    ls += [ float(z)/num_sample ]\n",
    "plt.hist(ls) "
   ]
  },
  {
   "cell_type": "code",
   "execution_count": 12,
   "metadata": {},
   "outputs": [],
   "source": [
    "# P(two_year_recid race=1 = 1|race = 0,two_year_recid = 1)"
   ]
  },
  {
   "cell_type": "code",
   "execution_count": 13,
   "metadata": {},
   "outputs": [
    {
     "data": {
      "text/plain": [
       "(array([ 5.,  2., 11.,  8., 10., 20., 13., 18.,  6.,  7.]),\n",
       " array([0.36 , 0.381, 0.402, 0.423, 0.444, 0.465, 0.486, 0.507, 0.528,\n",
       "        0.549, 0.57 ]),\n",
       " <a list of 10 Patch objects>)"
      ]
     },
     "execution_count": 13,
     "metadata": {},
     "output_type": "execute_result"
    },
    {
     "data": {
      "image/png": "[encoded data removed]",
      "text/plain": [
       "<Figure size 432x288 with 1 Axes>"
      ]
     },
     "metadata": {
      "needs_background": "light"
     },
     "output_type": "display_data"
    }
   ],
   "source": [
    "num_sample = 100\n",
    "conditioned_model = pyro.condition(model, data = {\"race\": torch.tensor(0), \"two_year_recid\": torch.tensor(1)})\n",
    "posterior = pyro.infer.Importance(conditioned_model, num_samples=num_sample).run()\n",
    "ls = []\n",
    "for run in range(100):\n",
    "    z = 0\n",
    "    for _ in range(num_sample):\n",
    "        trace = posterior()\n",
    "        s = trace.nodes['sex']['value']\n",
    "        a = trace.nodes['age_cat']['value']\n",
    "        c = trace.nodes['c_charge_degree']['value']\n",
    "        do_model = pyro.do(model, data = {\"race\": torch.tensor(1)})\n",
    "        counterfactual_model = pyro.condition(do_model, data = {'sex': s,'age_cat': a, 'c_charge_degree': c })\n",
    "        trace_counterfactual = pyro.poutine.trace(counterfactual_model)\n",
    "        trace = trace_counterfactual.get_trace()\n",
    "        z += trace.nodes['two_year_recid']['value']\n",
    "    ls += [ float(z)/num_sample ]\n",
    "plt.hist(ls) "
   ]
  }
 ],
 "metadata": {
  "kernelspec": {
   "display_name": "Python 3",
   "language": "python",
   "name": "python3"
  },
  "language_info": {
   "codemirror_mode": {
    "name": "ipython",
    "version": 3
   },
   "file_extension": ".py",
   "mimetype": "text/x-python",
   "name": "python",
   "nbconvert_exporter": "python",
   "pygments_lexer": "ipython3",
   "version": "3.7.7"
  }
 },
 "nbformat": 4,
 "nbformat_minor": 4
}
