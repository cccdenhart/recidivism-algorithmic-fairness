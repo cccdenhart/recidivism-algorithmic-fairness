{
 "cells": [
  {
   "cell_type": "code",
   "execution_count": 9,
   "metadata": {},
   "outputs": [],
   "source": [
    "import matplotlib.pyplot as plt\n",
    "import torch\n",
    "import pyro\n",
    "import pyro.distributions as dist\n",
    "import numpy as np\n",
    "import pandas as pd\n",
    "from sklearn.metrics import confusion_matrix,roc_auc_score,accuracy_score\n",
    "%matplotlib inline\n",
    "\n",
    "pyro.set_rng_seed(42)"
   ]
  },
  {
   "cell_type": "code",
   "execution_count": 2,
   "metadata": {},
   "outputs": [
    {
     "name": "stdout",
     "output_type": "stream",
     "text": [
      "['African-American', 'Caucasian']\n"
     ]
    },
    {
     "data": {
      "text/plain": [
       "tensor([0.5999, 0.4001])"
      ]
     },
     "execution_count": 2,
     "metadata": {},
     "output_type": "execute_result"
    }
   ],
   "source": [
    "# race\n",
    "df = pd.read_csv('model1_race.csv')\n",
    "race_alias = list(df['Var1'])\n",
    "race_prob = torch.tensor(list(df['Freq']) )\n",
    "print(race_alias)\n",
    "race_prob"
   ]
  },
  {
   "cell_type": "code",
   "execution_count": 3,
   "metadata": {},
   "outputs": [
    {
     "name": "stdout",
     "output_type": "stream",
     "text": [
      "['Female', 'Male']\n"
     ]
    },
    {
     "data": {
      "text/plain": [
       "tensor([0.1992, 0.8008])"
      ]
     },
     "execution_count": 3,
     "metadata": {},
     "output_type": "execute_result"
    }
   ],
   "source": [
    "# sex\n",
    "df = pd.read_csv('model1_sex.csv')\n",
    "sex_alias = list(df['Var1'])\n",
    "sex_prob = torch.tensor(list(df['Freq']) )\n",
    "print(sex_alias)\n",
    "sex_prob"
   ]
  },
  {
   "cell_type": "code",
   "execution_count": 4,
   "metadata": {},
   "outputs": [
    {
     "name": "stdout",
     "output_type": "stream",
     "text": [
      "['25 - 45', 'Greater than 45', 'Less than 25']\n"
     ]
    },
    {
     "data": {
      "text/plain": [
       "tensor([0.5701, 0.2182, 0.2117])"
      ]
     },
     "execution_count": 4,
     "metadata": {},
     "output_type": "execute_result"
    }
   ],
   "source": [
    "# age_cat\n",
    "df = pd.read_csv('model1_age_cat.csv')\n",
    "age_cat_alias = list(df['Var1'])\n",
    "age_cat_prob = torch.tensor(list(df['Freq']) )\n",
    "print(age_cat_alias)\n",
    "age_cat_prob"
   ]
  },
  {
   "cell_type": "code",
   "execution_count": 5,
   "metadata": {},
   "outputs": [
    {
     "name": "stdout",
     "output_type": "stream",
     "text": [
      "['F', 'M']\n"
     ]
    },
    {
     "data": {
      "text/plain": [
       "tensor([[[[0.6329, 0.3671],\n",
       "          [0.7273, 0.2727],\n",
       "          [0.6488, 0.3512]],\n",
       "\n",
       "         [[0.6787, 0.3213],\n",
       "          [0.6518, 0.3482],\n",
       "          [0.7722, 0.2278]]],\n",
       "\n",
       "\n",
       "        [[[0.5728, 0.4272],\n",
       "          [0.4795, 0.5205],\n",
       "          [0.5632, 0.4368]],\n",
       "\n",
       "         [[0.6294, 0.3706],\n",
       "          [0.5663, 0.4337],\n",
       "          [0.6970, 0.3030]]]])"
      ]
     },
     "execution_count": 5,
     "metadata": {},
     "output_type": "execute_result"
    }
   ],
   "source": [
    "# c_charge_degree\n",
    "df = pd.read_csv('model1_c_charge_degree.csv')\n",
    "c_charge_degree_alias = list(set( df['c_charge_degree'] ))\n",
    "\n",
    "dic = {}\n",
    "for index, row in df.iterrows():\n",
    "    dic[(row['race'], row['sex'],row['age_cat'],row['c_charge_degree'])] = row['Freq']\n",
    "l0 = []\n",
    "for r in race_alias:\n",
    "    l1 = []\n",
    "    for s in sex_alias:\n",
    "        l2 = []\n",
    "        for a in age_cat_alias:\n",
    "            l3 = []\n",
    "            for c in c_charge_degree_alias:            \n",
    "                l3 += [ dic[r,s,a,c] ]\n",
    "            l2 +=  [ l3 ]\n",
    "        l1 += [ l2 ]\n",
    "    l0 += [ l1 ]\n",
    "\n",
    "c_charge_degree_probs = torch.tensor( l0 )\n",
    "\n",
    "print(c_charge_degree_alias)\n",
    "c_charge_degree_probs"
   ]
  },
  {
   "cell_type": "code",
   "execution_count": 6,
   "metadata": {},
   "outputs": [
    {
     "name": "stdout",
     "output_type": "stream",
     "text": [
      "[0, 1]\n"
     ]
    },
    {
     "data": {
      "text/plain": [
       "tensor([[0.5010, 0.4990],\n",
       "        [0.6015, 0.3985]])"
      ]
     },
     "execution_count": 6,
     "metadata": {},
     "output_type": "execute_result"
    }
   ],
   "source": [
    "# two_year_recid\n",
    "df = pd.read_csv('model1_two_year_recid.csv')\n",
    "two_year_recid_alias = list(df['Unnamed: 0'])\n",
    "\n",
    "l = []\n",
    "for e in c_charge_degree_alias:\n",
    "    l += [ list( df[e] )  ]\n",
    "two_year_recid_probs = torch.tensor( l )\n",
    "\n",
    "print(two_year_recid_alias)\n",
    "two_year_recid_probs"
   ]
  },
  {
   "cell_type": "code",
   "execution_count": 7,
   "metadata": {},
   "outputs": [],
   "source": [
    "def model():\n",
    "    race = pyro.sample(\"race\", dist.Categorical( race_prob )) \n",
    "    sex = pyro.sample(\"sex\", dist.Categorical( sex_prob )) \n",
    "    age_cat = pyro.sample(\"age_cat\", dist.Categorical( age_cat_prob )) \n",
    "    c_charge_degree = pyro.sample(\"c_charge_degree\", dist.Categorical(c_charge_degree_probs[race][sex][age_cat]))\n",
    "    two_year_recid = pyro.sample(\"two_year_recid\", dist.Categorical(two_year_recid_probs[c_charge_degree]))\n"
   ]
  },
  {
   "cell_type": "code",
   "execution_count": 10,
   "metadata": {},
   "outputs": [
    {
     "name": "stdout",
     "output_type": "stream",
     "text": [
      "0\n",
      "1\n",
      "2\n",
      "3\n",
      "4\n",
      "5\n",
      "6\n",
      "7\n",
      "8\n",
      "9\n",
      "10\n",
      "11\n",
      "12\n",
      "False positive rate (Black)      :  0.46119486320491343\n",
      "False negative rate (Black)      :  0.5255863539445629\n",
      "Accuracy (Black)      :   0.5058631033542406\n",
      "AUC (Black)      :   0.5066093914252618\n",
      "\n",
      "False positive rate (White)      :  0.45956873315363883\n",
      "False negative rate (White)      :  0.5093555093555093\n",
      "Accuracy (White)      :   0.5208503679476697\n",
      "AUC (White)      :   0.5155378787454259\n",
      "\n",
      "False positive rate Gap: 0.001626130051274599\n",
      "False negative rate Gap: 0.01623084458905355\n"
     ]
    }
   ],
   "source": [
    "df = pd.read_csv('compas-scores-two-years_short.csv')\n",
    "\n",
    "truth = []\n",
    "preds = []\n",
    "num_sample = 10\n",
    "for index, row in df.iterrows():\n",
    "    r = race_alias.index( row['race'] ) \n",
    "    s = sex_alias.index( row['sex'] ) \n",
    "    a = age_cat_alias.index( row['age_cat'] ) \n",
    "    c = c_charge_degree_alias.index( row['c_charge_degree'] ) \n",
    "    t = two_year_recid_alias.index( row['two_year_recid'] ) \n",
    "    conditioned_model = pyro.condition(model, data = {\"race\": torch.tensor( r ),\n",
    "                                                      \"sex\": torch.tensor( s ),\n",
    "                                                      \"age_cat\": torch.tensor( a ),\n",
    "                                                      \"c_charge_degree\": torch.tensor( c )\n",
    "                                                     })\n",
    "    posterior = pyro.infer.Importance(conditioned_model, num_samples=num_sample).run()\n",
    "    trace = posterior()\n",
    "    pred = int(trace.nodes['two_year_recid']['value'])\n",
    "    truth += [ t ]\n",
    "    preds += [ pred ]\n",
    "    if ((index%500)==0):\n",
    "        print(index//500)\n",
    "truth = np.array(truth)\n",
    "preds = np.array(preds)\n",
    "\n",
    "# score for Black defendants\n",
    "y_test_ = truth[ df['race']=='African-American' ]\n",
    "y_pred_ = preds[ df['race']=='African-American' ]\n",
    "[[tn , fp],[fn , tp]]  = confusion_matrix(y_test_, y_pred_)\n",
    "print(\"False positive rate (Black)      : \", fp/(fp+tn))\n",
    "print(\"False negative rate (Black)      : \", fn/(fn+tp))\n",
    "print(\"Accuracy (Black)      :  \", accuracy_score(y_test_, y_pred_) )\n",
    "print(\"AUC (Black)      :  \", roc_auc_score(y_test_, y_pred_) )\n",
    "\n",
    "fpr_black = fp/(fp+tn)\n",
    "fnr_black =  fn/(fn+tp)\n",
    "\n",
    "# score for White defendants\n",
    "y_test_ = truth[ df['race']=='Caucasian' ]\n",
    "y_pred_ = preds[ df['race']=='Caucasian' ]\n",
    "[[tn , fp],[fn , tp]]  = confusion_matrix(y_test_, y_pred_)\n",
    "print(\"\\nFalse positive rate (White)      : \", fp/(fp+tn))\n",
    "print(\"False negative rate (White)      : \", fn/(fn+tp))\n",
    "print(\"Accuracy (White)      :  \", accuracy_score(y_test_, y_pred_) )\n",
    "print(\"AUC (White)      :  \", roc_auc_score(y_test_, y_pred_) )\n",
    "\n",
    "fpr_white = fp/(fp+tn)\n",
    "fnr_white =  fn/(fn+tp)\n",
    "\n",
    "print('\\nFalse positive rate Gap:', abs(fpr_black-fpr_white))\n",
    "print('False negative rate Gap:', abs(fnr_black-fnr_white))"
   ]
  },
  {
   "cell_type": "markdown",
   "metadata": {},
   "source": [
    "### Intervention"
   ]
  },
  {
   "cell_type": "code",
   "execution_count": 8,
   "metadata": {},
   "outputs": [],
   "source": [
    "# You are interested in the average causal effect P(two_year_recid = 1|do(race = 0)) − P(two_year_recid = 1|do(race = 1)),\n",
    "# where two_year_recid=1 represents recidivism, \n",
    "# race=0 represents \"African-American\" \n",
    "# race=0 represents \"Caucasian\" "
   ]
  },
  {
   "cell_type": "code",
   "execution_count": 9,
   "metadata": {},
   "outputs": [
    {
     "data": {
      "text/plain": [
       "(array([ 1.,  0.,  4.,  7., 20., 19., 18., 19.,  6.,  6.]),\n",
       " array([-0.34 , -0.282, -0.224, -0.166, -0.108, -0.05 ,  0.008,  0.066,\n",
       "         0.124,  0.182,  0.24 ]),\n",
       " <a list of 10 Patch objects>)"
      ]
     },
     "execution_count": 9,
     "metadata": {},
     "output_type": "execute_result"
    },
    {
     "data": {
      "image/png": "[encoded data removed]",
      "text/plain": [
       "<Figure size 432x288 with 1 Axes>"
      ]
     },
     "metadata": {
      "needs_background": "light"
     },
     "output_type": "display_data"
    }
   ],
   "source": [
    "ls = []\n",
    "for run in range(100):\n",
    "    num_sample = 100\n",
    "    P_y1_do = {}\n",
    "    for x in [0,1]:\n",
    "        do_model = pyro.do(model, data={ 'race': torch.tensor( x )  })\n",
    "        posterior = pyro.infer.Importance(do_model, num_samples=num_sample).run()\n",
    "        marginal = pyro.infer.EmpiricalMarginal(posterior, \"two_year_recid\") \n",
    "        samples = np.array([marginal().item() for _ in range(num_sample)])\n",
    "        e_unique, e_counts = np.unique(samples, return_counts=True)\n",
    "        dic = dict( zip(e_unique, e_counts) )\n",
    "        P_y1_do[ x ] = dic[ 1 ] / num_sample\n",
    "    diff = P_y1_do[0] - P_y1_do[1]\n",
    "    ls += [ diff ]\n",
    "plt.hist(ls) "
   ]
  },
  {
   "cell_type": "markdown",
   "metadata": {},
   "source": [
    "### Counterfactual fairness"
   ]
  },
  {
   "cell_type": "code",
   "execution_count": 10,
   "metadata": {},
   "outputs": [],
   "source": [
    "# P(two_year_recid race=0 = 1|race = 1,two_year_recid = 0)"
   ]
  },
  {
   "cell_type": "code",
   "execution_count": 11,
   "metadata": {},
   "outputs": [
    {
     "data": {
      "text/plain": [
       "(array([ 3.,  4., 10., 17., 14., 25., 15.,  7.,  3.,  2.]),\n",
       " array([0.33 , 0.356, 0.382, 0.408, 0.434, 0.46 , 0.486, 0.512, 0.538,\n",
       "        0.564, 0.59 ]),\n",
       " <a list of 10 Patch objects>)"
      ]
     },
     "execution_count": 11,
     "metadata": {},
     "output_type": "execute_result"
    },
    {
     "data": {
      "image/png": "[encoded data removed]",
      "text/plain": [
       "<Figure size 432x288 with 1 Axes>"
      ]
     },
     "metadata": {
      "needs_background": "light"
     },
     "output_type": "display_data"
    }
   ],
   "source": [
    "num_sample = 100\n",
    "conditioned_model = pyro.condition(model, data = {\"race\": torch.tensor(1), \"two_year_recid\": torch.tensor(0)})\n",
    "posterior = pyro.infer.Importance(conditioned_model, num_samples=num_sample).run()\n",
    "ls = []\n",
    "for run in range(100):\n",
    "    z = 0\n",
    "    for _ in range(num_sample):\n",
    "        trace = posterior()\n",
    "        s = trace.nodes['sex']['value']\n",
    "        a = trace.nodes['age_cat']['value']\n",
    "        c = trace.nodes['c_charge_degree']['value']\n",
    "        do_model = pyro.do(model, data = {\"race\": torch.tensor(0)})\n",
    "        counterfactual_model = pyro.condition(do_model, data = {'sex': s,'age_cat': a, 'c_charge_degree': c })\n",
    "        trace_counterfactual = pyro.poutine.trace(counterfactual_model)\n",
    "        trace = trace_counterfactual.get_trace()\n",
    "        z += trace.nodes['two_year_recid']['value']\n",
    "    ls += [ float(z)/num_sample ]\n",
    "plt.hist(ls) "
   ]
  }
 ],
 "metadata": {
  "kernelspec": {
   "display_name": "Python 3",
   "language": "python",
   "name": "python3"
  },
  "language_info": {
   "codemirror_mode": {
    "name": "ipython",
    "version": 3
   },
   "file_extension": ".py",
   "mimetype": "text/x-python",
   "name": "python",
   "nbconvert_exporter": "python",
   "pygments_lexer": "ipython3",
   "version": "3.7.3"
  }
 },
 "nbformat": 4,
 "nbformat_minor": 4
}
