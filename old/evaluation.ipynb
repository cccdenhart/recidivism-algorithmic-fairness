{
 "cells": [
  {
   "cell_type": "markdown",
   "metadata": {},
   "source": [
    "# Fairness Evaluation of Causal Structural Models\n",
    "- 1) Mediation Decomposition of Total Effects between Natural Direct and Natural Indirect\n",
    "- 2) Counterfactual Fairness\n",
    "- 3) Conditional Fairness"
   ]
  },
  {
   "cell_type": "code",
   "execution_count": 119,
   "metadata": {},
   "outputs": [],
   "source": [
    "import matplotlib.pyplot as plt\n",
    "import torch\n",
    "import pyro\n",
    "import numpy as np\n",
    "import pyro.distributions as dist\n",
    "pyro.set_rng_seed(14)"
   ]
  },
  {
   "cell_type": "code",
   "execution_count": 112,
   "metadata": {},
   "outputs": [
    {
     "name": "stdout",
     "output_type": "stream",
     "text": [
      "{'Z': tensor(1), 'X': tensor(0), 'Y': tensor(1)}\n",
      "{'Z': tensor(0), 'X': tensor(1), 'Y': tensor(1)}\n",
      "{'Z': tensor(1), 'X': tensor(0), 'Y': tensor(1)}\n",
      "{'Z': tensor(1), 'X': tensor(0), 'Y': tensor(1)}\n",
      "{'Z': tensor(0), 'X': tensor(1), 'Y': tensor(0)}\n",
      "{'Z': tensor(0), 'X': tensor(1), 'Y': tensor(1)}\n",
      "{'Z': tensor(0), 'X': tensor(0), 'Y': tensor(1)}\n",
      "{'Z': tensor(0), 'X': tensor(1), 'Y': tensor(0)}\n",
      "{'Z': tensor(0), 'X': tensor(1), 'Y': tensor(0)}\n",
      "{'Z': tensor(0), 'X': tensor(1), 'Y': tensor(1)}\n"
     ]
    }
   ],
   "source": [
    "def model():\n",
    "    \"\"\"Z -> (X & Y), X -> Y\"\"\"\n",
    "    # Z\n",
    "    prob_Z = pyro.sample(\"Z\",\n",
    "    dist.Categorical(torch.tensor(\n",
    "        [35641/70000 # unhappy\n",
    "        , 34359/70000 # happy\n",
    "    ])))\n",
    "    \n",
    "    # X\n",
    "    tensor_X = torch.tensor([\n",
    "    [8769/35641, 26872/35641] # unhappy\n",
    "    ,[26231/34359, 8128/34359] # happy\n",
    "    ])\n",
    "    # P(X = 0) is promotion 0 \n",
    "    # P(X = 1) is promotion 1\n",
    "    prob_X = pyro.sample(\"X\",\n",
    "    dist.Categorical(tensor_X[prob_Z])\n",
    "                        )\n",
    "    \n",
    "    # Y\n",
    "    tensor_Y = torch.tensor([\n",
    "    # P(X = 0)\n",
    "    [[.068 , .932] # P(Z = unhappy)\n",
    "    ,[ .267, .733] # P(Z = happy)\n",
    "    ],\n",
    "    # P(X = 1\n",
    "    [[.131 , .869] # P(Z = unhappy)\n",
    "    ,[.313 , .687] # P(Z = happy)\n",
    "    ]\n",
    "    ])\n",
    "    #p(Y=0) is not renew\n",
    "    #p(Y=1) is renew\n",
    "    prob_Y = pyro.sample(\"Y\",\n",
    "    dist.Categorical(tensor_Y[prob_X][prob_Z]))\n",
    "    \n",
    "    return({'Z': prob_Z,'X': prob_X,'Y': prob_Y})\n",
    "\n",
    "for _ in range(10):\n",
    "    print(q_2_1_model())"
   ]
  },
  {
   "cell_type": "code",
   "execution_count": 57,
   "metadata": {},
   "outputs": [
    {
     "data": {
      "text/plain": [
       "0.932"
      ]
     },
     "execution_count": 57,
     "metadata": {},
     "output_type": "execute_result"
    }
   ],
   "source": [
    "def cond_do_calc(model, cond_dict, do_dict, num_samples=2000):\n",
    "    \"\"\"Return P(Y=1) for conditional and do calculus\"\"\"\n",
    "    conditioned_model = pyro.condition(model,\n",
    "       data = cond_dict)\n",
    "\n",
    "\n",
    "    cf_model = pyro.do(conditioned_model, do_dict)\n",
    "\n",
    "    posterior = pyro.infer.Importance(cf_model,\n",
    "        num_samples=num_samples).run()\n",
    "    marginal = pyro.infer.EmpiricalMarginal(posterior, \"Y\") \n",
    "    a_samples = np.array(\n",
    "        [marginal().item() for _ in range(num_samples)])\n",
    "    _, a_counts = np.unique(a_samples,\n",
    "        return_counts=True)\n",
    "    a_marg = a_counts / sum(a_counts)\n",
    "    return(a_marg[1])\n",
    "cond_dict = {\"X\": torch.tensor(0) }\n",
    "do_dict = {'Z': torch.tensor(0)}\n",
    "cond_do_calc(model, cond_dict, do_dict)"
   ]
  },
  {
   "cell_type": "code",
   "execution_count": 58,
   "metadata": {},
   "outputs": [
    {
     "data": {
      "text/plain": [
       "0.854"
      ]
     },
     "execution_count": 58,
     "metadata": {},
     "output_type": "execute_result"
    }
   ],
   "source": [
    "def do_calc(model, do_dict, num_samples= 2000):\n",
    "    \"\"\"Return P(Y=1) for do calculus\"\"\"\n",
    "    interv_model = pyro.do(model, do_dict)\n",
    "\n",
    "\n",
    "    samples = [interv_model()['Y'] for _ in range(num_samples)]\n",
    "    unique, counts = np.unique(samples, return_counts=True)\n",
    "    marg_do_0 = counts / sum(counts)\n",
    "    return(marg_do_0[1])\n",
    "\n",
    "do_calc(model, do_dict={'X': torch.tensor(0)})"
   ]
  },
  {
   "cell_type": "code",
   "execution_count": 113,
   "metadata": {},
   "outputs": [
    {
     "data": {
      "text/plain": [
       "0.7855"
      ]
     },
     "execution_count": 113,
     "metadata": {},
     "output_type": "execute_result"
    }
   ],
   "source": [
    "def cond_calc(model, conditional_dict = None, target = 'Y', num_samples = 2000):\n",
    "    \"\"\"Return P(Y=1) for conditional\"\"\"\n",
    "    if conditional_dict is not None:\n",
    "        model = pyro.condition(model, data = conditional_dict)\n",
    "    posterior = pyro.infer.Importance(model,\n",
    "        num_samples=num_samples).run()\n",
    "    marginal = pyro.infer.EmpiricalMarginal(posterior, target) \n",
    "    samples = np.array(\n",
    "        [marginal().item() for _ in range(num_samples)])\n",
    "    _, counts = np.unique(samples,\n",
    "        return_counts=True)\n",
    "    marg = counts / sum(counts)\n",
    "    return(marg[1])\n",
    "cond_calc(model,{'X': torch.tensor(0)})"
   ]
  },
  {
   "cell_type": "markdown",
   "metadata": {},
   "source": [
    "# 1) Mediation Decomposition of Average Total Effects\n",
    "Source: https://altdeep.teachable.com/courses/747278/lectures/17762491\n",
    "## Average Total Effects\n",
    "- E(Y|do(Z=1)) - E(Y|do(Z=0)"
   ]
  },
  {
   "cell_type": "code",
   "execution_count": 60,
   "metadata": {},
   "outputs": [
    {
     "data": {
      "text/plain": [
       "0.739"
      ]
     },
     "execution_count": 60,
     "metadata": {},
     "output_type": "execute_result"
    }
   ],
   "source": [
    "p_y_do_z_1 = do_calc(model, {'Z': torch.tensor(1)})\n",
    "p_y_do_z_1"
   ]
  },
  {
   "cell_type": "code",
   "execution_count": 61,
   "metadata": {},
   "outputs": [
    {
     "data": {
      "text/plain": [
       "0.888"
      ]
     },
     "execution_count": 61,
     "metadata": {},
     "output_type": "execute_result"
    }
   ],
   "source": [
    "p_y_do_z_0 = do_calc(model, {'Z': torch.tensor(0)})\n",
    "p_y_do_z_0"
   ]
  },
  {
   "cell_type": "code",
   "execution_count": 88,
   "metadata": {},
   "outputs": [
    {
     "data": {
      "text/plain": [
       "-0.14900000000000002"
      ]
     },
     "execution_count": 88,
     "metadata": {},
     "output_type": "execute_result"
    }
   ],
   "source": [
    "ate = p_y_do_z_1 - p_y_do_z_0\n",
    "ate"
   ]
  },
  {
   "cell_type": "markdown",
   "metadata": {},
   "source": [
    "## Controlled Direct Effects"
   ]
  },
  {
   "cell_type": "code",
   "execution_count": 130,
   "metadata": {},
   "outputs": [
    {
     "data": {
      "text/plain": [
       "-0.21100000000000008"
      ]
     },
     "execution_count": 130,
     "metadata": {},
     "output_type": "execute_result"
    }
   ],
   "source": [
    "# E(Y|do(Z=1), x=0) - E(Y|do(Z=0), x=0)\n",
    "cond_do_calc(model, cond_dict={\"X\": torch.tensor(0) }, do_dict ={'Z': torch.tensor(1)}) - cond_do_calc(model, cond_dict={\"X\": torch.tensor(0) }, do_dict={'Z': torch.tensor(0)})"
   ]
  },
  {
   "cell_type": "code",
   "execution_count": 131,
   "metadata": {},
   "outputs": [
    {
     "data": {
      "text/plain": [
       "-0.17300000000000004"
      ]
     },
     "execution_count": 131,
     "metadata": {},
     "output_type": "execute_result"
    }
   ],
   "source": [
    "# E(Y|do(Z=1), x=1) - E(Y|do(Z=0), x=1)\n",
    "cond_do_calc(model, cond_dict={\"X\": torch.tensor(1) }, do_dict ={'Z': torch.tensor(1)}) - cond_do_calc(model, cond_dict={\"X\": torch.tensor(1) }, do_dict={'Z': torch.tensor(0)})"
   ]
  },
  {
   "cell_type": "markdown",
   "metadata": {},
   "source": [
    "The controlled direct effects indicate that as Z changes from 0 to 1, Y is more likely to change from 0 to 1"
   ]
  },
  {
   "cell_type": "markdown",
   "metadata": {},
   "source": [
    "## Natural Direct Effects\n",
    "(Not Correct)"
   ]
  },
  {
   "cell_type": "markdown",
   "metadata": {},
   "source": [
    "- When Z = 1\n",
    "E(Y|(X = 1), do(Z = 1)) - E(Y|(X = 1), do(Z = 0))"
   ]
  },
  {
   "cell_type": "code",
   "execution_count": 63,
   "metadata": {},
   "outputs": [
    {
     "data": {
      "text/plain": [
       "-0.891"
      ]
     },
     "execution_count": 63,
     "metadata": {},
     "output_type": "execute_result"
    }
   ],
   "source": [
    "cond_do_calc(model\n",
    "            , cond_dict={'Z': torch.tensor(0)}\n",
    "            , do_dict={'Z': torch.tensor(1)}) \n",
    "- cond_do_calc(model\n",
    "                                                           , cond_dict={'Z': torch.tensor(0)}\n",
    "                                                           , do_dict={'Z': torch.tensor(0)})"
   ]
  },
  {
   "cell_type": "code",
   "execution_count": 80,
   "metadata": {},
   "outputs": [],
   "source": [
    "y_cond_x_1_do_z_1 = cond_do_calc(model\n",
    "            , cond_dict={'X': torch.tensor(1)}\n",
    "            , do_dict={'Z': torch.tensor(1)}, num_samples= 10000)\n",
    "y_cond_x_1_do_z_1"
   ]
  },
  {
   "cell_type": "code",
   "execution_count": 81,
   "metadata": {},
   "outputs": [
    {
     "data": {
      "text/plain": [
       "0.8709"
      ]
     },
     "execution_count": 81,
     "metadata": {},
     "output_type": "execute_result"
    }
   ],
   "source": [
    "y_cond_x_1_do_z_0 = cond_do_calc(model\n",
    "            , cond_dict={'X': torch.tensor(1)}\n",
    "            , do_dict={'Z': torch.tensor(0)}, num_samples= 10000)\n",
    "y_cond_x_1_do_z_0"
   ]
  },
  {
   "cell_type": "code",
   "execution_count": 82,
   "metadata": {},
   "outputs": [
    {
     "data": {
      "text/plain": [
       "0.7306"
      ]
     },
     "execution_count": 82,
     "metadata": {},
     "output_type": "execute_result"
    }
   ],
   "source": [
    "y_cond_x_0_do_z_1 = cond_do_calc(model\n",
    "            , cond_dict={'X': torch.tensor(0)}\n",
    "            , do_dict={'Z': torch.tensor(1)}, num_samples= 10000)\n",
    "y_cond_x_0_do_z_1"
   ]
  },
  {
   "cell_type": "code",
   "execution_count": 83,
   "metadata": {},
   "outputs": [
    {
     "data": {
      "text/plain": [
       "0.934"
      ]
     },
     "execution_count": 83,
     "metadata": {},
     "output_type": "execute_result"
    }
   ],
   "source": [
    "y_cond_x_0_do_z_0 = cond_do_calc(model\n",
    "            , cond_dict={'X': torch.tensor(0)}\n",
    "            , do_dict={'Z': torch.tensor(0)}, num_samples= 10000)\n",
    "y_cond_x_0_do_z_0"
   ]
  },
  {
   "cell_type": "code",
   "execution_count": 95,
   "metadata": {},
   "outputs": [
    {
     "data": {
      "text/plain": [
       "0.18300000000000005"
      ]
     },
     "execution_count": 95,
     "metadata": {},
     "output_type": "execute_result"
    }
   ],
   "source": [
    "nie_x_1 = (y_cond_x_1_do_z_1 - y_cond_x_1_do_z_0) * -1\n",
    "nie_x_1"
   ]
  },
  {
   "cell_type": "code",
   "execution_count": 96,
   "metadata": {},
   "outputs": [
    {
     "data": {
      "text/plain": [
       "0.20340000000000003"
      ]
     },
     "execution_count": 96,
     "metadata": {},
     "output_type": "execute_result"
    }
   ],
   "source": [
    "nie_x_0 = (y_cond_x_0_do_z_1 - y_cond_x_0_do_z_0) * -1\n",
    "nie_x_0"
   ]
  },
  {
   "cell_type": "markdown",
   "metadata": {},
   "source": [
    "## Mediation Formula Calculation\n",
    "(Not correct)"
   ]
  },
  {
   "cell_type": "code",
   "execution_count": 104,
   "metadata": {},
   "outputs": [
    {
     "name": "stdout",
     "output_type": "stream",
     "text": [
      "The overall, average total effect is -0.14900000000000002\n"
     ]
    }
   ],
   "source": [
    "print('The overall, average total effect is', ate )"
   ]
  },
  {
   "cell_type": "code",
   "execution_count": 105,
   "metadata": {},
   "outputs": [
    {
     "name": "stdout",
     "output_type": "stream",
     "text": [
      "The natural indirect effect when x is 1 is 0.18300000000000005\n"
     ]
    }
   ],
   "source": [
    "print('The natural indirect effect when x is 1 is', nie_x_1)"
   ]
  },
  {
   "cell_type": "code",
   "execution_count": 108,
   "metadata": {},
   "outputs": [
    {
     "name": "stdout",
     "output_type": "stream",
     "text": [
      "The natural direct effect when x is 1 is -0.3320000000000001\n"
     ]
    }
   ],
   "source": [
    "print('The natural direct effect when x is 1 is', ate - nie_x_1 )"
   ]
  },
  {
   "cell_type": "code",
   "execution_count": 109,
   "metadata": {},
   "outputs": [
    {
     "name": "stdout",
     "output_type": "stream",
     "text": [
      "The natural indirect effect when x is 0 is 0.20340000000000003\n"
     ]
    }
   ],
   "source": [
    "print('The natural indirect effect when x is 0 is', nie_x_0)"
   ]
  },
  {
   "cell_type": "code",
   "execution_count": 110,
   "metadata": {},
   "outputs": [
    {
     "name": "stdout",
     "output_type": "stream",
     "text": [
      "The natural direct effect when x is 0 is -0.35240000000000005\n"
     ]
    }
   ],
   "source": [
    "print('The natural direct effect when x is 0 is',  ate - nie_x_0 )"
   ]
  },
  {
   "cell_type": "markdown",
   "metadata": {},
   "source": [
    "Overall, when Z goes from 0 to 1, Y is more likely to be 0. This result primarily comes from an indirect effect from Z to X to Y. However, there is an opposite direct effect when Z goes from 0 to 1, the value of Y is more likely to be 1. This result is consistent across either values of X."
   ]
  },
  {
   "cell_type": "markdown",
   "metadata": {},
   "source": [
    "# 2) Counterfactual Fairness\n",
    "Source: https://proceedings.neurips.cc/paper/2017/file/a486cd07e4ac3d270571622f4f316ec5-Paper.pdf pg 3\n",
    "\n",
    "A model fair if changing a protected attribute with an intervention, the resulting value in the target will never change.\n",
    "\n",
    "\"Our definition of counterfactual fairness\n",
    "captures the intuition that a decision is fair towards an individual if it the same in\n",
    "(a) the actual world and (b) a counterfactual world where the individual belonged\n",
    "to a different demographic group. We demonstrate our framework on a real-world\n",
    "problem of fair prediction of success in law school.\" (Pg 1)\n",
    "\n",
    "\"In other words, changing A while holding\n",
    "things which are not causally dependent on A constant will not change the distribution of Y\" (Pg 3)"
   ]
  },
  {
   "cell_type": "code",
   "execution_count": 129,
   "metadata": {},
   "outputs": [
    {
     "data": {
      "text/plain": [
       "0.72131"
      ]
     },
     "execution_count": 129,
     "metadata": {},
     "output_type": "execute_result"
    }
   ],
   "source": [
    "do_calc(model, do_dict={'Z': torch.tensor(1)}, num_samples = 100000)"
   ]
  },
  {
   "cell_type": "code",
   "execution_count": 127,
   "metadata": {},
   "outputs": [
    {
     "data": {
      "text/plain": [
       "0.88305"
      ]
     },
     "execution_count": 127,
     "metadata": {},
     "output_type": "execute_result"
    }
   ],
   "source": [
    "do_calc(model, do_dict={'Z': torch.tensor(0)}, num_samples = 100000)"
   ]
  },
  {
   "cell_type": "code",
   "execution_count": 128,
   "metadata": {},
   "outputs": [
    {
     "data": {
      "text/plain": [
       "0.88316"
      ]
     },
     "execution_count": 128,
     "metadata": {},
     "output_type": "execute_result"
    }
   ],
   "source": [
    "do_calc(model, do_dict={'Z': torch.tensor(0)}, num_samples = 100000)"
   ]
  },
  {
   "cell_type": "markdown",
   "metadata": {},
   "source": [
    "There is a difference with results of interventions to make Z 1 or 0, so there is not counterfactual fairness between Z and Y. Counterfactual fairness involves individual cases, when since these statistics are calculated with generated data, there is at least one record where the value of Y changes. Regular variations in total results from the same SCM have the same value up to the third decimal point. There is a larger difference depending upon the intervention."
   ]
  },
  {
   "cell_type": "markdown",
   "metadata": {},
   "source": [
    "# 3) Conditional Fairness"
   ]
  },
  {
   "cell_type": "code",
   "execution_count": 138,
   "metadata": {},
   "outputs": [
    {
     "data": {
      "text/plain": [
       "0.7315"
      ]
     },
     "execution_count": 138,
     "metadata": {},
     "output_type": "execute_result"
    }
   ],
   "source": [
    "cond_calc(model, {'Z': torch.tensor(1)})"
   ]
  },
  {
   "cell_type": "code",
   "execution_count": 136,
   "metadata": {},
   "outputs": [
    {
     "data": {
      "text/plain": [
       "0.888"
      ]
     },
     "execution_count": 136,
     "metadata": {},
     "output_type": "execute_result"
    }
   ],
   "source": [
    "cond_calc(model, {'Z': torch.tensor(0)})"
   ]
  },
  {
   "cell_type": "markdown",
   "metadata": {},
   "source": [
    "In general, there are changes in Y as Z changes"
   ]
  },
  {
   "cell_type": "code",
   "execution_count": null,
   "metadata": {},
   "outputs": [],
   "source": []
  }
 ],
 "metadata": {
  "kernelspec": {
   "display_name": "Python 3",
   "language": "python",
   "name": "python3"
  },
  "language_info": {
   "codemirror_mode": {
    "name": "ipython",
    "version": 3
   },
   "file_extension": ".py",
   "mimetype": "text/x-python",
   "name": "python",
   "nbconvert_exporter": "python",
   "pygments_lexer": "ipython3",
   "version": "3.8.2"
  }
 },
 "nbformat": 4,
 "nbformat_minor": 4
}
