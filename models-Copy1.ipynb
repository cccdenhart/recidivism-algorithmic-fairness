{
 "cells": [
  {
   "cell_type": "markdown",
   "metadata": {},
   "source": [
    "# Causal Inference Modeling of COMPAS data\n",
    "\n",
    "### Criterion for Bias\n",
    "- 1) TP and TN Rate by Race\n",
    "- 2) Intervention by Race\n",
    "- 3) Counterfactual Fairness by Race\n",
    "- 4) Natural Direct Effects Identification of Race to Recitivism\n",
    "- 5) Natural Indirect Effects Identification of Race to Recitivism\n",
    "\n",
    "### 3 SCMs of Race towards Recitivism Predictions\n",
    "- 1) Indirect (Almost all expected, with some understandable results)\n",
    "    - 1) TP and TN Rate by Race (Expected: 1 - 3% difference between race is understndable, but non zero value is expected)\n",
    "    - 2) Intervention by Race (Expected: Small effect of around 5% is understandable, but not zero is expected)\n",
    "    - 3) Counterfactual Fairness by Race (Expected: Large of 43%)\n",
    "    - 4) Natural Direct Effects Identification of Race to Recitivism (Expected: No effect detected)\n",
    "    - 5) Natural Indirect Effects Identification of Race to Recitivism (Expected: -24% of White -> Will not Recommit)\n",
    "- 2) Direct (Expected)\n",
    "    - 1) TP and TN Rate by Race (Expected: Large bias)\n",
    "    - 2) Intervention by Race (Expected: Large around 10-15%)\n",
    "    - 3) Counterfactual Fairness by Race (Expected: Large around 50%)\n",
    "    - 4) Natural Direct Effects Identification of Race to Recitivism (Expected: Large value of -23%)\n",
    "    - 5) Natural Indirect Effects Identification of Race to Recitivism (Expected: Large value of -24%)\n",
    "- 3) Unaware (Expected, when natural indirect effect identification can likely be attributed to unobserved confoudner)\n",
    "    - 1) TP and TN Rate by Race (Expected: Low gap of 4-5% is expected due to in line with indirect, and expected from being non-zero)\n",
    "    - 2) Intervention by Race (Expected: No impact)\n",
    "    - 3) Counterfactual Fairness by Race (Expected, large impact of 50%)\n",
    "    - 4) Natural Direct Effects Identification of Race to Recitivism (Expected, no impact detected)\n",
    "    - 5) Natural Indirect Effects Identification of Race to Recitivism (Largely Expected: Large impact of -24% was detected. Likely due to unobserved confounder of race.)"
   ]
  },
  {
   "cell_type": "code",
   "execution_count": 228,
   "metadata": {},
   "outputs": [],
   "source": [
    "import matplotlib.pyplot as plt\n",
    "import torch\n",
    "import pyro\n",
    "import pyro.distributions as dist\n",
    "import numpy as np\n",
    "import pandas as pd\n",
    "import tqdm\n",
    "from sklearn.metrics import confusion_matrix,roc_auc_score,accuracy_score\n",
    "from statistics import mean\n",
    "\n",
    "%matplotlib inline\n",
    "\n",
    "pyro.set_rng_seed(42)"
   ]
  },
  {
   "cell_type": "code",
   "execution_count": 229,
   "metadata": {},
   "outputs": [],
   "source": [
    "def swap_value(x):\n",
    "    if x == 1:\n",
    "        return 0\n",
    "    elif x == 0:\n",
    "        return 1\n",
    "    else:\n",
    "        print('Error')"
   ]
  },
  {
   "cell_type": "markdown",
   "metadata": {},
   "source": [
    "# Data Import"
   ]
  },
  {
   "cell_type": "code",
   "execution_count": 230,
   "metadata": {},
   "outputs": [],
   "source": [
    "data_file_path = 'data/compas-scores-two-years-short.csv'"
   ]
  },
  {
   "cell_type": "markdown",
   "metadata": {},
   "source": [
    "# Model 1 - Indirect by Race + Gender"
   ]
  },
  {
   "cell_type": "markdown",
   "metadata": {},
   "source": [
    "### Read Model Parameters"
   ]
  },
  {
   "cell_type": "code",
   "execution_count": 231,
   "metadata": {},
   "outputs": [],
   "source": [
    "# race\n",
    "df = pd.read_csv('data/model1_race.csv')\n",
    "race_alias = list(df['Var1'])\n",
    "race_prob = torch.tensor(list(df['Freq']) )\n",
    "\n",
    "# sex\n",
    "df = pd.read_csv('data/model1_sex.csv')\n",
    "sex_alias = list(df['Var1'])\n",
    "sex_prob = torch.tensor(list(df['Freq']) )\n",
    "\n",
    "# age_cat\n",
    "df = pd.read_csv('data/model1_age_cat.csv')\n",
    "age_cat_alias = list(df['Var1'])\n",
    "age_cat_prob = torch.tensor(list(df['Freq']) )\n",
    "\n",
    "\n",
    "\n",
    "# priors_count\n",
    "df = pd.read_csv('data/model1_priors_count.csv')\n",
    "priors_count_alias = list(set( df['priors_count'] ))\n",
    "\n",
    "dic = {}\n",
    "for index, row in df.iterrows():\n",
    "    dic[(row['race'], row['sex'],row['age_cat'],row['priors_count'])] = row['Freq']\n",
    "l0 = []\n",
    "for r in race_alias:\n",
    "    l1 = []\n",
    "    for s in sex_alias:\n",
    "        l2 = []\n",
    "        for a in age_cat_alias:\n",
    "            l3 = []\n",
    "            for c in priors_count_alias:            \n",
    "                l3 += [ dic[r,s,a,c] ]\n",
    "            l2 +=  [ l3 ]\n",
    "        l1 += [ l2 ]\n",
    "    l0 += [ l1 ]\n",
    "\n",
    "priors_count_probs = torch.tensor( l0 )\n",
    "\n",
    "# two_year_recid\n",
    "df = pd.read_csv('data/model1_two_year_recid.csv')\n",
    "two_year_recid_alias = list(df['Unnamed: 0'])\n",
    "\n",
    "l = []\n",
    "for e in priors_count_alias:\n",
    "    l += [ list( df[e] )  ]\n",
    "two_year_recid_probs = torch.tensor( l )"
   ]
  },
  {
   "cell_type": "markdown",
   "metadata": {},
   "source": [
    "### Define Model"
   ]
  },
  {
   "cell_type": "code",
   "execution_count": 232,
   "metadata": {},
   "outputs": [],
   "source": [
    "def model():\n",
    "    race = pyro.sample(\"race\", dist.Categorical( race_prob )) \n",
    "    sex = pyro.sample(\"sex\", dist.Categorical( sex_prob )) \n",
    "    age_cat = pyro.sample(\"age_cat\", dist.Categorical( age_cat_prob )) \n",
    "    priors_count = pyro.sample(\"priors_count\", dist.Categorical(priors_count_probs[race][sex][age_cat]))\n",
    "    two_year_recid_prob = dist.Categorical(two_year_recid_probs[priors_count])\n",
    "    two_year_recid = pyro.sample(\"two_year_recid\", two_year_recid_prob)\n",
    "    return two_year_recid"
   ]
  },
  {
   "cell_type": "markdown",
   "metadata": {},
   "source": [
    "## Model 1 - a) Analysis by Race"
   ]
  },
  {
   "cell_type": "markdown",
   "metadata": {},
   "source": [
    "### TP vs FN Rate"
   ]
  },
  {
   "cell_type": "code",
   "execution_count": 7,
   "metadata": {
    "jupyter": {
     "outputs_hidden": true
    }
   },
   "outputs": [
    {
     "name": "stdout",
     "output_type": "stream",
     "text": [
      "0\n",
      "1\n",
      "2\n",
      "3\n",
      "4\n",
      "5\n",
      "6\n",
      "7\n",
      "8\n",
      "9\n",
      "10\n",
      "11\n",
      "12\n",
      "False positive rate (Black)      :  0.44549763033175355\n",
      "False negative rate (Black)      :  0.5047301057317752\n",
      "Accuracy (Black)      :   0.5257034632034632\n",
      "AUC (Black)      :   0.5248861319682356\n",
      "\n",
      "False positive rate (White)      :  0.4087912087912088\n",
      "False negative rate (White)      :  0.5151515151515151\n",
      "Accuracy (White)      :   0.5440097799511002\n",
      "AUC (White)      :   0.5380286380286381\n",
      "\n",
      "False positive rate Gap: 0.036706421540544765\n",
      "False negative rate Gap: 0.010421409419739902\n"
     ]
    }
   ],
   "source": [
    "df = pd.read_csv(data_file_path)\n",
    "\n",
    "truth = []\n",
    "preds = []\n",
    "num_sample = 10\n",
    "for index, row in df.iterrows():\n",
    "    r = race_alias.index( row['race'] ) \n",
    "    s = sex_alias.index( row['sex'] ) \n",
    "    a = age_cat_alias.index( row['age_cat'] ) \n",
    "    c = priors_count_alias.index( row['priors_count'] ) \n",
    "    t = two_year_recid_alias.index( row['two_year_recid'] ) \n",
    "    conditioned_model = pyro.condition(model, data = {\"race\": torch.tensor( r ),\n",
    "                                                      \"sex\": torch.tensor( s ),\n",
    "                                                      \"age_cat\": torch.tensor( a ),\n",
    "                                                      \"priors_count\": torch.tensor( c )\n",
    "                                                     })\n",
    "    posterior = pyro.infer.Importance(conditioned_model, num_samples=num_sample).run()\n",
    "    trace = posterior()\n",
    "    pred = int(trace.nodes['two_year_recid']['value'])\n",
    "    truth += [ conditioned_model() ]\n",
    "    preds += [ pred ]\n",
    "    #if ((index%500)==0):print(index//500)\n",
    "truth = np.array(truth)\n",
    "preds = np.array(preds)\n",
    "\n",
    "# score for Black defendants\n",
    "y_test_ = truth[ df['race']=='African-American' ]\n",
    "y_pred_ = preds[ df['race']=='African-American' ]\n",
    "[[tn , fp],[fn , tp]]  = confusion_matrix(y_test_, y_pred_)\n",
    "print(\"False positive rate (Black)      : \", fp/(fp+tn))\n",
    "print(\"False negative rate (Black)      : \", fn/(fn+tp))\n",
    "print(\"Accuracy (Black)      :  \", accuracy_score(y_test_, y_pred_) )\n",
    "print(\"AUC (Black)      :  \", roc_auc_score(y_test_, y_pred_) )\n",
    "\n",
    "fpr_black = fp/(fp+tn)\n",
    "fnr_black =  fn/(fn+tp)\n",
    "\n",
    "# score for White defendants\n",
    "y_test_ = truth[ df['race']=='Caucasian' ]\n",
    "y_pred_ = preds[ df['race']=='Caucasian' ]\n",
    "[[tn , fp],[fn , tp]]  = confusion_matrix(y_test_, y_pred_)\n",
    "print(\"\\nFalse positive rate (White)      : \", fp/(fp+tn))\n",
    "print(\"False negative rate (White)      : \", fn/(fn+tp))\n",
    "print(\"Accuracy (White)      :  \", accuracy_score(y_test_, y_pred_) )\n",
    "print(\"AUC (White)      :  \", roc_auc_score(y_test_, y_pred_) )\n",
    "\n",
    "fpr_white = fp/(fp+tn)\n",
    "fnr_white =  fn/(fn+tp)\n",
    "\n",
    "print('\\nFalse positive rate Gap:', abs(fpr_black-fpr_white))\n",
    "print('False negative rate Gap:', abs(fnr_black-fnr_white))"
   ]
  },
  {
   "cell_type": "markdown",
   "metadata": {},
   "source": [
    "### Intervention\n",
    "P(two_year_recid=1 | do(race=1)) - P(two_year_recid=1 | do(race=0))"
   ]
  },
  {
   "cell_type": "code",
   "execution_count": 8,
   "metadata": {},
   "outputs": [
    {
     "name": "stderr",
     "output_type": "stream",
     "text": [
      "100%|██████████| 100/100 [00:23<00:00,  4.27it/s]\n"
     ]
    }
   ],
   "source": [
    "ls = []\n",
    "for run in tqdm.tqdm(range(100)):\n",
    "    num_sample = 100\n",
    "    P_y1_do = {}\n",
    "    for x in [0,1]:\n",
    "        do_model = pyro.do(model, data={ 'race': torch.tensor( x )  })\n",
    "        posterior = pyro.infer.Importance(do_model, num_samples=num_sample).run()\n",
    "        marginal = pyro.infer.EmpiricalMarginal(posterior, \"two_year_recid\") \n",
    "        samples = np.array([marginal().item() for _ in range(num_sample)])\n",
    "        e_unique, e_counts = np.unique(samples, return_counts=True)\n",
    "        dic = dict( zip(e_unique, e_counts) )\n",
    "        P_y1_do[ x ] = dic[ 1 ] / num_sample\n",
    "    diff = P_y1_do[0] - P_y1_do[1]\n",
    "    ls += [ diff ]"
   ]
  },
  {
   "cell_type": "code",
   "execution_count": 9,
   "metadata": {},
   "outputs": [
    {
     "data": {
      "image/png": "[encoded data removed]",
      "text/plain": [
       "<Figure size 432x288 with 1 Axes>"
      ]
     },
     "metadata": {
      "needs_background": "light"
     },
     "output_type": "display_data"
    }
   ],
   "source": [
    "plt.hist(ls)\n",
    "plt.show()"
   ]
  },
  {
   "cell_type": "code",
   "execution_count": 10,
   "metadata": {},
   "outputs": [
    {
     "name": "stdout",
     "output_type": "stream",
     "text": [
      "0.04920000000000003\n"
     ]
    }
   ],
   "source": [
    "total = 0\n",
    "for x in ls:\n",
    "    total = total + x\n",
    "print(total / len(ls))"
   ]
  },
  {
   "cell_type": "markdown",
   "metadata": {},
   "source": [
    "### Counterfactual fairness"
   ]
  },
  {
   "cell_type": "markdown",
   "metadata": {},
   "source": [
    "P(two_year_recid race=0 = 1 | race = 1, two_year_recid = 0)"
   ]
  },
  {
   "cell_type": "code",
   "execution_count": 11,
   "metadata": {},
   "outputs": [
    {
     "name": "stderr",
     "output_type": "stream",
     "text": [
      "100%|██████████| 100/100 [00:02<00:00, 34.62it/s]\n"
     ]
    }
   ],
   "source": [
    "num_sample = 100\n",
    "conditioned_model = pyro.condition(model, data = {\"race\": torch.tensor(1), \"two_year_recid\": torch.tensor(0)})\n",
    "posterior = pyro.infer.Importance(conditioned_model, num_samples=num_sample).run()\n",
    "ls = []\n",
    "for run in tqdm.tqdm(range(100)):\n",
    "    z = 0\n",
    "    for _ in range(num_sample):\n",
    "        trace = posterior()\n",
    "        s = trace.nodes['sex']['value']\n",
    "        a = trace.nodes['age_cat']['value']\n",
    "        c = trace.nodes['priors_count']['value']\n",
    "        do_model = pyro.do(model, data = {\"race\": torch.tensor(0)})\n",
    "        counterfactual_model = pyro.condition(do_model, data = {'sex': s,'age_cat': a, 'priors_count': c })\n",
    "        trace_counterfactual = pyro.poutine.trace(counterfactual_model)\n",
    "        trace = trace_counterfactual.get_trace()\n",
    "        z += trace.nodes['two_year_recid']['value']\n",
    "    ls += [ float(z)/num_sample ]"
   ]
  },
  {
   "cell_type": "code",
   "execution_count": 12,
   "metadata": {},
   "outputs": [
    {
     "data": {
      "image/png": "[encoded data removed]",
      "text/plain": [
       "<Figure size 432x288 with 1 Axes>"
      ]
     },
     "metadata": {
      "needs_background": "light"
     },
     "output_type": "display_data"
    }
   ],
   "source": [
    "plt.hist(ls) \n",
    "plt.show()"
   ]
  },
  {
   "cell_type": "code",
   "execution_count": 13,
   "metadata": {},
   "outputs": [
    {
     "name": "stdout",
     "output_type": "stream",
     "text": [
      "0.4078000000000001\n"
     ]
    }
   ],
   "source": [
    "total = 0\n",
    "for x in ls:\n",
    "    total = total + x\n",
    "print(total / len(ls))"
   ]
  },
  {
   "cell_type": "markdown",
   "metadata": {},
   "source": [
    "### Average Total Effect"
   ]
  },
  {
   "cell_type": "code",
   "execution_count": 14,
   "metadata": {},
   "outputs": [
    {
     "data": {
      "text/plain": [
       "-0.02699999999999997"
      ]
     },
     "execution_count": 14,
     "metadata": {},
     "output_type": "execute_result"
    }
   ],
   "source": [
    "# E(Y|do(X=1))−E(Y|do(X=0)).\n",
    "e1_samples = [pyro.do(model, data={'race': torch.tensor(1)})() for _ in range(1000)]\n",
    "e2_samples = [pyro.do(model, data={'race': torch.tensor(0)})() for _ in range(1000)]\n",
    "e1_avg = sum(e1_samples).item() / len(e1_samples)\n",
    "e2_avg = sum(e2_samples).item() / len(e2_samples)\n",
    "e1_avg - e2_avg"
   ]
  },
  {
   "cell_type": "markdown",
   "metadata": {},
   "source": [
    "### Natural Effects"
   ]
  },
  {
   "cell_type": "markdown",
   "metadata": {},
   "source": [
    "#### Natural Direct Effects"
   ]
  },
  {
   "cell_type": "code",
   "execution_count": 15,
   "metadata": {},
   "outputs": [],
   "source": [
    "# When Z = 1 E(Y|(M = 1), do(X = 1)) - E(Y|(M = 1), do(X = 0))\n",
    "cond_model = pyro.condition(model, data={'priors_count': torch.tensor(0)})\n",
    "e1_samples = [pyro.do(cond_model, data={'race': torch.tensor(1)})() for _ in range(1000)]\n",
    "e2_samples = [pyro.do(cond_model, data={'race': torch.tensor(0)})() for _ in range(1000)]"
   ]
  },
  {
   "cell_type": "code",
   "execution_count": 16,
   "metadata": {},
   "outputs": [],
   "source": [
    "e1_avg = sum(e1_samples).item() / len(e1_samples)\n",
    "e2_avg = sum(e2_samples).item() / len(e2_samples)"
   ]
  },
  {
   "cell_type": "code",
   "execution_count": 17,
   "metadata": {},
   "outputs": [
    {
     "data": {
      "text/plain": [
       "0.329"
      ]
     },
     "execution_count": 17,
     "metadata": {},
     "output_type": "execute_result"
    }
   ],
   "source": [
    "e1_avg"
   ]
  },
  {
   "cell_type": "code",
   "execution_count": 18,
   "metadata": {},
   "outputs": [
    {
     "data": {
      "text/plain": [
       "0.328"
      ]
     },
     "execution_count": 18,
     "metadata": {},
     "output_type": "execute_result"
    }
   ],
   "source": [
    "e2_avg"
   ]
  },
  {
   "cell_type": "code",
   "execution_count": 19,
   "metadata": {},
   "outputs": [
    {
     "data": {
      "text/plain": [
       "0.0010000000000000009"
      ]
     },
     "execution_count": 19,
     "metadata": {},
     "output_type": "execute_result"
    }
   ],
   "source": [
    "e1_avg - e2_avg"
   ]
  },
  {
   "cell_type": "markdown",
   "metadata": {},
   "source": [
    "#### Natural Indirect Effect"
   ]
  },
  {
   "cell_type": "code",
   "execution_count": 20,
   "metadata": {},
   "outputs": [],
   "source": [
    "# When Z = 1 E(Y|(X = 1), do(M = 1)) - E(Y|(X = 1), do(M = 0))\n",
    "cond_model = pyro.condition(model, data={'race': torch.tensor(1)})\n",
    "e1_samples = [pyro.do(cond_model, data={'priors_count': torch.tensor(1)})() for _ in range(1000)]\n",
    "e2_samples = [pyro.do(cond_model, data={'priors_count': torch.tensor(0)})() for _ in range(1000)]"
   ]
  },
  {
   "cell_type": "code",
   "execution_count": 21,
   "metadata": {},
   "outputs": [],
   "source": [
    "e1_avg = sum(e1_samples).item() / len(e1_samples)\n",
    "e2_avg = sum(e2_samples).item() / len(e2_samples)"
   ]
  },
  {
   "cell_type": "code",
   "execution_count": 22,
   "metadata": {},
   "outputs": [
    {
     "data": {
      "text/plain": [
       "0.25599999999999995"
      ]
     },
     "execution_count": 22,
     "metadata": {},
     "output_type": "execute_result"
    }
   ],
   "source": [
    "e1_avg - e2_avg"
   ]
  },
  {
   "cell_type": "markdown",
   "metadata": {},
   "source": [
    "### Necessity and Sufficienty"
   ]
  },
  {
   "cell_type": "markdown",
   "metadata": {},
   "source": [
    "#### Necessity"
   ]
  },
  {
   "cell_type": "markdown",
   "metadata": {},
   "source": [
    "$P_{necessity} = P(Y_{X=1} = 0 | X=0, Y=1)$"
   ]
  },
  {
   "cell_type": "code",
   "execution_count": 233,
   "metadata": {},
   "outputs": [],
   "source": [
    "cond_model = pyro.condition(model, data = {\"race\": torch.tensor(0), \"two_year_recid\": torch.tensor(1)})\n",
    "posterior = pyro.infer.Importance(cond_model, num_samples=num_sample).run()\n",
    "p_necessities = []\n",
    "for _ in range(1000):\n",
    "    trace = posterior()\n",
    "    s = trace.nodes['sex']['value']\n",
    "    a = trace.nodes['age_cat']['value']\n",
    "    c = trace.nodes['priors_count']['value']\n",
    "    do_model = pyro.do(model, data = {\"race\": torch.tensor(1)})\n",
    "    counterfactual_model = pyro.condition(do_model, data = {'sex': s,'age_cat': a, 'priors_count': c })\n",
    "    trace_counterfactual = pyro.poutine.trace(counterfactual_model)\n",
    "    trace = trace_counterfactual.get_trace()\n",
    "    p_necessities.append(float(trace.nodes['two_year_recid']['value']))"
   ]
  },
  {
   "cell_type": "code",
   "execution_count": 234,
   "metadata": {},
   "outputs": [
    {
     "name": "stdout",
     "output_type": "stream",
     "text": [
      "P necessity = 0.562\n"
     ]
    }
   ],
   "source": [
    "p_necessity = 1 - mean(p_necessities)\n",
    "print(\"P necessity =\", p_necessity)"
   ]
  },
  {
   "cell_type": "markdown",
   "metadata": {},
   "source": [
    "#### Sufficiency\n",
    "$P(Y_{X=0} = 1 | X=1, Y=0)$"
   ]
  },
  {
   "cell_type": "code",
   "execution_count": 235,
   "metadata": {},
   "outputs": [],
   "source": [
    "cond_model = pyro.condition(model, data = {\"race\": torch.tensor(1), \"two_year_recid\": torch.tensor(0)})\n",
    "posterior = pyro.infer.Importance(cond_model, num_samples=num_sample).run()\n",
    "p_sufficiencies = []\n",
    "for _ in range(1000):\n",
    "    trace = posterior()\n",
    "    s = trace.nodes['sex']['value']\n",
    "    a = trace.nodes['age_cat']['value']\n",
    "    c = trace.nodes['priors_count']['value']\n",
    "    do_model = pyro.do(model, data = {\"race\": torch.tensor(0)})\n",
    "    counterfactual_model = pyro.condition(do_model, data = {'sex': s,'age_cat': a, 'priors_count': c })\n",
    "    trace_counterfactual = pyro.poutine.trace(counterfactual_model)\n",
    "    trace = trace_counterfactual.get_trace()\n",
    "    p_sufficiencies.append(float(trace.nodes['two_year_recid']['value']))"
   ]
  },
  {
   "cell_type": "code",
   "execution_count": 236,
   "metadata": {
    "scrolled": false
   },
   "outputs": [
    {
     "name": "stdout",
     "output_type": "stream",
     "text": [
      "P necessity = 0.457\n"
     ]
    }
   ],
   "source": [
    "p_sufficiency = mean(p_sufficiencies)\n",
    "print(\"P necessity =\", p_sufficiency)"
   ]
  },
  {
   "cell_type": "markdown",
   "metadata": {},
   "source": [
    "#### Necessity and Sufficiency\n",
    "$PNS = P(X=0, Y=1) * PN + P(X=1, Y=0) * PS$"
   ]
  },
  {
   "cell_type": "code",
   "execution_count": 237,
   "metadata": {},
   "outputs": [
    {
     "name": "stdout",
     "output_type": "stream",
     "text": [
      "PNS = 0.273883\n"
     ]
    }
   ],
   "source": [
    "num_trials = 1000\n",
    "num_x0_y1 = 0\n",
    "num_x1_y0 = 0\n",
    "trace_handler = pyro.poutine.trace(model)\n",
    "for _ in range(num_trials):\n",
    "    trace = trace_handler.get_trace()\n",
    "    x = trace.nodes['race']['value']\n",
    "    y = trace.nodes['two_year_recid']['value']\n",
    "    if x == 0 and y == 1:\n",
    "        num_x0_y1 += 1\n",
    "    if x == 1 and y == 0:\n",
    "        num_x1_y0 += 1\n",
    "pns = (num_x0_y1 / num_trials) * p_necessity + (num_x1_y0 / num_trials) * p_sufficiency\n",
    "print('PNS =', pns)"
   ]
  },
  {
   "cell_type": "markdown",
   "metadata": {},
   "source": [
    "## Model 1 - b) Analysis by Gender"
   ]
  },
  {
   "cell_type": "markdown",
   "metadata": {},
   "source": [
    "### TP vs FN Rate"
   ]
  },
  {
   "cell_type": "code",
   "execution_count": 238,
   "metadata": {
    "jupyter": {
     "outputs_hidden": true
    }
   },
   "outputs": [
    {
     "name": "stdout",
     "output_type": "stream",
     "text": [
      "False positive rate (Male)      :  0.4412783981517135\n",
      "False negative rate (Male)      :  0.48671808054841476\n",
      "Accuracy (Male)      :   0.5372135469478807\n",
      "AUC (Male)      :   0.5360017606499359\n",
      "\n",
      "False positive rate (Female)      :  0.40804597701149425\n",
      "False negative rate (Female)      :  0.5391969407265774\n",
      "Accuracy (White)      :   0.5356849876948319\n",
      "AUC (White)      :   0.5263785411309642\n",
      "\n",
      "False positive rate Gap: 0.03323242114021924\n",
      "False negative rate Gap: 0.05247886017816267\n"
     ]
    }
   ],
   "source": [
    "df = pd.read_csv(data_file_path)\n",
    "\n",
    "truth = []\n",
    "preds = []\n",
    "num_sample = 10\n",
    "for index, row in df.iterrows():\n",
    "    r = race_alias.index( row['race'] ) \n",
    "    s = sex_alias.index( row['sex'] ) \n",
    "    a = age_cat_alias.index( row['age_cat'] ) \n",
    "    c = priors_count_alias.index( row['priors_count'] ) \n",
    "    t = two_year_recid_alias.index( row['two_year_recid'] ) \n",
    "    conditioned_model = pyro.condition(model, data = {\"race\": torch.tensor( r ),\n",
    "                                                      \"sex\": torch.tensor( s ),\n",
    "                                                      \"age_cat\": torch.tensor( a ),\n",
    "                                                      \"priors_count\": torch.tensor( c )\n",
    "                                                     })\n",
    "    posterior = pyro.infer.Importance(conditioned_model, num_samples=num_sample).run()\n",
    "    trace = posterior()\n",
    "    pred = int(trace.nodes['two_year_recid']['value'])\n",
    "    truth += [ conditioned_model() ]\n",
    "    preds += [ pred ]\n",
    "    #if ((index%500)==0):print(index//500)\n",
    "truth = np.array(truth)\n",
    "preds = np.array(preds)\n",
    "\n",
    "# score for male defendants\n",
    "y_test_ = truth[ df['sex']=='Male' ]\n",
    "y_pred_ = preds[ df['sex']=='Male' ]\n",
    "[[tn , fp],[fn , tp]]  = confusion_matrix(y_test_, y_pred_)\n",
    "print(\"False positive rate (Male)      : \", fp/(fp+tn))\n",
    "print(\"False negative rate (Male)      : \", fn/(fn+tp))\n",
    "print(\"Accuracy (Male)      :  \", accuracy_score(y_test_, y_pred_) )\n",
    "print(\"AUC (Male)      :  \", roc_auc_score(y_test_, y_pred_) )\n",
    "\n",
    "fpr_male = fp/(fp+tn)\n",
    "fnr_male =  fn/(fn+tp)\n",
    "\n",
    "# score for White defendants\n",
    "y_test_ = truth[ df['sex']=='Female' ]\n",
    "y_pred_ = preds[ df['sex']=='Female' ]\n",
    "[[tn , fp],[fn , tp]]  = confusion_matrix(y_test_, y_pred_)\n",
    "print(\"\\nFalse positive rate (Female)      : \", fp/(fp+tn))\n",
    "print(\"False negative rate (Female)      : \", fn/(fn+tp))\n",
    "print(\"Accuracy (White)      :  \", accuracy_score(y_test_, y_pred_) )\n",
    "print(\"AUC (White)      :  \", roc_auc_score(y_test_, y_pred_) )\n",
    "\n",
    "fpr_female = fp/(fp+tn)\n",
    "fnr_female =  fn/(fn+tp)\n",
    "\n",
    "print('\\nFalse positive rate Gap:', abs(fpr_male-fpr_female))\n",
    "print('False negative rate Gap:', abs(fnr_male-fnr_female))"
   ]
  },
  {
   "cell_type": "markdown",
   "metadata": {},
   "source": [
    "### Intervention\n",
    "P(two_year_recid=1 | do(sex=1)) - P(two_year_recid=1 | do(sex=0))"
   ]
  },
  {
   "cell_type": "code",
   "execution_count": 239,
   "metadata": {},
   "outputs": [
    {
     "name": "stderr",
     "output_type": "stream",
     "text": [
      "100%|██████████| 100/100 [00:22<00:00,  4.45it/s]\n"
     ]
    }
   ],
   "source": [
    "ls = []\n",
    "for run in tqdm.tqdm(range(100)):\n",
    "    num_sample = 100\n",
    "    P_y1_do = {}\n",
    "    for x in [0,1]:\n",
    "        do_model = pyro.do(model, data={ 'sex': torch.tensor( x )  })\n",
    "        posterior = pyro.infer.Importance(do_model, num_samples=num_sample).run()\n",
    "        marginal = pyro.infer.EmpiricalMarginal(posterior, \"two_year_recid\") \n",
    "        samples = np.array([marginal().item() for _ in range(num_sample)])\n",
    "        e_unique, e_counts = np.unique(samples, return_counts=True)\n",
    "        dic = dict( zip(e_unique, e_counts) )\n",
    "        P_y1_do[ x ] = dic[ 1 ] / num_sample\n",
    "    diff = P_y1_do[0] - P_y1_do[1]\n",
    "    ls += [ diff ]"
   ]
  },
  {
   "cell_type": "code",
   "execution_count": 240,
   "metadata": {},
   "outputs": [
    {
     "data": {
      "image/png": "[encoded data removed]",
      "text/plain": [
       "<Figure size 432x288 with 1 Axes>"
      ]
     },
     "metadata": {
      "needs_background": "light"
     },
     "output_type": "display_data"
    }
   ],
   "source": [
    "plt.hist(ls)\n",
    "plt.show()"
   ]
  },
  {
   "cell_type": "code",
   "execution_count": 241,
   "metadata": {},
   "outputs": [
    {
     "name": "stdout",
     "output_type": "stream",
     "text": [
      "-0.041199999999999994\n"
     ]
    }
   ],
   "source": [
    "total = 0\n",
    "for x in ls:\n",
    "    total = total + x\n",
    "print(total / len(ls))"
   ]
  },
  {
   "cell_type": "markdown",
   "metadata": {},
   "source": [
    "### Counterfactual fairness"
   ]
  },
  {
   "cell_type": "markdown",
   "metadata": {},
   "source": [
    "P(two_year_recid sex=0 = 1 | sex = 1, two_year_recid = 0)"
   ]
  },
  {
   "cell_type": "code",
   "execution_count": 242,
   "metadata": {},
   "outputs": [
    {
     "name": "stderr",
     "output_type": "stream",
     "text": [
      "100%|██████████| 100/100 [00:02<00:00, 34.50it/s]\n"
     ]
    }
   ],
   "source": [
    "num_sample = 100\n",
    "conditioned_model = pyro.condition(model, data = {\"sex\": torch.tensor(1), \"two_year_recid\": torch.tensor(0)})\n",
    "posterior = pyro.infer.Importance(conditioned_model, num_samples=num_sample).run()\n",
    "ls = []\n",
    "for run in tqdm.tqdm(range(100)):\n",
    "    z = 0\n",
    "    for _ in range(num_sample):\n",
    "        trace = posterior()\n",
    "        r = trace.nodes['race']['value']\n",
    "        a = trace.nodes['age_cat']['value']\n",
    "        c = trace.nodes['priors_count']['value']\n",
    "        do_model = pyro.do(model, data = {\"sex\": torch.tensor(0)})\n",
    "        counterfactual_model = pyro.condition(do_model, data = {'race': r,'age_cat': a, 'priors_count': c })\n",
    "        trace_counterfactual = pyro.poutine.trace(counterfactual_model)\n",
    "        trace = trace_counterfactual.get_trace()\n",
    "        z += trace.nodes['two_year_recid']['value']\n",
    "    ls += [ float(z)/num_sample ]"
   ]
  },
  {
   "cell_type": "code",
   "execution_count": 243,
   "metadata": {},
   "outputs": [
    {
     "data": {
      "image/png": "[encoded data removed]",
      "text/plain": [
       "<Figure size 432x288 with 1 Axes>"
      ]
     },
     "metadata": {
      "needs_background": "light"
     },
     "output_type": "display_data"
    }
   ],
   "source": [
    "plt.hist(ls) \n",
    "plt.show()"
   ]
  },
  {
   "cell_type": "code",
   "execution_count": 244,
   "metadata": {},
   "outputs": [
    {
     "name": "stdout",
     "output_type": "stream",
     "text": [
      "0.4281999999999999\n"
     ]
    }
   ],
   "source": [
    "total = 0\n",
    "for x in ls:\n",
    "    total = total + x\n",
    "print(total / len(ls))"
   ]
  },
  {
   "cell_type": "markdown",
   "metadata": {},
   "source": [
    "### Average Total Effect"
   ]
  },
  {
   "cell_type": "code",
   "execution_count": 245,
   "metadata": {},
   "outputs": [
    {
     "data": {
      "text/plain": [
       "0.059"
      ]
     },
     "execution_count": 245,
     "metadata": {},
     "output_type": "execute_result"
    }
   ],
   "source": [
    "# E(Y|do(X=1))−E(Y|do(X=0)).\n",
    "e1_samples = [pyro.do(model, data={'sex': torch.tensor(1)})() for _ in range(1000)]\n",
    "e2_samples = [pyro.do(model, data={'sex': torch.tensor(0)})() for _ in range(1000)]\n",
    "e1_avg = sum(e1_samples).item() / len(e1_samples)\n",
    "e2_avg = sum(e2_samples).item() / len(e2_samples)\n",
    "e1_avg - e2_avg"
   ]
  },
  {
   "cell_type": "markdown",
   "metadata": {},
   "source": [
    "### Natural Effects"
   ]
  },
  {
   "cell_type": "markdown",
   "metadata": {},
   "source": [
    "#### Natural Direct Effects"
   ]
  },
  {
   "cell_type": "code",
   "execution_count": 246,
   "metadata": {},
   "outputs": [],
   "source": [
    "# When Z = 1 E(Y|(M = 1), do(X = 1)) - E(Y|(M = 1), do(X = 0))\n",
    "cond_model = pyro.condition(model, data={'priors_count': torch.tensor(0)})\n",
    "e1_samples = [pyro.do(cond_model, data={'sex': torch.tensor(1)})() for _ in range(1000)]\n",
    "e2_samples = [pyro.do(cond_model, data={'sex': torch.tensor(0)})() for _ in range(1000)]"
   ]
  },
  {
   "cell_type": "code",
   "execution_count": 247,
   "metadata": {},
   "outputs": [],
   "source": [
    "e1_avg = sum(e1_samples).item() / len(e1_samples)\n",
    "e2_avg = sum(e2_samples).item() / len(e2_samples)"
   ]
  },
  {
   "cell_type": "code",
   "execution_count": 248,
   "metadata": {},
   "outputs": [
    {
     "data": {
      "text/plain": [
       "0.351"
      ]
     },
     "execution_count": 248,
     "metadata": {},
     "output_type": "execute_result"
    }
   ],
   "source": [
    "e1_avg"
   ]
  },
  {
   "cell_type": "code",
   "execution_count": 249,
   "metadata": {},
   "outputs": [
    {
     "data": {
      "text/plain": [
       "0.321"
      ]
     },
     "execution_count": 249,
     "metadata": {},
     "output_type": "execute_result"
    }
   ],
   "source": [
    "e2_avg"
   ]
  },
  {
   "cell_type": "code",
   "execution_count": 250,
   "metadata": {},
   "outputs": [
    {
     "data": {
      "text/plain": [
       "0.02999999999999997"
      ]
     },
     "execution_count": 250,
     "metadata": {},
     "output_type": "execute_result"
    }
   ],
   "source": [
    "e1_avg - e2_avg"
   ]
  },
  {
   "cell_type": "markdown",
   "metadata": {},
   "source": [
    "#### Natural Indirect Effect"
   ]
  },
  {
   "cell_type": "code",
   "execution_count": 251,
   "metadata": {},
   "outputs": [],
   "source": [
    "# When Z = 1 E(Y|(X = 1), do(M = 1)) - E(Y|(X = 1), do(M = 0))\n",
    "cond_model = pyro.condition(model, data={'sex': torch.tensor(1)})\n",
    "e1_samples = [pyro.do(cond_model, data={'priors_count': torch.tensor(1)})() for _ in range(1000)]\n",
    "e2_samples = [pyro.do(cond_model, data={'priors_count': torch.tensor(0)})() for _ in range(1000)]"
   ]
  },
  {
   "cell_type": "code",
   "execution_count": 252,
   "metadata": {},
   "outputs": [],
   "source": [
    "e1_avg = sum(e1_samples).item() / len(e1_samples)\n",
    "e2_avg = sum(e2_samples).item() / len(e2_samples)"
   ]
  },
  {
   "cell_type": "code",
   "execution_count": 253,
   "metadata": {},
   "outputs": [
    {
     "data": {
      "text/plain": [
       "0.24099999999999994"
      ]
     },
     "execution_count": 253,
     "metadata": {},
     "output_type": "execute_result"
    }
   ],
   "source": [
    "e1_avg - e2_avg"
   ]
  },
  {
   "cell_type": "markdown",
   "metadata": {},
   "source": [
    "### Necessity and Sufficienty"
   ]
  },
  {
   "cell_type": "markdown",
   "metadata": {},
   "source": [
    "#### Necessity"
   ]
  },
  {
   "cell_type": "markdown",
   "metadata": {},
   "source": [
    "$P_{necessity} = P(Y_{X=1} = 0 | X=0, Y=1)$"
   ]
  },
  {
   "cell_type": "code",
   "execution_count": 254,
   "metadata": {},
   "outputs": [],
   "source": [
    "cond_model = pyro.condition(model, data = {\"sex\": torch.tensor(0), \"two_year_recid\": torch.tensor(1)})\n",
    "posterior = pyro.infer.Importance(cond_model, num_samples=num_sample).run()\n",
    "p_necessities = []\n",
    "for _ in range(1000):\n",
    "    trace = posterior()\n",
    "    r = trace.nodes['race']['value']\n",
    "    a = trace.nodes['age_cat']['value']\n",
    "    c = trace.nodes['priors_count']['value']\n",
    "    do_model = pyro.do(model, data = {\"sex\": torch.tensor(1)})\n",
    "    counterfactual_model = pyro.condition(do_model, data = {'race': r,'age_cat': a, 'priors_count': c })\n",
    "    trace_counterfactual = pyro.poutine.trace(counterfactual_model)\n",
    "    trace = trace_counterfactual.get_trace()\n",
    "    p_necessities.append(float(trace.nodes['two_year_recid']['value']))"
   ]
  },
  {
   "cell_type": "code",
   "execution_count": 255,
   "metadata": {},
   "outputs": [
    {
     "name": "stdout",
     "output_type": "stream",
     "text": [
      "P necessity = 0.522\n"
     ]
    }
   ],
   "source": [
    "p_necessity = 1 - mean(p_necessities)\n",
    "print(\"P necessity =\", p_necessity)"
   ]
  },
  {
   "cell_type": "markdown",
   "metadata": {},
   "source": [
    "#### Sufficiency\n",
    "$P(Y_{X=0} = 1 | X=1, Y=0)$"
   ]
  },
  {
   "cell_type": "code",
   "execution_count": 256,
   "metadata": {},
   "outputs": [],
   "source": [
    "cond_model = pyro.condition(model, data = {\"sex\": torch.tensor(1), \"two_year_recid\": torch.tensor(0)})\n",
    "posterior = pyro.infer.Importance(cond_model, num_samples=num_sample).run()\n",
    "p_sufficiencies = []\n",
    "for _ in range(1000):\n",
    "    trace = posterior()\n",
    "    r = trace.nodes['race']['value']\n",
    "    a = trace.nodes['age_cat']['value']\n",
    "    c = trace.nodes['priors_count']['value']\n",
    "    do_model = pyro.do(model, data = {\"race\": torch.tensor(0)})\n",
    "    counterfactual_model = pyro.condition(do_model, data = {'race': r,'age_cat': a, 'priors_count': c })\n",
    "    trace_counterfactual = pyro.poutine.trace(counterfactual_model)\n",
    "    trace = trace_counterfactual.get_trace()\n",
    "    p_sufficiencies.append(float(trace.nodes['two_year_recid']['value']))"
   ]
  },
  {
   "cell_type": "code",
   "execution_count": 257,
   "metadata": {
    "scrolled": true
   },
   "outputs": [
    {
     "name": "stdout",
     "output_type": "stream",
     "text": [
      "P necessity = 0.426\n"
     ]
    }
   ],
   "source": [
    "p_sufficiency = mean(p_sufficiencies)\n",
    "print(\"P necessity =\", p_sufficiency)"
   ]
  },
  {
   "cell_type": "markdown",
   "metadata": {},
   "source": [
    "#### Necessity and Sufficiency\n",
    "$PNS = P(X=0, Y=1) * PN + P(X=1, Y=0) * PS$"
   ]
  },
  {
   "cell_type": "code",
   "execution_count": 259,
   "metadata": {},
   "outputs": [
    {
     "name": "stdout",
     "output_type": "stream",
     "text": [
      "PNS = 0.21112799999999998\n"
     ]
    }
   ],
   "source": [
    "num_trials = 1000\n",
    "num_x0_y1 = 0\n",
    "num_x1_y0 = 0\n",
    "trace_handler = pyro.poutine.trace(model)\n",
    "for _ in range(num_trials):\n",
    "    trace = trace_handler.get_trace()\n",
    "    x = trace.nodes['sex']['value']\n",
    "    y = trace.nodes['two_year_recid']['value']\n",
    "    if x == 0 and y == 1:\n",
    "        num_x0_y1 += 1\n",
    "    if x == 1 and y == 0:\n",
    "        num_x1_y0 += 1\n",
    "        \n",
    "pns = (num_x0_y1 / num_trials) * p_necessity + (num_x1_y0 / num_trials) * p_sufficiency\n",
    "print('PNS =', pns)"
   ]
  },
  {
   "cell_type": "markdown",
   "metadata": {},
   "source": [
    "## Model 1 -  c) Analysis by Race + Gender"
   ]
  },
  {
   "cell_type": "markdown",
   "metadata": {},
   "source": [
    "### TP vs FN Rate"
   ]
  },
  {
   "cell_type": "code",
   "execution_count": 260,
   "metadata": {
    "jupyter": {
     "outputs_hidden": true
    }
   },
   "outputs": [
    {
     "name": "stdout",
     "output_type": "stream",
     "text": [
      "0\n",
      "1\n",
      "2\n",
      "3\n",
      "4\n",
      "5\n",
      "6\n",
      "7\n",
      "8\n",
      "9\n",
      "10\n",
      "11\n",
      "12\n",
      "False positive rate (African-American and Male)      :  0.45110410094637227\n",
      "False negative rate (African-American and Male)      :  0.4578478409869774\n",
      "Accuracy (African-American and Male)      :   0.5456636005256241\n",
      "AUC (African-American and Male)      :   0.5455240290333251\n",
      "\n",
      "\n",
      "False positive rate (African-American and Female)      :  0.42613636363636365\n",
      "False negative rate (African-American and Female)      :  0.55\n",
      "Accuracy (African-American and Female)      :   0.5168711656441718\n",
      "AUC (African-American and Female)      :   0.5119318181818182\n",
      "\n",
      "False positive rate (Caucasian and Male)      :  0.4445534838076546\n",
      "False negative rate (Caucasian and Male)      :  0.5529953917050692\n",
      "Accuracy (Caucasian and Male)      :   0.505564387917329\n",
      "AUC (Caucasian and Male)      :   0.5012255622436381\n",
      "\n",
      "False positive rate (Caucasian and Female)      :  0.3885542168674699\n",
      "False negative rate (Caucasian and Female)      :  0.4765957446808511\n",
      "Accuracy (Caucasian and Female)      :   0.5749559082892416\n",
      "AUC (Caucasian and Female)      :   0.5674250192258395\n",
      "\n",
      "False positive rate Gap across African-American versus Caucasian Males: 0.006550617138717685\n",
      "False negative rate Gap across African-American versus Caucasian Males: 0.09514755071809178\n",
      "\n",
      "False positive rate Gap across African-American versus Caucasian Females: 0.037582146768893765\n",
      "False negative rate Gap across African-American versus Caucasian Females: 0.07340425531914896\n",
      "\n",
      "False positive rate Gap across African-American Male versus Caucasian Female: 0.06254988407890238\n",
      "False negative rate Gap across African-American Male versus Caucasian Female: 0.01874790369387369\n",
      "\n",
      "False positive rate Gap across African-American Female versus Caucasian Male: 0.018417120171290935\n",
      "False negative rate Gap across African-American Female versus Caucasian Male: 0.002995391705069128\n"
     ]
    }
   ],
   "source": [
    "df = pd.read_csv(data_file_path)\n",
    "\n",
    "truth = []\n",
    "preds = []\n",
    "num_sample = 10\n",
    "for index, row in df.iterrows():\n",
    "    r = race_alias.index( row['race'] ) \n",
    "    s = sex_alias.index( row['sex'] ) \n",
    "    a = age_cat_alias.index( row['age_cat'] ) \n",
    "    c = priors_count_alias.index( row['priors_count'] ) \n",
    "    t = two_year_recid_alias.index( row['two_year_recid'] ) \n",
    "    conditioned_model = pyro.condition(model, data = {\"race\": torch.tensor( r ),\n",
    "                                                      \"sex\": torch.tensor( s ),\n",
    "                                                      \"age_cat\": torch.tensor( a ),\n",
    "                                                      \"priors_count\": torch.tensor( c )\n",
    "                                                     })\n",
    "    posterior = pyro.infer.Importance(conditioned_model, num_samples=num_sample).run()\n",
    "    trace = posterior()\n",
    "    pred = int(trace.nodes['two_year_recid']['value'])\n",
    "    truth += [ conditioned_model() ]\n",
    "    preds += [ pred ]\n",
    "    #if ((index%500)==0):print(index//500)\n",
    "truth = np.array(truth)\n",
    "preds = np.array(preds)\n",
    "\n",
    "## all scores for black defendants\n",
    "# score for black and male defendants\n",
    "y_test_ = truth[(df['race']=='African-American') & (df['sex']=='Male') ]\n",
    "y_pred_ = preds[(df['race']=='African-American') & (df['sex']=='Male')]\n",
    "[[tn , fp],[fn , tp]]  = confusion_matrix(y_test_, y_pred_)\n",
    "print(\"False positive rate (African-American and Male)      : \", fp/(fp+tn))\n",
    "print(\"False negative rate (African-American and Male)      : \", fn/(fn+tp))\n",
    "print(\"Accuracy (African-American and Male)      :  \", accuracy_score(y_test_, y_pred_) )\n",
    "print(\"AUC (African-American and Male)      :  \", roc_auc_score(y_test_, y_pred_) )\n",
    "\n",
    "fpr_black_male = fp/(fp+tn)\n",
    "fnr_black_male =  fn/(fn+tp)\n",
    "\n",
    "print('')\n",
    "# score for black and female defendants\n",
    "y_test_ = truth[(df['race']=='African-American') & (df['sex']=='Female')]\n",
    "y_pred_ = preds[(df['race']=='African-American') & (df['sex']=='Female')]\n",
    "[[tn , fp],[fn , tp]]  = confusion_matrix(y_test_, y_pred_)\n",
    "print(\"\\nFalse positive rate (African-American and Female)      : \", fp/(fp+tn))\n",
    "print(\"False negative rate (African-American and Female)      : \", fn/(fn+tp))\n",
    "print(\"Accuracy (African-American and Female)      :  \", accuracy_score(y_test_, y_pred_) )\n",
    "print(\"AUC (African-American and Female)      :  \", roc_auc_score(y_test_, y_pred_) )\n",
    "\n",
    "fpr_black_female = fp/(fp+tn)\n",
    "fnr_black_female =  fn/(fn+tp)\n",
    "\n",
    "## all scores for white defendants\n",
    "print('')\n",
    "# scores for white and male defendants\n",
    "y_test_ = truth[(df['race']=='Caucasian') & (df['sex']=='Male') ]\n",
    "y_pred_ = preds[(df['race']=='Caucasian') & (df['sex']=='Male')]\n",
    "[[tn , fp],[fn , tp]]  = confusion_matrix(y_test_, y_pred_)\n",
    "print(\"False positive rate (Caucasian and Male)      : \", fp/(fp+tn))\n",
    "print(\"False negative rate (Caucasian and Male)      : \", fn/(fn+tp))\n",
    "print(\"Accuracy (Caucasian and Male)      :  \", accuracy_score(y_test_, y_pred_) )\n",
    "print(\"AUC (Caucasian and Male)      :  \", roc_auc_score(y_test_, y_pred_) )\n",
    "\n",
    "fpr_white_male = fp/(fp+tn)\n",
    "fnr_white_male =  fn/(fn+tp)\n",
    "\n",
    "print('')\n",
    "# scores for white and female defendants\n",
    "y_test_ = truth[(df['race']=='Caucasian') & (df['sex']=='Female') ]\n",
    "y_pred_ = preds[(df['race']=='Caucasian') & (df['sex']=='Female')]\n",
    "[[tn , fp],[fn , tp]]  = confusion_matrix(y_test_, y_pred_)\n",
    "print(\"False positive rate (Caucasian and Female)      : \", fp/(fp+tn))\n",
    "print(\"False negative rate (Caucasian and Female)      : \", fn/(fn+tp))\n",
    "print(\"Accuracy (Caucasian and Female)      :  \", accuracy_score(y_test_, y_pred_) )\n",
    "print(\"AUC (Caucasian and Female)      :  \", roc_auc_score(y_test_, y_pred_) )\n",
    "\n",
    "fpr_white_female = fp/(fp+tn)\n",
    "fnr_white_female =  fn/(fn+tp)\n",
    "\n",
    "### calculate gaps\n",
    "## race gap with same gender\n",
    "# African-American versus Caucasian Males\n",
    "print('\\nFalse positive rate Gap across African-American versus Caucasian Males:', abs(fpr_black_male-fpr_white_male))\n",
    "print('False negative rate Gap across African-American versus Caucasian Males:', abs(fnr_black_male-fnr_white_male))\n",
    "# African-American versus Caucasian Female\n",
    "print('\\nFalse positive rate Gap across African-American versus Caucasian Females:', abs(fpr_black_female-fpr_white_female))\n",
    "print('False negative rate Gap across African-American versus Caucasian Females:', abs(fnr_black_female-fnr_white_female))\n",
    "## race gap versus different gender\n",
    "# African-American Male versus Caucasian Female\n",
    "print('\\nFalse positive rate Gap across African-American Male versus Caucasian Female:', abs(fpr_black_male-fpr_white_female))\n",
    "print('False negative rate Gap across African-American Male versus Caucasian Female:', abs(fnr_black_male-fnr_white_female))\n",
    "# African-American Female versus Caucasian Male\n",
    "print('\\nFalse positive rate Gap across African-American Female versus Caucasian Male:', abs(fpr_black_female-fpr_white_male))\n",
    "print('False negative rate Gap across African-American Female versus Caucasian Male:', abs(fnr_black_female-fnr_white_male))\n"
   ]
  },
  {
   "cell_type": "markdown",
   "metadata": {},
   "source": [
    "### Intervention"
   ]
  },
  {
   "cell_type": "code",
   "execution_count": 207,
   "metadata": {},
   "outputs": [
    {
     "name": "stderr",
     "output_type": "stream",
     "text": [
      "100%|██████████| 20/20 [00:01<00:00, 19.18it/s]\n",
      "100%|██████████| 20/20 [00:01<00:00, 19.89it/s]\n"
     ]
    }
   ],
   "source": [
    "ls = []\n",
    "combos = [(0, 0), (1, 0)]\n",
    "for combo in combos:\n",
    "    num_sample = 20\n",
    "    P_y1_do = {}\n",
    "    cur_ls = []\n",
    "    for run in tqdm.tqdm(range(20)):\n",
    "        for x in [0,1]:\n",
    "            do_model = pyro.do(model, data={ 'race': torch.tensor( combo[0] ), 'sex': torch.tensor(combo[1])  })\n",
    "            posterior = pyro.infer.Importance(do_model, num_samples=num_sample).run()\n",
    "            marginal = pyro.infer.EmpiricalMarginal(posterior, \"two_year_recid\") \n",
    "            samples = np.array([marginal().item() for _ in range(num_sample)])\n",
    "            e_unique, e_counts = np.unique(samples, return_counts=True)\n",
    "            dic = dict( zip(e_unique, e_counts) )\n",
    "            P_y1_do[ x ] = dic[ 1 ] / num_sample\n",
    "        diff = P_y1_do[0] - P_y1_do[1]\n",
    "        cur_ls += [ diff ]\n",
    "    ls.append(cur_ls)"
   ]
  },
  {
   "cell_type": "code",
   "execution_count": 208,
   "metadata": {},
   "outputs": [
    {
     "name": "stdout",
     "output_type": "stream",
     "text": [
      "African-American Female Intervention: 0.8750000000000001\n",
      "Caucasian Female Intervention: -0.2500000000000001\n"
     ]
    }
   ],
   "source": [
    "for items, combo in zip(ls, combos):\n",
    "    total = 0\n",
    "    for x in items:\n",
    "        total = total + x\n",
    "    print(race_alias[combo[0]], sex_alias[combo[1]],'Intervention:' , total / len(ls))"
   ]
  },
  {
   "cell_type": "markdown",
   "metadata": {},
   "source": [
    "### Counterfactual fairness"
   ]
  },
  {
   "cell_type": "markdown",
   "metadata": {},
   "source": [
    "P(two_year_recid sex=0 = 1 | sex = 1, two_year_recid = 0)"
   ]
  },
  {
   "cell_type": "code",
   "execution_count": 206,
   "metadata": {},
   "outputs": [
    {
     "name": "stderr",
     "output_type": "stream",
     "text": [
      "100%|██████████| 100/100 [00:06<00:00, 16.10it/s]"
     ]
    },
    {
     "name": "stdout",
     "output_type": "stream",
     "text": [
      "African-American Female Counterfactual: 0.0084\n",
      "Caucasian Female Counterfactual: 0.0092\n"
     ]
    },
    {
     "name": "stderr",
     "output_type": "stream",
     "text": [
      "\n"
     ]
    }
   ],
   "source": [
    "num_sample = 100\n",
    "conditioned_model = pyro.condition(model, data = {\"sex\": torch.tensor(1), \"two_year_recid\": torch.tensor(0)})\n",
    "posterior = pyro.infer.Importance(conditioned_model, num_samples=num_sample).run()\n",
    "ls = []\n",
    "combos = [(0, 0), (1, 0)]\n",
    "for run in tqdm.tqdm(range(100)):\n",
    "    z = 0\n",
    "    for combo in combos:\n",
    "        cur_ls = []\n",
    "        for _ in range(num_sample):\n",
    "            trace = posterior()\n",
    "            r = trace.nodes['race']['value']\n",
    "            a = trace.nodes['age_cat']['value']\n",
    "            c = trace.nodes['priors_count']['value']\n",
    "            do_model = pyro.do(model, data = {\"race\": torch.tensor(combo[0]), 'sex': torch.tensor(combo[1])})\n",
    "            counterfactual_model = pyro.condition(do_model, data = {'race': r,'age_cat': a, 'priors_count': c })\n",
    "            trace_counterfactual = pyro.poutine.trace(counterfactual_model)\n",
    "            trace = trace_counterfactual.get_trace()\n",
    "            z += trace.nodes['two_year_recid']['value']\n",
    "        cur_ls += [ float(z)/num_sample ]\n",
    "    ls.append(cur_ls)\n",
    "    \n",
    "for items, combo in zip(ls, combos):\n",
    "    total = 0\n",
    "    for x in items:\n",
    "        total = total + x\n",
    "    print(race_alias[combo[0]], sex_alias[combo[1]],'Counterfactual:' , total / len(ls))"
   ]
  },
  {
   "cell_type": "markdown",
   "metadata": {},
   "source": [
    "### Average Total Effect"
   ]
  },
  {
   "cell_type": "code",
   "execution_count": 176,
   "metadata": {},
   "outputs": [
    {
     "name": "stdout",
     "output_type": "stream",
     "text": [
      "African-American Male versus Caucasian Female TE 0.034999999999999976\n"
     ]
    }
   ],
   "source": [
    "# E(Y|do(X=1))−E(Y|do(X=0)).\n",
    "e1_samples = [pyro.do(model, data={'sex': torch.tensor(1), 'race': torch.tensor(0)})() for _ in range(1000)]\n",
    "e2_samples = [pyro.do(model, data={'sex': torch.tensor(0), 'race': torch.tensor(1)})() for _ in range(1000)]\n",
    "e1_avg = sum(e1_samples).item() / len(e1_samples)\n",
    "e2_avg = sum(e2_samples).item() / len(e2_samples)\n",
    "te = e1_avg - e2_avg\n",
    "print(race_alias[0], sex_alias[1], 'versus' ,race_alias[1], sex_alias[0],'TE' ,te)"
   ]
  },
  {
   "cell_type": "code",
   "execution_count": 177,
   "metadata": {},
   "outputs": [
    {
     "name": "stdout",
     "output_type": "stream",
     "text": [
      "Caucasian Male versus African-American Female TE -0.008000000000000007\n"
     ]
    }
   ],
   "source": [
    "# E(Y|do(X=1))−E(Y|do(X=0)).\n",
    "e1_samples = [pyro.do(model, data={'sex': torch.tensor(1), 'race': torch.tensor(1)})() for _ in range(1000)]\n",
    "e2_samples = [pyro.do(model, data={'sex': torch.tensor(0), 'race': torch.tensor(0)})() for _ in range(1000)]\n",
    "e1_avg = sum(e1_samples).item() / len(e1_samples)\n",
    "e2_avg = sum(e2_samples).item() / len(e2_samples)\n",
    "te = e1_avg - e2_avg\n",
    "print(race_alias[1], sex_alias[1], 'versus' ,race_alias[0], sex_alias[0],'TE' ,te)"
   ]
  },
  {
   "cell_type": "markdown",
   "metadata": {},
   "source": [
    "### Natural Effects"
   ]
  },
  {
   "cell_type": "markdown",
   "metadata": {},
   "source": [
    "#### Natural Direct Effects"
   ]
  },
  {
   "cell_type": "code",
   "execution_count": 180,
   "metadata": {},
   "outputs": [
    {
     "name": "stdout",
     "output_type": "stream",
     "text": [
      "African-American Male versus Caucasian Female NDE -0.02999999999999997\n"
     ]
    }
   ],
   "source": [
    "cond_model = pyro.condition(model, data={'priors_count': torch.tensor(0)})\n",
    "e1_samples = [pyro.do(cond_model, data={'sex': torch.tensor(1), 'race': torch.tensor(0)})() for _ in range(1000)]\n",
    "e2_samples = [pyro.do(cond_model, data={'sex': torch.tensor(0), 'race': torch.tensor(1)})() for _ in range(1000)]\n",
    "\n",
    "e1_avg = sum(e1_samples).item() / len(e1_samples)\n",
    "e2_avg = sum(e2_samples).item() / len(e2_samples)\n",
    "\n",
    "nde = e1_avg - e2_avg\n",
    "print(race_alias[0], sex_alias[1], 'versus' ,race_alias[1], sex_alias[0],'NDE', nde)"
   ]
  },
  {
   "cell_type": "code",
   "execution_count": 181,
   "metadata": {},
   "outputs": [
    {
     "name": "stdout",
     "output_type": "stream",
     "text": [
      "Caucasian Male versus African-American Female NDE -0.01100000000000001\n"
     ]
    }
   ],
   "source": [
    "cond_model = pyro.condition(model, data={'priors_count': torch.tensor(0)})\n",
    "e1_samples = [pyro.do(cond_model, data={'sex': torch.tensor(1), 'race': torch.tensor(1)})() for _ in range(1000)]\n",
    "e2_samples = [pyro.do(cond_model, data={'sex': torch.tensor(0), 'race': torch.tensor(0)})() for _ in range(1000)]\n",
    "\n",
    "e1_avg = sum(e1_samples).item() / len(e1_samples)\n",
    "e2_avg = sum(e2_samples).item() / len(e2_samples)\n",
    "\n",
    "nde = e1_avg - e2_avg\n",
    "print(race_alias[1], sex_alias[1], 'versus' ,race_alias[0], sex_alias[0],'NDE', nde)"
   ]
  },
  {
   "cell_type": "markdown",
   "metadata": {},
   "source": [
    "#### Natural Indirect Effect"
   ]
  },
  {
   "cell_type": "code",
   "execution_count": 203,
   "metadata": {},
   "outputs": [
    {
     "name": "stdout",
     "output_type": "stream",
     "text": [
      "NIE of African-American Female : 0.23399999999999993\n",
      "NIE of Caucasian Female : 0.26799999999999996\n"
     ]
    }
   ],
   "source": [
    "# When Z = 1 E(Y|(X = 1), do(M = 1)) - E(Y|(X = 1), do(M = 0))\n",
    "\n",
    "combos = [(0, 0), (1, 0)]\n",
    "for combo in combos:\n",
    "    race_index = combo[0]\n",
    "    sex_index = combo[1]\n",
    "    cond_model = pyro.condition(model, data={'sex': torch.tensor(sex_index), 'race': torch.tensor(race_index)})\n",
    "    e1_samples = [pyro.do(cond_model, data={'priors_count': torch.tensor(1)})() for _ in range(1000)]\n",
    "    e2_samples = [pyro.do(cond_model, data={'priors_count': torch.tensor(0)})() for _ in range(1000)]\n",
    "\n",
    "    e1_avg = sum(e1_samples).item() / len(e1_samples)\n",
    "    e2_avg = sum(e2_samples).item() / len(e2_samples)\n",
    "\n",
    "    nie = e1_avg - e2_avg\n",
    "\n",
    "    print('NIE of', race_alias[race_index], sex_alias[sex_index], ':', nie)"
   ]
  },
  {
   "cell_type": "markdown",
   "metadata": {},
   "source": [
    "### Necessity and Sufficienty"
   ]
  },
  {
   "cell_type": "markdown",
   "metadata": {},
   "source": [
    "#### Necessity"
   ]
  },
  {
   "cell_type": "markdown",
   "metadata": {},
   "source": [
    "$P_{necessity} = P(Y_{X=1} = 0 | X=0, Y=1)$"
   ]
  },
  {
   "cell_type": "code",
   "execution_count": 263,
   "metadata": {},
   "outputs": [
    {
     "name": "stdout",
     "output_type": "stream",
     "text": [
      "P necessity with Caucasian Male : 0.528\n",
      "P necessity with Caucasian Female : 0.487\n"
     ]
    }
   ],
   "source": [
    "stored_necessity = list()\n",
    "combos = [(1, 1), (1, 0)]\n",
    "for combo in combos:\n",
    "    race_index = combo[0]\n",
    "    sex_index = combo[1]\n",
    "\n",
    "    cond_model = pyro.condition(model, data = {\"sex\": torch.tensor(swap_value(sex_index)), \"race\": torch.tensor(swap_value(race_index)), \"two_year_recid\": torch.tensor(1)})\n",
    "    posterior = pyro.infer.Importance(cond_model, num_samples=num_sample).run()\n",
    "    p_necessities = []\n",
    "    for _ in range(1000):\n",
    "        trace = posterior()\n",
    "        a = trace.nodes['age_cat']['value']\n",
    "        c = trace.nodes['priors_count']['value']\n",
    "        do_model = pyro.do(model, data = {\"sex\": torch.tensor(sex_index), \"race\": torch.tensor(race_index)})\n",
    "        counterfactual_model = pyro.condition(do_model, data = {'age_cat': a, 'priors_count': c })\n",
    "        trace_counterfactual = pyro.poutine.trace(counterfactual_model)\n",
    "        trace = trace_counterfactual.get_trace()\n",
    "        p_necessities.append(float(trace.nodes['two_year_recid']['value']))\n",
    "\n",
    "    p_necessity = 1 - mean(p_necessities)\n",
    "    stored_necessity.append(p_necessity)\n",
    "    print(\"P necessity with\", race_alias[race_index], sex_alias[sex_index],':' , p_necessity)"
   ]
  },
  {
   "cell_type": "markdown",
   "metadata": {},
   "source": [
    "#### Sufficiency"
   ]
  },
  {
   "cell_type": "code",
   "execution_count": 264,
   "metadata": {},
   "outputs": [
    {
     "name": "stdout",
     "output_type": "stream",
     "text": [
      "P necessity of African-American Female 0.469\n",
      "P necessity of African-American Male 0.371\n"
     ]
    }
   ],
   "source": [
    "stored_sufficiency = list()\n",
    "combos = [(1, 1), (1, 0)]\n",
    "for combo in combos:\n",
    "    race_index = combo[0]\n",
    "    sex_index = combo[1]\n",
    "\n",
    "    cond_model = pyro.condition(model, data = {\"sex\": torch.tensor(sex_index), \"race\": torch.tensor(race_index), \"two_year_recid\": torch.tensor(0)})\n",
    "    posterior = pyro.infer.Importance(cond_model, num_samples=num_sample).run()\n",
    "    p_sufficiencies = []\n",
    "    for _ in range(1000):\n",
    "        trace = posterior()\n",
    "        a = trace.nodes['age_cat']['value']\n",
    "        c = trace.nodes['priors_count']['value']\n",
    "        do_model = pyro.do(model, data = {\"race\": torch.tensor(swap_value(race_index)), \"sex\": torch.tensor(swap_value(sex_index))})\n",
    "        counterfactual_model = pyro.condition(do_model, data = {'age_cat': a, 'priors_count': c })\n",
    "        trace_counterfactual = pyro.poutine.trace(counterfactual_model)\n",
    "        trace = trace_counterfactual.get_trace()\n",
    "        p_sufficiencies.append(float(trace.nodes['two_year_recid']['value']))\n",
    "\n",
    "    p_sufficiency = mean(p_sufficiencies)\n",
    "    stored_sufficiency.append(p_sufficiency)\n",
    "    print(\"P necessity of\", race_alias[swap_value(race_index)], sex_alias[swap_value(sex_index)], p_sufficiency)"
   ]
  },
  {
   "cell_type": "markdown",
   "metadata": {},
   "source": [
    "#### Necessity and Sufficiency\n",
    "$PNS = P(X=0, Y=1) * PN + P(X=1, Y=0) * PS$"
   ]
  },
  {
   "cell_type": "code",
   "execution_count": 266,
   "metadata": {},
   "outputs": [
    {
     "name": "stdout",
     "output_type": "stream",
     "text": [
      "PNS of Caucasian Male : 0.258353\n",
      "PNS of Caucasian Female : 0.22331299999999998\n"
     ]
    }
   ],
   "source": [
    "for p_necessity, p_sufficiency, index in zip(stored_necessity, stored_sufficiency, ((1, 1), (1, 0))):\n",
    "    num_trials = 1000\n",
    "    num_x0_y1 = 0\n",
    "    num_x1_y0 = 0\n",
    "    trace_handler = pyro.poutine.trace(model)\n",
    "    for _ in range(num_trials):\n",
    "        trace = trace_handler.get_trace()\n",
    "        x = trace.nodes['race']['value']\n",
    "        y = trace.nodes['two_year_recid']['value']\n",
    "        if x == 0 and y == 1:\n",
    "            num_x0_y1 += 1\n",
    "        if x == 1 and y == 0:\n",
    "            num_x1_y0 += 1\n",
    "    pns = (num_x0_y1 / num_trials) * p_necessity + (num_x1_y0 / num_trials) * p_sufficiency\n",
    "    race_alias[race_index], sex_alias[sex_index]\n",
    "    print('PNS of', race_alias[index[0]], sex_alias[index[1]], ':', pns)"
   ]
  },
  {
   "cell_type": "markdown",
   "metadata": {},
   "source": [
    "## Model 2 - Direct Race Path"
   ]
  },
  {
   "cell_type": "markdown",
   "metadata": {},
   "source": [
    "### Read Model Parameters"
   ]
  },
  {
   "cell_type": "code",
   "execution_count": 267,
   "metadata": {},
   "outputs": [],
   "source": [
    "# race\n",
    "df = pd.read_csv('data/model2_race.csv')\n",
    "race_alias = list(df['Var1'])\n",
    "race_prob = torch.tensor(list(df['Freq']) )\n",
    "\n",
    "# sex\n",
    "df = pd.read_csv('data/model2_sex.csv')\n",
    "sex_alias = list(df['Var1'])\n",
    "sex_prob = torch.tensor(list(df['Freq']) )\n",
    "\n",
    "# age_cat\n",
    "df = pd.read_csv('data/model2_age_cat.csv')\n",
    "age_cat_alias = list(df['Var1'])\n",
    "age_cat_prob = torch.tensor(list(df['Freq']) )\n",
    "\n",
    "# priors_count\n",
    "df = pd.read_csv('data/model2_priors_count.csv')\n",
    "priors_count_alias = list(set( df['priors_count'] ))\n",
    "\n",
    "dic = {}\n",
    "for index, row in df.iterrows():\n",
    "    dic[(row['race'], row['sex'],row['age_cat'],row['priors_count'])] = row['Freq']\n",
    "l0 = []\n",
    "for r in race_alias:\n",
    "    l1 = []\n",
    "    for s in sex_alias:\n",
    "        l2 = []\n",
    "        for a in age_cat_alias:\n",
    "            l3 = []\n",
    "            for c in priors_count_alias:            \n",
    "                l3 += [ dic[r,s,a,c] ]\n",
    "            l2 +=  [ l3 ]\n",
    "        l1 += [ l2 ]\n",
    "    l0 += [ l1 ]\n",
    "\n",
    "priors_count_probs = torch.tensor( l0 )\n",
    "\n",
    "# two_year_recid\n",
    "df = pd.read_csv('data/model2_two_year_recid.csv')\n",
    "two_year_recid_alias = list(set( df['two_year_recid'] ))\n",
    "\n",
    "dic = {}\n",
    "for index, row in df.iterrows():\n",
    "    dic[(row['race'], row['priors_count'],row['two_year_recid'])] = row['Freq']\n",
    "    \n",
    "l0 = []\n",
    "for r in race_alias:\n",
    "    l1 = []\n",
    "    for c in priors_count_alias:\n",
    "        l2 = []\n",
    "        for t in two_year_recid_alias:\n",
    "            l2 += [ dic[r,c,t] ]\n",
    "        l1 += [ l2 ]\n",
    "    l0 += [ l1 ]\n",
    "\n",
    "two_year_recid_probs = torch.tensor( l0 )"
   ]
  },
  {
   "cell_type": "markdown",
   "metadata": {},
   "source": [
    "### Define model"
   ]
  },
  {
   "cell_type": "code",
   "execution_count": 268,
   "metadata": {},
   "outputs": [],
   "source": [
    "def model():\n",
    "    race = pyro.sample(\"race\", dist.Categorical( race_prob )) \n",
    "    sex = pyro.sample(\"sex\", dist.Categorical( sex_prob )) \n",
    "    age_cat = pyro.sample(\"age_cat\", dist.Categorical( age_cat_prob )) \n",
    "    priors_count = pyro.sample(\"priors_count\", dist.Categorical(priors_count_probs[race][sex][age_cat]))\n",
    "    two_year_recid = pyro.sample(\"two_year_recid\", dist.Categorical(two_year_recid_probs[race][priors_count]))\n",
    "    return two_year_recid"
   ]
  },
  {
   "cell_type": "code",
   "execution_count": 269,
   "metadata": {},
   "outputs": [
    {
     "name": "stdout",
     "output_type": "stream",
     "text": [
      "False positive rate (Black)      :  0.48574686431014824\n",
      "False negative rate (Black)      :  0.44850669412976313\n",
      "Accuracy (Black)      :   0.5338203463203464\n",
      "AUC (Black)      :   0.5328732207800443\n",
      "\n",
      "False positive rate (White)      :  0.3781569965870307\n",
      "False negative rate (White)      :  0.5712841253791708\n",
      "Accuracy (White)      :   0.5440097799511002\n",
      "AUC (White)      :   0.5252794390168992\n",
      "\n",
      "False positive rate Gap: 0.10758986772311752\n",
      "False negative rate Gap: 0.12277743124940771\n"
     ]
    }
   ],
   "source": [
    "df = pd.read_csv(data_file_path)\n",
    "\n",
    "truth = []\n",
    "preds = []\n",
    "num_sample = 10\n",
    "for index, row in df.iterrows():\n",
    "    r = race_alias.index( row['race'] ) \n",
    "    s = sex_alias.index( row['sex'] ) \n",
    "    a = age_cat_alias.index( row['age_cat'] ) \n",
    "    c = priors_count_alias.index( row['priors_count'] ) \n",
    "    t = two_year_recid_alias.index( row['two_year_recid'] ) \n",
    "    conditioned_model = pyro.condition(model, data = {\"race\": torch.tensor( r ),\n",
    "                                                      \"sex\": torch.tensor( s ),\n",
    "                                                      \"age_cat\": torch.tensor( a ),\n",
    "                                                      \"priors_count\": torch.tensor( c )\n",
    "                                                     })\n",
    "    posterior = pyro.infer.Importance(conditioned_model, num_samples=num_sample).run()\n",
    "    trace = posterior()\n",
    "    pred = int(trace.nodes['two_year_recid']['value'])\n",
    "    truth += [ conditioned_model() ]\n",
    "    preds += [ pred ]\n",
    "    #if ((index%500)==0):print(index//500)\n",
    "truth = np.array(truth)\n",
    "preds = np.array(preds)\n",
    "\n",
    "# score for Black defendants\n",
    "y_test_ = truth[ df['race']=='African-American' ]\n",
    "y_pred_ = preds[ df['race']=='African-American' ]\n",
    "[[tn , fp],[fn , tp]]  = confusion_matrix(y_test_, y_pred_)\n",
    "print(\"False positive rate (Black)      : \", fp/(fp+tn))\n",
    "print(\"False negative rate (Black)      : \", fn/(fn+tp))\n",
    "print(\"Accuracy (Black)      :  \", accuracy_score(y_test_, y_pred_) )\n",
    "print(\"AUC (Black)      :  \", roc_auc_score(y_test_, y_pred_) )\n",
    "\n",
    "fpr_black = fp/(fp+tn)\n",
    "fnr_black =  fn/(fn+tp)\n",
    "\n",
    "# score for White defendants\n",
    "y_test_ = truth[ df['race']=='Caucasian' ]\n",
    "y_pred_ = preds[ df['race']=='Caucasian' ]\n",
    "[[tn , fp],[fn , tp]]  = confusion_matrix(y_test_, y_pred_)\n",
    "print(\"\\nFalse positive rate (White)      : \", fp/(fp+tn))\n",
    "print(\"False negative rate (White)      : \", fn/(fn+tp))\n",
    "print(\"Accuracy (White)      :  \", accuracy_score(y_test_, y_pred_) )\n",
    "print(\"AUC (White)      :  \", roc_auc_score(y_test_, y_pred_) )\n",
    "\n",
    "fpr_white = fp/(fp+tn)\n",
    "fnr_white =  fn/(fn+tp)\n",
    "\n",
    "print('\\nFalse positive rate Gap:', abs(fpr_black-fpr_white))\n",
    "print('False negative rate Gap:', abs(fnr_black-fnr_white))"
   ]
  },
  {
   "cell_type": "markdown",
   "metadata": {},
   "source": [
    "### Intervention"
   ]
  },
  {
   "cell_type": "markdown",
   "metadata": {},
   "source": [
    "You are interested in the average causal effect P(two_year_recid = 1|do(race = 0)) − P(two_year_recid = 1|do(race = 1)),\n",
    "where two_year_recid=1 represents recidivism, \n",
    "race=0 represents \"African-American\" \n",
    "race=1 represents \"Caucasian\" "
   ]
  },
  {
   "cell_type": "code",
   "execution_count": 270,
   "metadata": {},
   "outputs": [
    {
     "name": "stderr",
     "output_type": "stream",
     "text": [
      "100%|██████████| 100/100 [00:23<00:00,  4.27it/s]\n"
     ]
    }
   ],
   "source": [
    "ls = []\n",
    "for run in tqdm.tqdm(range(100)):\n",
    "    num_sample = 100\n",
    "    P_y1_do = {}\n",
    "    for x in [0,1]:\n",
    "        do_model = pyro.do(model, data={ 'race': torch.tensor( x )  })\n",
    "        posterior = pyro.infer.Importance(do_model, num_samples=num_sample).run()\n",
    "        marginal = pyro.infer.EmpiricalMarginal(posterior, \"two_year_recid\") \n",
    "        samples = np.array([marginal().item() for _ in range(num_sample)])\n",
    "        e_unique, e_counts = np.unique(samples, return_counts=True)\n",
    "        dic = dict( zip(e_unique, e_counts) )\n",
    "        P_y1_do[ x ] = dic[ 1 ] / num_sample\n",
    "    diff = P_y1_do[0] - P_y1_do[1]\n",
    "    ls += [ diff ]"
   ]
  },
  {
   "cell_type": "code",
   "execution_count": 271,
   "metadata": {
    "scrolled": true
   },
   "outputs": [
    {
     "data": {
      "image/png": "[encoded data removed]",
      "text/plain": [
       "<Figure size 432x288 with 1 Axes>"
      ]
     },
     "metadata": {
      "needs_background": "light"
     },
     "output_type": "display_data"
    }
   ],
   "source": [
    "plt.hist(ls) \n",
    "plt.show()"
   ]
  },
  {
   "cell_type": "code",
   "execution_count": 272,
   "metadata": {},
   "outputs": [
    {
     "name": "stdout",
     "output_type": "stream",
     "text": [
      "0.12249999999999998\n"
     ]
    }
   ],
   "source": [
    "total = 0\n",
    "for x in ls:\n",
    "    total = total + x\n",
    "print(total / len(ls))"
   ]
  },
  {
   "cell_type": "markdown",
   "metadata": {},
   "source": [
    "### Counterfactual fairness"
   ]
  },
  {
   "cell_type": "code",
   "execution_count": 273,
   "metadata": {},
   "outputs": [
    {
     "name": "stderr",
     "output_type": "stream",
     "text": [
      "100%|██████████| 100/100 [00:02<00:00, 34.59it/s]\n"
     ]
    }
   ],
   "source": [
    "num_sample = 100\n",
    "conditioned_model = pyro.condition(model, data = {\"race\": torch.tensor(1), \"two_year_recid\": torch.tensor(0)})\n",
    "posterior = pyro.infer.Importance(conditioned_model, num_samples=num_sample).run()\n",
    "ls = []\n",
    "for run in tqdm.tqdm(range(100)):\n",
    "    z = 0\n",
    "    for _ in range(num_sample):\n",
    "        trace = posterior()\n",
    "        s = trace.nodes['sex']['value']\n",
    "        a = trace.nodes['age_cat']['value']\n",
    "        c = trace.nodes['priors_count']['value']\n",
    "        do_model = pyro.do(model, data = {\"race\": torch.tensor(0)})\n",
    "        counterfactual_model = pyro.condition(do_model, data = {'sex': s,'age_cat': a, 'priors_count': c })\n",
    "        trace_counterfactual = pyro.poutine.trace(counterfactual_model)\n",
    "        trace = trace_counterfactual.get_trace()\n",
    "        z += trace.nodes['two_year_recid']['value']\n",
    "    ls += [ float(z)/num_sample ]"
   ]
  },
  {
   "cell_type": "code",
   "execution_count": 274,
   "metadata": {},
   "outputs": [
    {
     "data": {
      "image/png": "[encoded data removed]",
      "text/plain": [
       "<Figure size 432x288 with 1 Axes>"
      ]
     },
     "metadata": {
      "needs_background": "light"
     },
     "output_type": "display_data"
    }
   ],
   "source": [
    "plt.hist(ls)\n",
    "plt.show()"
   ]
  },
  {
   "cell_type": "code",
   "execution_count": 275,
   "metadata": {},
   "outputs": [
    {
     "name": "stdout",
     "output_type": "stream",
     "text": [
      "0.4425999999999999\n"
     ]
    }
   ],
   "source": [
    "total = 0\n",
    "for x in ls:\n",
    "    total = total + x\n",
    "print(total / len(ls))"
   ]
  },
  {
   "cell_type": "markdown",
   "metadata": {},
   "source": [
    "### Average Total Effects"
   ]
  },
  {
   "cell_type": "code",
   "execution_count": 276,
   "metadata": {
    "scrolled": false
   },
   "outputs": [
    {
     "data": {
      "text/plain": [
       "-0.14900000000000002"
      ]
     },
     "execution_count": 276,
     "metadata": {},
     "output_type": "execute_result"
    }
   ],
   "source": [
    "# E(Y|do(X=1))−E(Y|do(X=0)).\n",
    "e1_samples = [pyro.do(model, data={'race': torch.tensor(1)})() for _ in range(1000)]\n",
    "e2_samples = [pyro.do(model, data={'race': torch.tensor(0)})() for _ in range(1000)]\n",
    "e1_avg = sum(e1_samples).item() / len(e1_samples)\n",
    "e2_avg = sum(e2_samples).item() / len(e2_samples)\n",
    "e1_avg - e2_avg"
   ]
  },
  {
   "cell_type": "markdown",
   "metadata": {},
   "source": [
    "### Natural effects"
   ]
  },
  {
   "cell_type": "markdown",
   "metadata": {},
   "source": [
    "#### Natural Direct Effects"
   ]
  },
  {
   "cell_type": "code",
   "execution_count": 277,
   "metadata": {},
   "outputs": [],
   "source": [
    "# When Z = 1 E(Y|(M = 1), do(X = 1)) - E(Y|(M = 1), do(X = 0))\n",
    "cond_model = pyro.condition(model, data={'priors_count': torch.tensor(0)})\n",
    "e1_samples = [pyro.do(cond_model, data={'race': torch.tensor(1)})() for _ in range(1000)]\n",
    "e2_samples = [pyro.do(cond_model, data={'race': torch.tensor(0)})() for _ in range(1000)]"
   ]
  },
  {
   "cell_type": "code",
   "execution_count": 278,
   "metadata": {},
   "outputs": [],
   "source": [
    "e1_avg = sum(e1_samples).item() / len(e1_samples)\n",
    "e2_avg = sum(e2_samples).item() / len(e2_samples)"
   ]
  },
  {
   "cell_type": "code",
   "execution_count": 279,
   "metadata": {},
   "outputs": [
    {
     "data": {
      "text/plain": [
       "0.271"
      ]
     },
     "execution_count": 279,
     "metadata": {},
     "output_type": "execute_result"
    }
   ],
   "source": [
    "e1_avg"
   ]
  },
  {
   "cell_type": "code",
   "execution_count": 280,
   "metadata": {},
   "outputs": [
    {
     "data": {
      "text/plain": [
       "0.367"
      ]
     },
     "execution_count": 280,
     "metadata": {},
     "output_type": "execute_result"
    }
   ],
   "source": [
    "e2_avg"
   ]
  },
  {
   "cell_type": "code",
   "execution_count": 281,
   "metadata": {},
   "outputs": [
    {
     "data": {
      "text/plain": [
       "-0.09599999999999997"
      ]
     },
     "execution_count": 281,
     "metadata": {},
     "output_type": "execute_result"
    }
   ],
   "source": [
    "e1_avg - e2_avg"
   ]
  },
  {
   "cell_type": "markdown",
   "metadata": {},
   "source": [
    "#### Natural Indirect Effects"
   ]
  },
  {
   "cell_type": "code",
   "execution_count": 282,
   "metadata": {},
   "outputs": [],
   "source": [
    "# NIE = E(Y | M=1, do(X=0)) – E(Y | M=0, do(X=0))\n",
    "cond_model_1 = pyro.condition(model, data={'priors_count': torch.tensor(1)})\n",
    "cond_model_2 = pyro.condition(model, data={'priors_count': torch.tensor(0)})\n",
    "e1_samples = [pyro.do(cond_model_1, data={'race': torch.tensor(0)})() for _ in range(1000)]\n",
    "e2_samples = [pyro.do(cond_model_2, data={'race': torch.tensor(0)})() for _ in range(1000)]"
   ]
  },
  {
   "cell_type": "code",
   "execution_count": 283,
   "metadata": {},
   "outputs": [],
   "source": [
    "e1_avg = sum(e1_samples).item() / len(e1_samples)\n",
    "e2_avg = sum(e2_samples).item() / len(e2_samples)"
   ]
  },
  {
   "cell_type": "code",
   "execution_count": 284,
   "metadata": {},
   "outputs": [
    {
     "data": {
      "text/plain": [
       "0.22399999999999998"
      ]
     },
     "execution_count": 284,
     "metadata": {},
     "output_type": "execute_result"
    }
   ],
   "source": [
    "e1_avg - e2_avg"
   ]
  },
  {
   "cell_type": "markdown",
   "metadata": {},
   "source": [
    "### Necessity and Sufficienty"
   ]
  },
  {
   "cell_type": "markdown",
   "metadata": {},
   "source": [
    "#### Necessity"
   ]
  },
  {
   "cell_type": "markdown",
   "metadata": {},
   "source": [
    "$P_{necessity} = P(Y_{X=1} = 0 | X=0, Y=1)$"
   ]
  },
  {
   "cell_type": "code",
   "execution_count": 285,
   "metadata": {},
   "outputs": [],
   "source": [
    "cond_model = pyro.condition(model, data = {\"race\": torch.tensor(0), \"two_year_recid\": torch.tensor(1)})\n",
    "posterior = pyro.infer.Importance(cond_model, num_samples=num_sample).run()\n",
    "p_necessities = []\n",
    "for _ in range(1000):\n",
    "    trace = posterior()\n",
    "    s = trace.nodes['sex']['value']\n",
    "    a = trace.nodes['age_cat']['value']\n",
    "    c = trace.nodes['priors_count']['value']\n",
    "    do_model = pyro.do(model, data = {\"race\": torch.tensor(1)})\n",
    "    counterfactual_model = pyro.condition(do_model, data = {'sex': s,'age_cat': a, 'priors_count': c })\n",
    "    trace_counterfactual = pyro.poutine.trace(counterfactual_model)\n",
    "    trace = trace_counterfactual.get_trace()\n",
    "    p_necessities.append(float(trace.nodes['two_year_recid']['value']))"
   ]
  },
  {
   "cell_type": "code",
   "execution_count": 286,
   "metadata": {},
   "outputs": [
    {
     "name": "stdout",
     "output_type": "stream",
     "text": [
      "P necessity = 0.538\n"
     ]
    }
   ],
   "source": [
    "p_necessity = 1 - mean(p_necessities)\n",
    "print(\"P necessity =\", p_necessity)"
   ]
  },
  {
   "cell_type": "markdown",
   "metadata": {},
   "source": [
    "#### Sufficiency\n",
    "$P(Y_{X=0} = 1 | X=1, Y=0)$"
   ]
  },
  {
   "cell_type": "code",
   "execution_count": 287,
   "metadata": {},
   "outputs": [],
   "source": [
    "cond_model = pyro.condition(model, data = {\"race\": torch.tensor(1), \"two_year_recid\": torch.tensor(0)})\n",
    "posterior = pyro.infer.Importance(cond_model, num_samples=num_sample).run()\n",
    "p_sufficiencies = []\n",
    "for _ in range(1000):\n",
    "    trace = posterior()\n",
    "    s = trace.nodes['sex']['value']\n",
    "    a = trace.nodes['age_cat']['value']\n",
    "    c = trace.nodes['priors_count']['value']\n",
    "    do_model = pyro.do(model, data = {\"race\": torch.tensor(0)})\n",
    "    counterfactual_model = pyro.condition(do_model, data = {'sex': s,'age_cat': a, 'priors_count': c })\n",
    "    trace_counterfactual = pyro.poutine.trace(counterfactual_model)\n",
    "    trace = trace_counterfactual.get_trace()\n",
    "    p_sufficiencies.append(float(trace.nodes['two_year_recid']['value']))"
   ]
  },
  {
   "cell_type": "code",
   "execution_count": 288,
   "metadata": {},
   "outputs": [
    {
     "name": "stdout",
     "output_type": "stream",
     "text": [
      "P necessity = 0.478\n"
     ]
    }
   ],
   "source": [
    "p_sufficiency = mean(p_sufficiencies)\n",
    "print(\"P necessity =\", p_sufficiency)"
   ]
  },
  {
   "cell_type": "markdown",
   "metadata": {},
   "source": [
    "#### Necessity and Sufficiency\n",
    "$PNS = P(X=0, Y=1) * PN + P(X=1, Y=0) * PS$"
   ]
  },
  {
   "cell_type": "code",
   "execution_count": 289,
   "metadata": {},
   "outputs": [
    {
     "name": "stdout",
     "output_type": "stream",
     "text": [
      "PNS = 0.28634000000000004\n"
     ]
    }
   ],
   "source": [
    "num_trials = 1000\n",
    "num_x0_y1 = 0\n",
    "num_x1_y0 = 0\n",
    "trace_handler = pyro.poutine.trace(model)\n",
    "for _ in range(num_trials):\n",
    "    trace = trace_handler.get_trace()\n",
    "    x = trace.nodes['race']['value']\n",
    "    y = trace.nodes['two_year_recid']['value']\n",
    "    if x == 0 and y == 1:\n",
    "        num_x0_y1 += 1\n",
    "    if x == 1 and y == 0:\n",
    "        num_x1_y0 += 1\n",
    "pns = (num_x0_y1 / num_trials) * p_necessity + (num_x1_y0 / num_trials) * p_sufficiency\n",
    "print('PNS =', pns)"
   ]
  },
  {
   "cell_type": "markdown",
   "metadata": {},
   "source": [
    "## Model 3 - Unaware by Race"
   ]
  },
  {
   "cell_type": "markdown",
   "metadata": {},
   "source": [
    "### Read data"
   ]
  },
  {
   "cell_type": "code",
   "execution_count": 290,
   "metadata": {},
   "outputs": [],
   "source": [
    "# race\n",
    "df = pd.read_csv('data/model3_race.csv')\n",
    "race_alias = list(df['Var1'])\n",
    "race_prob = torch.tensor(list(df['Freq']) )\n",
    "\n",
    "# sex\n",
    "df = pd.read_csv('data/model3_sex.csv')\n",
    "sex_alias = list(df['Var1'])\n",
    "sex_prob = torch.tensor(list(df['Freq']) )\n",
    "\n",
    "# age_cat\n",
    "df = pd.read_csv('data/model3_age_cat.csv')\n",
    "age_cat_alias = list(df['Var1'])\n",
    "age_cat_prob = torch.tensor(list(df['Freq']) )\n",
    "\n",
    "# priors_count\n",
    "df = pd.read_csv('data/model3_priors_count.csv')\n",
    "priors_count_alias = list(set( df['priors_count'] ))\n",
    "\n",
    "dic = {}\n",
    "for index, row in df.iterrows():\n",
    "    dic[( row['sex'],row['age_cat'],row['priors_count'])] = row['Freq']\n",
    "l1 = []\n",
    "for s in sex_alias:\n",
    "    l2 = []\n",
    "    for a in age_cat_alias:\n",
    "        l3 = []\n",
    "        for c in priors_count_alias:            \n",
    "            l3 += [ dic[s,a,c] ]\n",
    "        l2 +=  [ l3 ]\n",
    "    l1 += [ l2 ]\n",
    "\n",
    "priors_count_probs = torch.tensor( l1 )\n",
    "\n",
    "# two_year_recid\n",
    "df = pd.read_csv('data/model3_two_year_recid.csv')\n",
    "two_year_recid_alias = list(df['Unnamed: 0'])\n",
    "\n",
    "l = []\n",
    "for e in priors_count_alias:\n",
    "    l += [ list( df[e] )  ]\n",
    "two_year_recid_probs = torch.tensor( l )"
   ]
  },
  {
   "cell_type": "markdown",
   "metadata": {},
   "source": [
    "### Define model"
   ]
  },
  {
   "cell_type": "code",
   "execution_count": 291,
   "metadata": {},
   "outputs": [],
   "source": [
    "def model():\n",
    "    race = pyro.sample(\"race\", dist.Categorical( race_prob )) \n",
    "    sex = pyro.sample(\"sex\", dist.Categorical( sex_prob )) \n",
    "    age_cat = pyro.sample(\"age_cat\", dist.Categorical( age_cat_prob )) \n",
    "    priors_count = pyro.sample(\"priors_count\", dist.Categorical(priors_count_probs[sex][age_cat]))\n",
    "    two_year_recid = pyro.sample(\"two_year_recid\", dist.Categorical(two_year_recid_probs[priors_count]))\n",
    "    return two_year_recid\n"
   ]
  },
  {
   "cell_type": "markdown",
   "metadata": {},
   "source": [
    "### Association"
   ]
  },
  {
   "cell_type": "code",
   "execution_count": 292,
   "metadata": {
    "jupyter": {
     "outputs_hidden": true
    }
   },
   "outputs": [
    {
     "name": "stdout",
     "output_type": "stream",
     "text": [
      "False positive rate (Black)      :  0.44415983606557374\n",
      "False negative rate (Black)      :  0.4994266055045872\n",
      "Accuracy (Black)      :   0.5297619047619048\n",
      "AUC (Black)      :   0.5282067792149195\n",
      "\n",
      "False positive rate (White)      :  0.40427098674521356\n",
      "False negative rate (White)      :  0.541970802919708\n",
      "Accuracy (White)      :   0.5342298288508558\n",
      "AUC (White)      :   0.5268791051675392\n",
      "\n",
      "False positive rate Gap: 0.03988884932036019\n",
      "False negative rate Gap: 0.04254419741512083\n"
     ]
    }
   ],
   "source": [
    "df = pd.read_csv(data_file_path)\n",
    "\n",
    "truth = []\n",
    "preds = []\n",
    "num_sample = 10\n",
    "for index, row in df.iterrows():\n",
    "    r = race_alias.index( row['race'] ) \n",
    "    s = sex_alias.index( row['sex'] ) \n",
    "    a = age_cat_alias.index( row['age_cat'] ) \n",
    "    c = priors_count_alias.index( row['priors_count'] ) \n",
    "    t = two_year_recid_alias.index( row['two_year_recid'] ) \n",
    "    conditioned_model = pyro.condition(model, data = {\"race\": torch.tensor( r ),\n",
    "                                                      \"sex\": torch.tensor( s ),\n",
    "                                                      \"age_cat\": torch.tensor( a ),\n",
    "                                                      \"priors_count\": torch.tensor( c )\n",
    "                                                     })\n",
    "    posterior = pyro.infer.Importance(conditioned_model, num_samples=num_sample).run()\n",
    "    trace = posterior()\n",
    "    pred = int(trace.nodes['two_year_recid']['value'])\n",
    "    truth += [ conditioned_model() ]\n",
    "    preds += [ pred ]\n",
    "    #if ((index%500)==0):print(index//500)\n",
    "truth = np.array(truth)\n",
    "preds = np.array(preds)\n",
    "\n",
    "# score for Black defendants\n",
    "y_test_ = truth[ df['race']=='African-American' ]\n",
    "y_pred_ = preds[ df['race']=='African-American' ]\n",
    "[[tn , fp],[fn , tp]]  = confusion_matrix(y_test_, y_pred_)\n",
    "print(\"False positive rate (Black)      : \", fp/(fp+tn))\n",
    "print(\"False negative rate (Black)      : \", fn/(fn+tp))\n",
    "print(\"Accuracy (Black)      :  \", accuracy_score(y_test_, y_pred_) )\n",
    "print(\"AUC (Black)      :  \", roc_auc_score(y_test_, y_pred_) )\n",
    "\n",
    "fpr_black = fp/(fp+tn)\n",
    "fnr_black =  fn/(fn+tp)\n",
    "\n",
    "# score for White defendants\n",
    "y_test_ = truth[ df['race']=='Caucasian' ]\n",
    "y_pred_ = preds[ df['race']=='Caucasian' ]\n",
    "[[tn , fp],[fn , tp]]  = confusion_matrix(y_test_, y_pred_)\n",
    "print(\"\\nFalse positive rate (White)      : \", fp/(fp+tn))\n",
    "print(\"False negative rate (White)      : \", fn/(fn+tp))\n",
    "print(\"Accuracy (White)      :  \", accuracy_score(y_test_, y_pred_) )\n",
    "print(\"AUC (White)      :  \", roc_auc_score(y_test_, y_pred_) )\n",
    "\n",
    "fpr_white = fp/(fp+tn)\n",
    "fnr_white =  fn/(fn+tp)\n",
    "\n",
    "print('\\nFalse positive rate Gap:', abs(fpr_black-fpr_white))\n",
    "print('False negative rate Gap:', abs(fnr_black-fnr_white))"
   ]
  },
  {
   "cell_type": "markdown",
   "metadata": {},
   "source": [
    "### Intervention"
   ]
  },
  {
   "cell_type": "code",
   "execution_count": 73,
   "metadata": {},
   "outputs": [],
   "source": [
    "# You are interested in the average causal effect P(two_year_recid = 1|do(race = 0)) − P(two_year_recid = 1|do(race = 1)),\n",
    "# where two_year_recid=1 represents recidivism, \n",
    "# race=0 represents \"African-American\" \n",
    "# race=0 represents \"Caucasian\" "
   ]
  },
  {
   "cell_type": "code",
   "execution_count": 293,
   "metadata": {},
   "outputs": [
    {
     "name": "stderr",
     "output_type": "stream",
     "text": [
      "100%|██████████| 100/100 [00:23<00:00,  4.31it/s]\n"
     ]
    }
   ],
   "source": [
    "ls = []\n",
    "for run in tqdm.tqdm(range(100)):\n",
    "    num_sample = 100\n",
    "    P_y1_do = {}\n",
    "    for x in [0,1]:\n",
    "        do_model = pyro.do(model, data={ 'race': torch.tensor( x )  })\n",
    "        posterior = pyro.infer.Importance(do_model, num_samples=num_sample).run()\n",
    "        marginal = pyro.infer.EmpiricalMarginal(posterior, \"two_year_recid\") \n",
    "        samples = np.array([marginal().item() for _ in range(num_sample)])\n",
    "        e_unique, e_counts = np.unique(samples, return_counts=True)\n",
    "        dic = dict( zip(e_unique, e_counts) )\n",
    "        P_y1_do[ x ] = dic[ 1 ] / num_sample\n",
    "    diff = P_y1_do[0] - P_y1_do[1]\n",
    "    ls += [ diff ]"
   ]
  },
  {
   "cell_type": "code",
   "execution_count": 294,
   "metadata": {},
   "outputs": [
    {
     "data": {
      "image/png": "[encoded data removed]",
      "text/plain": [
       "<Figure size 432x288 with 1 Axes>"
      ]
     },
     "metadata": {
      "needs_background": "light"
     },
     "output_type": "display_data"
    }
   ],
   "source": [
    "plt.hist(ls)\n",
    "plt.show()"
   ]
  },
  {
   "cell_type": "code",
   "execution_count": 295,
   "metadata": {},
   "outputs": [
    {
     "name": "stdout",
     "output_type": "stream",
     "text": [
      "0.004000000000000001\n"
     ]
    }
   ],
   "source": [
    "total = 0\n",
    "for x in ls:\n",
    "    total = total + x\n",
    "print(total / len(ls))"
   ]
  },
  {
   "cell_type": "markdown",
   "metadata": {},
   "source": [
    "### Counterfactual fairness"
   ]
  },
  {
   "cell_type": "code",
   "execution_count": 296,
   "metadata": {},
   "outputs": [],
   "source": [
    "# P(two_year_recid race=0 = 1|race = 1,two_year_recid = 0)"
   ]
  },
  {
   "cell_type": "code",
   "execution_count": 297,
   "metadata": {},
   "outputs": [
    {
     "name": "stderr",
     "output_type": "stream",
     "text": [
      "100%|██████████| 100/100 [00:02<00:00, 35.45it/s]\n"
     ]
    }
   ],
   "source": [
    "num_sample = 100\n",
    "conditioned_model = pyro.condition(model, data = {\"race\": torch.tensor(1), \"two_year_recid\": torch.tensor(0)})\n",
    "posterior = pyro.infer.Importance(conditioned_model, num_samples=num_sample).run()\n",
    "ls = []\n",
    "for run in tqdm.tqdm(range(100)):\n",
    "    z = 0\n",
    "    for _ in range(num_sample):\n",
    "        trace = posterior()\n",
    "        s = trace.nodes['sex']['value']\n",
    "        a = trace.nodes['age_cat']['value']\n",
    "        c = trace.nodes['priors_count']['value']\n",
    "        do_model = pyro.do(model, data = {\"race\": torch.tensor(0)})\n",
    "        counterfactual_model = pyro.condition(do_model, data = {'sex': s,'age_cat': a, 'priors_count': c })\n",
    "        trace_counterfactual = pyro.poutine.trace(counterfactual_model)\n",
    "        trace = trace_counterfactual.get_trace()\n",
    "        z += trace.nodes['two_year_recid']['value']\n",
    "    ls += [ float(z)/num_sample ]"
   ]
  },
  {
   "cell_type": "code",
   "execution_count": 298,
   "metadata": {},
   "outputs": [
    {
     "data": {
      "image/png": "[encoded data removed]",
      "text/plain": [
       "<Figure size 432x288 with 1 Axes>"
      ]
     },
     "metadata": {
      "needs_background": "light"
     },
     "output_type": "display_data"
    }
   ],
   "source": [
    "plt.hist(ls)\n",
    "plt.show()"
   ]
  },
  {
   "cell_type": "code",
   "execution_count": 299,
   "metadata": {},
   "outputs": [
    {
     "name": "stdout",
     "output_type": "stream",
     "text": [
      "0.43860000000000005\n"
     ]
    }
   ],
   "source": [
    "total = 0\n",
    "for x in ls:\n",
    "    total = total + x\n",
    "print(total / len(ls))"
   ]
  },
  {
   "cell_type": "code",
   "execution_count": 300,
   "metadata": {},
   "outputs": [],
   "source": [
    "# P(two_year_recid race=1 = 1|race = 0,two_year_recid = 1)"
   ]
  },
  {
   "cell_type": "code",
   "execution_count": 301,
   "metadata": {},
   "outputs": [
    {
     "name": "stderr",
     "output_type": "stream",
     "text": [
      "100%|██████████| 100/100 [00:02<00:00, 34.60it/s]\n"
     ]
    }
   ],
   "source": [
    "num_sample = 100\n",
    "conditioned_model = pyro.condition(model, data = {\"race\": torch.tensor(0), \"two_year_recid\": torch.tensor(1)})\n",
    "posterior = pyro.infer.Importance(conditioned_model, num_samples=num_sample).run()\n",
    "ls = []\n",
    "for run in tqdm.tqdm(range(100)):\n",
    "    z = 0\n",
    "    for _ in range(num_sample):\n",
    "        trace = posterior()\n",
    "        s = trace.nodes['sex']['value']\n",
    "        a = trace.nodes['age_cat']['value']\n",
    "        c = trace.nodes['priors_count']['value']\n",
    "        do_model = pyro.do(model, data = {\"race\": torch.tensor(1)})\n",
    "        counterfactual_model = pyro.condition(do_model, data = {'sex': s,'age_cat': a, 'priors_count': c })\n",
    "        trace_counterfactual = pyro.poutine.trace(counterfactual_model)\n",
    "        trace = trace_counterfactual.get_trace()\n",
    "        z += trace.nodes['two_year_recid']['value']\n",
    "    ls += [ float(z)/num_sample ]"
   ]
  },
  {
   "cell_type": "code",
   "execution_count": 302,
   "metadata": {},
   "outputs": [
    {
     "data": {
      "image/png": "[encoded data removed]",
      "text/plain": [
       "<Figure size 432x288 with 1 Axes>"
      ]
     },
     "metadata": {
      "needs_background": "light"
     },
     "output_type": "display_data"
    }
   ],
   "source": [
    "plt.hist(ls)\n",
    "plt.show()"
   ]
  },
  {
   "cell_type": "code",
   "execution_count": 303,
   "metadata": {},
   "outputs": [
    {
     "name": "stdout",
     "output_type": "stream",
     "text": [
      "0.5104000000000002\n"
     ]
    }
   ],
   "source": [
    "total = 0\n",
    "for x in ls:\n",
    "    total = total + x\n",
    "print(total / len(ls))"
   ]
  },
  {
   "cell_type": "markdown",
   "metadata": {},
   "source": [
    "### Average Total Effects"
   ]
  },
  {
   "cell_type": "code",
   "execution_count": 304,
   "metadata": {
    "scrolled": false
   },
   "outputs": [
    {
     "data": {
      "text/plain": [
       "-0.01899999999999996"
      ]
     },
     "execution_count": 304,
     "metadata": {},
     "output_type": "execute_result"
    }
   ],
   "source": [
    "# E(Y|do(X=1))−E(Y|do(X=0)).\n",
    "e1_samples = [pyro.do(model, data={'race': torch.tensor(1)})() for _ in range(1000)]\n",
    "e2_samples = [pyro.do(model, data={'race': torch.tensor(0)})() for _ in range(1000)]\n",
    "e1_avg = sum(e1_samples).item() / len(e1_samples)\n",
    "e2_avg = sum(e2_samples).item() / len(e2_samples)\n",
    "e1_avg - e2_avg"
   ]
  },
  {
   "cell_type": "markdown",
   "metadata": {},
   "source": [
    "### Natural effects"
   ]
  },
  {
   "cell_type": "markdown",
   "metadata": {},
   "source": [
    "#### Natural Direct Effects"
   ]
  },
  {
   "cell_type": "code",
   "execution_count": 305,
   "metadata": {},
   "outputs": [],
   "source": [
    "# When Z = 1 E(Y|(M = 1), do(X = 1)) - E(Y|(M = 1), do(X = 0))\n",
    "cond_model = pyro.condition(model, data={'priors_count': torch.tensor(0)})\n",
    "e1_samples = [pyro.do(cond_model, data={'race': torch.tensor(1)})() for _ in range(1000)]\n",
    "e2_samples = [pyro.do(cond_model, data={'race': torch.tensor(0)})() for _ in range(1000)]"
   ]
  },
  {
   "cell_type": "code",
   "execution_count": 306,
   "metadata": {},
   "outputs": [],
   "source": [
    "e1_avg = sum(e1_samples).item() / len(e1_samples)\n",
    "e2_avg = sum(e2_samples).item() / len(e2_samples)"
   ]
  },
  {
   "cell_type": "code",
   "execution_count": 307,
   "metadata": {},
   "outputs": [
    {
     "data": {
      "text/plain": [
       "0.335"
      ]
     },
     "execution_count": 307,
     "metadata": {},
     "output_type": "execute_result"
    }
   ],
   "source": [
    "e1_avg"
   ]
  },
  {
   "cell_type": "code",
   "execution_count": 308,
   "metadata": {},
   "outputs": [
    {
     "data": {
      "text/plain": [
       "0.343"
      ]
     },
     "execution_count": 308,
     "metadata": {},
     "output_type": "execute_result"
    }
   ],
   "source": [
    "e2_avg"
   ]
  },
  {
   "cell_type": "code",
   "execution_count": 309,
   "metadata": {},
   "outputs": [
    {
     "data": {
      "text/plain": [
       "-0.008000000000000007"
      ]
     },
     "execution_count": 309,
     "metadata": {},
     "output_type": "execute_result"
    }
   ],
   "source": [
    "e1_avg - e2_avg"
   ]
  },
  {
   "cell_type": "markdown",
   "metadata": {},
   "source": [
    "#### Natural Indirect Effects"
   ]
  },
  {
   "cell_type": "code",
   "execution_count": 310,
   "metadata": {},
   "outputs": [],
   "source": [
    "# NIE = E(Y | M=1, do(X=0)) – E(Y | M=0, do(X=0))\n",
    "cond_model_1 = pyro.condition(model, data={'priors_count': torch.tensor(1)})\n",
    "cond_model_2 = pyro.condition(model, data={'priors_count': torch.tensor(0)})\n",
    "e1_samples = [pyro.do(cond_model_1, data={'race': torch.tensor(0)})() for _ in range(1000)]\n",
    "e2_samples = [pyro.do(cond_model_2, data={'race': torch.tensor(0)})() for _ in range(1000)]"
   ]
  },
  {
   "cell_type": "code",
   "execution_count": 311,
   "metadata": {},
   "outputs": [],
   "source": [
    "e1_avg = sum(e1_samples).item() / len(e1_samples)\n",
    "e2_avg = sum(e2_samples).item() / len(e2_samples)"
   ]
  },
  {
   "cell_type": "code",
   "execution_count": 312,
   "metadata": {},
   "outputs": [
    {
     "data": {
      "text/plain": [
       "0.25399999999999995"
      ]
     },
     "execution_count": 312,
     "metadata": {},
     "output_type": "execute_result"
    }
   ],
   "source": [
    "e1_avg - e2_avg"
   ]
  },
  {
   "cell_type": "markdown",
   "metadata": {},
   "source": [
    "### Necessity and Sufficienty"
   ]
  },
  {
   "cell_type": "markdown",
   "metadata": {},
   "source": [
    "#### Necessity"
   ]
  },
  {
   "cell_type": "markdown",
   "metadata": {},
   "source": [
    "$P_{necessity} = P(Y_{X=1} = 0 | X=0, Y=1)$"
   ]
  },
  {
   "cell_type": "code",
   "execution_count": 313,
   "metadata": {},
   "outputs": [],
   "source": [
    "cond_model = pyro.condition(model, data = {\"race\": torch.tensor(0), \"two_year_recid\": torch.tensor(1)})\n",
    "posterior = pyro.infer.Importance(cond_model, num_samples=num_sample).run()\n",
    "p_necessities = []\n",
    "for _ in range(1000):\n",
    "    trace = posterior()\n",
    "    s = trace.nodes['sex']['value']\n",
    "    a = trace.nodes['age_cat']['value']\n",
    "    c = trace.nodes['priors_count']['value']\n",
    "    do_model = pyro.do(model, data = {\"race\": torch.tensor(1)})\n",
    "    counterfactual_model = pyro.condition(do_model, data = {'sex': s,'age_cat': a, 'priors_count': c })\n",
    "    trace_counterfactual = pyro.poutine.trace(counterfactual_model)\n",
    "    trace = trace_counterfactual.get_trace()\n",
    "    p_necessities.append(float(trace.nodes['two_year_recid']['value']))"
   ]
  },
  {
   "cell_type": "code",
   "execution_count": 314,
   "metadata": {},
   "outputs": [
    {
     "name": "stdout",
     "output_type": "stream",
     "text": [
      "P necessity = 0.52\n"
     ]
    }
   ],
   "source": [
    "p_necessity = 1 - mean(p_necessities)\n",
    "print(\"P necessity =\", p_necessity)"
   ]
  },
  {
   "cell_type": "markdown",
   "metadata": {},
   "source": [
    "#### Sufficiency\n",
    "$P(Y_{X=0} = 1 | X=1, Y=0)$"
   ]
  },
  {
   "cell_type": "code",
   "execution_count": 315,
   "metadata": {},
   "outputs": [],
   "source": [
    "cond_model = pyro.condition(model, data = {\"race\": torch.tensor(1), \"two_year_recid\": torch.tensor(0)})\n",
    "posterior = pyro.infer.Importance(cond_model, num_samples=num_sample).run()\n",
    "p_sufficiencies = []\n",
    "for _ in range(1000):\n",
    "    trace = posterior()\n",
    "    s = trace.nodes['sex']['value']\n",
    "    a = trace.nodes['age_cat']['value']\n",
    "    c = trace.nodes['priors_count']['value']\n",
    "    do_model = pyro.do(model, data = {\"race\": torch.tensor(0)})\n",
    "    counterfactual_model = pyro.condition(do_model, data = {'sex': s,'age_cat': a, 'priors_count': c })\n",
    "    trace_counterfactual = pyro.poutine.trace(counterfactual_model)\n",
    "    trace = trace_counterfactual.get_trace()\n",
    "    p_sufficiencies.append(float(trace.nodes['two_year_recid']['value']))"
   ]
  },
  {
   "cell_type": "code",
   "execution_count": 316,
   "metadata": {
    "scrolled": true
   },
   "outputs": [
    {
     "name": "stdout",
     "output_type": "stream",
     "text": [
      "P necessity = 0.432\n"
     ]
    }
   ],
   "source": [
    "p_sufficiency = mean(p_sufficiencies)\n",
    "print(\"P necessity =\", p_sufficiency)"
   ]
  },
  {
   "cell_type": "markdown",
   "metadata": {},
   "source": [
    "#### Necessity and Sufficiency\n",
    "$PNS = P(X=0, Y=1) * PN + P(X=1, Y=0) * PS$"
   ]
  },
  {
   "cell_type": "code",
   "execution_count": 317,
   "metadata": {},
   "outputs": [
    {
     "name": "stdout",
     "output_type": "stream",
     "text": [
      "PNS = 0.22115200000000002\n"
     ]
    }
   ],
   "source": [
    "num_trials = 1000\n",
    "num_x0_y1 = 0\n",
    "num_x1_y0 = 0\n",
    "trace_handler = pyro.poutine.trace(model)\n",
    "for _ in range(num_trials):\n",
    "    trace = trace_handler.get_trace()\n",
    "    x = trace.nodes['race']['value']\n",
    "    y = trace.nodes['two_year_recid']['value']\n",
    "    if x == 0 and y == 1:\n",
    "        num_x0_y1 += 1\n",
    "    if x == 1 and y == 0:\n",
    "        num_x1_y0 += 1\n",
    "pns = (num_x0_y1 / num_trials) * p_necessity + (num_x1_y0 / num_trials) * p_sufficiency\n",
    "print('PNS =', pns)"
   ]
  }
 ],
 "metadata": {
  "kernelspec": {
   "display_name": "Python 3",
   "language": "python",
   "name": "python3"
  },
  "language_info": {
   "codemirror_mode": {
    "name": "ipython",
    "version": 3
   },
   "file_extension": ".py",
   "mimetype": "text/x-python",
   "name": "python",
   "nbconvert_exporter": "python",
   "pygments_lexer": "ipython3",
   "version": "3.7.3"
  }
 },
 "nbformat": 4,
 "nbformat_minor": 4
}
