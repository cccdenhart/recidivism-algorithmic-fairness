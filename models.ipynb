{
 "cells": [
  {
   "cell_type": "code",
   "execution_count": 36,
   "metadata": {},
   "outputs": [],
   "source": [
    "import matplotlib.pyplot as plt\n",
    "import torch\n",
    "import pyro\n",
    "import pyro.distributions as dist\n",
    "import numpy as np\n",
    "import pandas as pd\n",
    "import tqdm\n",
    "\n",
    "%matplotlib inline\n",
    "\n",
    "pyro.set_rng_seed(42)"
   ]
  },
  {
   "cell_type": "markdown",
   "metadata": {},
   "source": [
    "## Model 1 - Indirect Race Path"
   ]
  },
  {
   "cell_type": "markdown",
   "metadata": {},
   "source": [
    "### Read data"
   ]
  },
  {
   "cell_type": "code",
   "execution_count": 29,
   "metadata": {},
   "outputs": [],
   "source": [
    "# race\n",
    "df = pd.read_csv('data/model1_race.csv')\n",
    "race_alias = list(df['Var1'])\n",
    "race_prob = torch.tensor(list(df['Freq']) )\n",
    "\n",
    "# sex\n",
    "df = pd.read_csv('data/model1_sex.csv')\n",
    "sex_alias = list(df['Var1'])\n",
    "sex_prob = torch.tensor(list(df['Freq']) )\n",
    "\n",
    "# age_cat\n",
    "df = pd.read_csv('data/model1_age_cat.csv')\n",
    "age_cat_alias = list(df['Var1'])\n",
    "age_cat_prob = torch.tensor(list(df['Freq']) )\n",
    "\n",
    "\n",
    "\n",
    "# c_charge_degree\n",
    "df = pd.read_csv('data/model1_c_charge_degree.csv')\n",
    "c_charge_degree_alias = list(set( df['c_charge_degree'] ))\n",
    "\n",
    "dic = {}\n",
    "for index, row in df.iterrows():\n",
    "    dic[(row['race'], row['sex'],row['age_cat'],row['c_charge_degree'])] = row['Freq']\n",
    "l0 = []\n",
    "for r in race_alias:\n",
    "    l1 = []\n",
    "    for s in sex_alias:\n",
    "        l2 = []\n",
    "        for a in age_cat_alias:\n",
    "            l3 = []\n",
    "            for c in c_charge_degree_alias:            \n",
    "                l3 += [ dic[r,s,a,c] ]\n",
    "            l2 +=  [ l3 ]\n",
    "        l1 += [ l2 ]\n",
    "    l0 += [ l1 ]\n",
    "\n",
    "c_charge_degree_probs = torch.tensor( l0 )\n",
    "\n",
    "# two_year_recid\n",
    "df = pd.read_csv('data/model1_two_year_recid.csv')\n",
    "two_year_recid_alias = list(df['Unnamed: 0'])\n",
    "\n",
    "l = []\n",
    "for e in c_charge_degree_alias:\n",
    "    l += [ list( df[e] )  ]\n",
    "two_year_recid_probs = torch.tensor( l )"
   ]
  },
  {
   "cell_type": "markdown",
   "metadata": {},
   "source": [
    "### Define Model"
   ]
  },
  {
   "cell_type": "code",
   "execution_count": 30,
   "metadata": {},
   "outputs": [],
   "source": [
    "def model():\n",
    "    race = pyro.sample(\"race\", dist.Categorical( race_prob )) \n",
    "    sex = pyro.sample(\"sex\", dist.Categorical( sex_prob )) \n",
    "    age_cat = pyro.sample(\"age_cat\", dist.Categorical( age_cat_prob )) \n",
    "    c_charge_degree = pyro.sample(\"c_charge_degree\", dist.Categorical(c_charge_degree_probs[race][sex][age_cat]))\n",
    "    two_year_recid_prob = dist.Categorical(two_year_recid_probs[c_charge_degree])\n",
    "    two_year_recid = pyro.sample(\"two_year_recid\", two_year_recid_prob)\n",
    "    return two_year_recid"
   ]
  },
  {
   "cell_type": "markdown",
   "metadata": {},
   "source": [
    "### Intervention"
   ]
  },
  {
   "cell_type": "code",
   "execution_count": 40,
   "metadata": {},
   "outputs": [
    {
     "name": "stderr",
     "output_type": "stream",
     "text": [
      "100%|██████████| 100/100 [00:45<00:00,  2.21it/s]\n"
     ]
    }
   ],
   "source": [
    "ls = []\n",
    "for run in tqdm.tqdm(range(100)):\n",
    "    num_sample = 100\n",
    "    P_y1_do = {}\n",
    "    for x in [0,1]:\n",
    "        do_model = pyro.do(model, data={ 'race': torch.tensor( x )  })\n",
    "        posterior = pyro.infer.Importance(do_model, num_samples=num_sample).run()\n",
    "        marginal = pyro.infer.EmpiricalMarginal(posterior, \"two_year_recid\") \n",
    "        samples = np.array([marginal().item() for _ in range(num_sample)])\n",
    "        e_unique, e_counts = np.unique(samples, return_counts=True)\n",
    "        dic = dict( zip(e_unique, e_counts) )\n",
    "        P_y1_do[ x ] = dic[ 1 ] / num_sample\n",
    "    diff = P_y1_do[0] - P_y1_do[1]\n",
    "    ls += [ diff ]"
   ]
  },
  {
   "cell_type": "code",
   "execution_count": 41,
   "metadata": {},
   "outputs": [
    {
     "data": {
      "image/png": "[encoded data removed]",
      "text/plain": [
       "<Figure size 432x288 with 1 Axes>"
      ]
     },
     "metadata": {
      "needs_background": "light"
     },
     "output_type": "display_data"
    }
   ],
   "source": [
    "plt.hist(ls)\n",
    "plt.show()"
   ]
  },
  {
   "cell_type": "markdown",
   "metadata": {},
   "source": [
    "### Counterfactual fairness"
   ]
  },
  {
   "cell_type": "markdown",
   "metadata": {},
   "source": [
    "P(two_year_recid race=0 = 1 | race = 1, two_year_recid = 0)"
   ]
  },
  {
   "cell_type": "code",
   "execution_count": 38,
   "metadata": {},
   "outputs": [
    {
     "name": "stderr",
     "output_type": "stream",
     "text": [
      "100%|██████████| 100/100 [00:05<00:00, 19.11it/s]\n"
     ]
    }
   ],
   "source": [
    "num_sample = 100\n",
    "conditioned_model = pyro.condition(model, data = {\"race\": torch.tensor(1), \"two_year_recid\": torch.tensor(0)})\n",
    "posterior = pyro.infer.Importance(conditioned_model, num_samples=num_sample).run()\n",
    "ls = []\n",
    "for run in tqdm.tqdm(range(100)):\n",
    "    z = 0\n",
    "    for _ in range(num_sample):\n",
    "        trace = posterior()\n",
    "        s = trace.nodes['sex']['value']\n",
    "        a = trace.nodes['age_cat']['value']\n",
    "        c = trace.nodes['c_charge_degree']['value']\n",
    "        do_model = pyro.do(model, data = {\"race\": torch.tensor(0)})\n",
    "        counterfactual_model = pyro.condition(do_model, data = {'sex': s,'age_cat': a, 'c_charge_degree': c })\n",
    "        trace_counterfactual = pyro.poutine.trace(counterfactual_model)\n",
    "        trace = trace_counterfactual.get_trace()\n",
    "        z += trace.nodes['two_year_recid']['value']\n",
    "    ls += [ float(z)/num_sample ]"
   ]
  },
  {
   "cell_type": "code",
   "execution_count": 39,
   "metadata": {},
   "outputs": [
    {
     "data": {
      "image/png": "[encoded data removed]",
      "text/plain": [
       "<Figure size 432x288 with 1 Axes>"
      ]
     },
     "metadata": {
      "needs_background": "light"
     },
     "output_type": "display_data"
    }
   ],
   "source": [
    "plt.hist(ls) \n",
    "plt.show()"
   ]
  },
  {
   "cell_type": "markdown",
   "metadata": {},
   "source": [
    "### Natural Effects"
   ]
  },
  {
   "cell_type": "markdown",
   "metadata": {},
   "source": [
    "#### Natural Indirect Effect"
   ]
  },
  {
   "cell_type": "code",
   "execution_count": 37,
   "metadata": {},
   "outputs": [],
   "source": [
    "# When Z = 1 E(Y|(X = 1), do(M = 1)) - E(Y|(X = 1), do(M = 0))\n",
    "cond_model = pyro.condition(model, data={'race': torch.tensor(1)})\n",
    "e1_samples = [pyro.do(cond_model, data={'c_charge_degree': torch.tensor(1)})() for _ in range(1000)]\n",
    "e2_samples = [pyro.do(cond_model, data={'c_charge_degree': torch.tensor(0)})() for _ in range(1000)]"
   ]
  },
  {
   "cell_type": "code",
   "execution_count": 39,
   "metadata": {},
   "outputs": [],
   "source": [
    "e1_avg = sum(e1_samples) / len(e1_samples)\n",
    "e2_avg = sum(e2_samples) / len(e2_samples)"
   ]
  },
  {
   "cell_type": "code",
   "execution_count": 40,
   "metadata": {},
   "outputs": [
    {
     "data": {
      "text/plain": [
       "tensor(-0.1160)"
      ]
     },
     "execution_count": 40,
     "metadata": {},
     "output_type": "execute_result"
    }
   ],
   "source": [
    "e1_avg - e2_avg"
   ]
  },
  {
   "cell_type": "markdown",
   "metadata": {},
   "source": [
    "## Model 2 - Direct Race Path"
   ]
  },
  {
   "cell_type": "markdown",
   "metadata": {},
   "source": [
    "### Read data"
   ]
  },
  {
   "cell_type": "code",
   "execution_count": 42,
   "metadata": {},
   "outputs": [],
   "source": [
    "# race\n",
    "df = pd.read_csv('data/model2_race.csv')\n",
    "race_alias = list(df['Var1'])\n",
    "race_prob = torch.tensor(list(df['Freq']) )\n",
    "\n",
    "# sex\n",
    "df = pd.read_csv('data/model2_sex.csv')\n",
    "sex_alias = list(df['Var1'])\n",
    "sex_prob = torch.tensor(list(df['Freq']) )\n",
    "\n",
    "# age_cat\n",
    "df = pd.read_csv('data/model2_age_cat.csv')\n",
    "age_cat_alias = list(df['Var1'])\n",
    "age_cat_prob = torch.tensor(list(df['Freq']) )\n",
    "\n",
    "# c_charge_degree\n",
    "df = pd.read_csv('data/model2_c_charge_degree.csv')\n",
    "c_charge_degree_alias = list(set( df['c_charge_degree'] ))\n",
    "\n",
    "dic = {}\n",
    "for index, row in df.iterrows():\n",
    "    dic[(row['race'], row['sex'],row['age_cat'],row['c_charge_degree'])] = row['Freq']\n",
    "l0 = []\n",
    "for r in race_alias:\n",
    "    l1 = []\n",
    "    for s in sex_alias:\n",
    "        l2 = []\n",
    "        for a in age_cat_alias:\n",
    "            l3 = []\n",
    "            for c in c_charge_degree_alias:            \n",
    "                l3 += [ dic[r,s,a,c] ]\n",
    "            l2 +=  [ l3 ]\n",
    "        l1 += [ l2 ]\n",
    "    l0 += [ l1 ]\n",
    "\n",
    "c_charge_degree_probs = torch.tensor( l0 )\n",
    "\n",
    "# two_year_recid\n",
    "df = pd.read_csv('data/model2_two_year_recid.csv')\n",
    "two_year_recid_alias = list(set( df['two_year_recid'] ))\n",
    "\n",
    "dic = {}\n",
    "for index, row in df.iterrows():\n",
    "    dic[(row['race'], row['c_charge_degree'],row['two_year_recid'])] = row['Freq']\n",
    "    \n",
    "l0 = []\n",
    "for r in race_alias:\n",
    "    l1 = []\n",
    "    for c in c_charge_degree_alias:\n",
    "        l2 = []\n",
    "        for t in two_year_recid_alias:\n",
    "            l2 += [ dic[r,c,t] ]\n",
    "        l1 += [ l2 ]\n",
    "    l0 += [ l1 ]\n",
    "\n",
    "two_year_recid_probs = torch.tensor( l0 )"
   ]
  },
  {
   "cell_type": "markdown",
   "metadata": {},
   "source": [
    "### Define model"
   ]
  },
  {
   "cell_type": "code",
   "execution_count": 43,
   "metadata": {},
   "outputs": [],
   "source": [
    "def model():\n",
    "    race = pyro.sample(\"race\", dist.Categorical( race_prob )) \n",
    "    sex = pyro.sample(\"sex\", dist.Categorical( sex_prob )) \n",
    "    age_cat = pyro.sample(\"age_cat\", dist.Categorical( age_cat_prob )) \n",
    "    c_charge_degree = pyro.sample(\"c_charge_degree\", dist.Categorical(c_charge_degree_probs[race][sex][age_cat]))\n",
    "    two_year_recid = pyro.sample(\"two_year_recid\", dist.Categorical(two_year_recid_probs[race][c_charge_degree]))\n",
    "    return two_year_recid"
   ]
  },
  {
   "cell_type": "markdown",
   "metadata": {},
   "source": [
    "### Intervention"
   ]
  },
  {
   "cell_type": "markdown",
   "metadata": {},
   "source": [
    "You are interested in the average causal effect P(two_year_recid = 1|do(race = 0)) − P(two_year_recid = 1|do(race = 1)),\n",
    "where two_year_recid=1 represents recidivism, \n",
    "race=0 represents \"African-American\" \n",
    "race=1 represents \"Caucasian\" "
   ]
  },
  {
   "cell_type": "code",
   "execution_count": 46,
   "metadata": {},
   "outputs": [
    {
     "name": "stderr",
     "output_type": "stream",
     "text": [
      "100%|██████████| 100/100 [00:48<00:00,  2.08it/s]\n"
     ]
    }
   ],
   "source": [
    "ls = []\n",
    "for run in tqdm.tqdm(range(100)):\n",
    "    num_sample = 100\n",
    "    P_y1_do = {}\n",
    "    for x in [0,1]:\n",
    "        do_model = pyro.do(model, data={ 'race': torch.tensor( x )  })\n",
    "        posterior = pyro.infer.Importance(do_model, num_samples=num_sample).run()\n",
    "        marginal = pyro.infer.EmpiricalMarginal(posterior, \"two_year_recid\") \n",
    "        samples = np.array([marginal().item() for _ in range(num_sample)])\n",
    "        e_unique, e_counts = np.unique(samples, return_counts=True)\n",
    "        dic = dict( zip(e_unique, e_counts) )\n",
    "        P_y1_do[ x ] = dic[ 1 ] / num_sample\n",
    "    diff = P_y1_do[0] - P_y1_do[1]\n",
    "    ls += [ diff ]"
   ]
  },
  {
   "cell_type": "code",
   "execution_count": 47,
   "metadata": {},
   "outputs": [
    {
     "data": {
      "image/png": "[encoded data removed]",
      "text/plain": [
       "<Figure size 432x288 with 1 Axes>"
      ]
     },
     "metadata": {
      "needs_background": "light"
     },
     "output_type": "display_data"
    }
   ],
   "source": [
    "plt.hist(ls) \n",
    "plt.show()"
   ]
  },
  {
   "cell_type": "markdown",
   "metadata": {},
   "source": [
    "### Counterfactual fairness"
   ]
  },
  {
   "cell_type": "code",
   "execution_count": 48,
   "metadata": {},
   "outputs": [
    {
     "name": "stderr",
     "output_type": "stream",
     "text": [
      "100%|██████████| 100/100 [00:05<00:00, 17.80it/s]\n"
     ]
    }
   ],
   "source": [
    "num_sample = 100\n",
    "conditioned_model = pyro.condition(model, data = {\"race\": torch.tensor(1), \"two_year_recid\": torch.tensor(0)})\n",
    "posterior = pyro.infer.Importance(conditioned_model, num_samples=num_sample).run()\n",
    "ls = []\n",
    "for run in tqdm.tqdm(range(100)):\n",
    "    z = 0\n",
    "    for _ in range(num_sample):\n",
    "        trace = posterior()\n",
    "        s = trace.nodes['sex']['value']\n",
    "        a = trace.nodes['age_cat']['value']\n",
    "        c = trace.nodes['c_charge_degree']['value']\n",
    "        do_model = pyro.do(model, data = {\"race\": torch.tensor(0)})\n",
    "        counterfactual_model = pyro.condition(do_model, data = {'sex': s,'age_cat': a, 'c_charge_degree': c })\n",
    "        trace_counterfactual = pyro.poutine.trace(counterfactual_model)\n",
    "        trace = trace_counterfactual.get_trace()\n",
    "        z += trace.nodes['two_year_recid']['value']\n",
    "    ls += [ float(z)/num_sample ]"
   ]
  },
  {
   "cell_type": "code",
   "execution_count": 49,
   "metadata": {},
   "outputs": [
    {
     "data": {
      "image/png": "[encoded data removed]",
      "text/plain": [
       "<Figure size 432x288 with 1 Axes>"
      ]
     },
     "metadata": {
      "needs_background": "light"
     },
     "output_type": "display_data"
    }
   ],
   "source": [
    "plt.hist(ls)\n",
    "plt.show()"
   ]
  },
  {
   "cell_type": "markdown",
   "metadata": {},
   "source": [
    "### Natural effects"
   ]
  },
  {
   "cell_type": "markdown",
   "metadata": {},
   "source": [
    "#### Natural Direct Effects"
   ]
  },
  {
   "cell_type": "code",
   "execution_count": 62,
   "metadata": {},
   "outputs": [],
   "source": [
    "# When Z = 1 E(Y|(M = 1), do(X = 1)) - E(Y|(M = 1), do(X = 0))\n",
    "cond_model = pyro.condition(model, data={'c_charge_degree': torch.tensor(0)})\n",
    "e1_samples = [pyro.do(cond_model, data={'race': torch.tensor(1)})() for _ in range(1000)]\n",
    "e2_samples = [pyro.do(cond_model, data={'race': torch.tensor(0)})() for _ in range(1000)]"
   ]
  },
  {
   "cell_type": "code",
   "execution_count": 63,
   "metadata": {},
   "outputs": [],
   "source": [
    "e1_avg = sum(e1_samples) / len(e1_samples)\n",
    "e2_avg = sum(e2_samples) / len(e2_samples)"
   ]
  },
  {
   "cell_type": "code",
   "execution_count": 64,
   "metadata": {},
   "outputs": [
    {
     "data": {
      "text/plain": [
       "tensor(0.4270)"
      ]
     },
     "execution_count": 64,
     "metadata": {},
     "output_type": "execute_result"
    }
   ],
   "source": [
    "e1_avg"
   ]
  },
  {
   "cell_type": "code",
   "execution_count": 65,
   "metadata": {},
   "outputs": [
    {
     "data": {
      "text/plain": [
       "tensor(0.5520)"
      ]
     },
     "execution_count": 65,
     "metadata": {},
     "output_type": "execute_result"
    }
   ],
   "source": [
    "e2_avg"
   ]
  },
  {
   "cell_type": "code",
   "execution_count": 66,
   "metadata": {},
   "outputs": [
    {
     "data": {
      "text/plain": [
       "tensor(-0.1250)"
      ]
     },
     "execution_count": 66,
     "metadata": {},
     "output_type": "execute_result"
    }
   ],
   "source": [
    "e1_avg - e2_avg"
   ]
  },
  {
   "cell_type": "markdown",
   "metadata": {},
   "source": [
    "#### Natural Indirect Effects"
   ]
  },
  {
   "cell_type": "code",
   "execution_count": 55,
   "metadata": {},
   "outputs": [],
   "source": [
    "# NIE = E(Y | M=1, do(X=0)) – E(Y | M=0, do(X=0))\n",
    "cond_model_1 = pyro.condition(model, data={'c_charge_degree': torch.tensor(1)})\n",
    "cond_model_2 = pyro.condition(model, data={'c_charge_degree': torch.tensor(0)})\n",
    "e1_samples = [pyro.do(cond_model_1, data={'race': torch.tensor(0)})() for _ in range(1000)]\n",
    "e2_samples = [pyro.do(cond_model_2, data={'race': torch.tensor(0)})() for _ in range(1000)]"
   ]
  },
  {
   "cell_type": "code",
   "execution_count": 56,
   "metadata": {},
   "outputs": [],
   "source": [
    "e1_avg = sum(e1_samples) / len(e1_samples)\n",
    "e2_avg = sum(e2_samples) / len(e2_samples)"
   ]
  },
  {
   "cell_type": "code",
   "execution_count": 57,
   "metadata": {},
   "outputs": [
    {
     "data": {
      "text/plain": [
       "tensor(-0.0810)"
      ]
     },
     "execution_count": 57,
     "metadata": {},
     "output_type": "execute_result"
    }
   ],
   "source": [
    "e1_avg - e2_avg"
   ]
  },
  {
   "cell_type": "markdown",
   "metadata": {},
   "source": [
    "## Model 3"
   ]
  },
  {
   "cell_type": "markdown",
   "metadata": {},
   "source": [
    "### Read data"
   ]
  },
  {
   "cell_type": "code",
   "execution_count": 51,
   "metadata": {},
   "outputs": [],
   "source": [
    "# race\n",
    "df = pd.read_csv('data/model3_race.csv')\n",
    "race_alias = list(df['Var1'])\n",
    "race_prob = torch.tensor(list(df['Freq']) )\n",
    "\n",
    "# sex\n",
    "df = pd.read_csv('data/model3_sex.csv')\n",
    "sex_alias = list(df['Var1'])\n",
    "sex_prob = torch.tensor(list(df['Freq']) )\n",
    "\n",
    "# age_cat\n",
    "df = pd.read_csv('data/model3_age_cat.csv')\n",
    "age_cat_alias = list(df['Var1'])\n",
    "age_cat_prob = torch.tensor(list(df['Freq']) )\n",
    "\n",
    "# c_charge_degree\n",
    "df = pd.read_csv('data/model3_c_charge_degree.csv')\n",
    "c_charge_degree_alias = list(set( df['c_charge_degree'] ))\n",
    "\n",
    "dic = {}\n",
    "for index, row in df.iterrows():\n",
    "    dic[( row['sex'],row['age_cat'],row['c_charge_degree'])] = row['Freq']\n",
    "l1 = []\n",
    "for s in sex_alias:\n",
    "    l2 = []\n",
    "    for a in age_cat_alias:\n",
    "        l3 = []\n",
    "        for c in c_charge_degree_alias:            \n",
    "            l3 += [ dic[s,a,c] ]\n",
    "        l2 +=  [ l3 ]\n",
    "    l1 += [ l2 ]\n",
    "\n",
    "c_charge_degree_probs = torch.tensor( l1 )\n",
    "\n",
    "# two_year_recid\n",
    "df = pd.read_csv('data/model3_two_year_recid.csv')\n",
    "two_year_recid_alias = list(df['Unnamed: 0'])\n",
    "\n",
    "l = []\n",
    "for e in c_charge_degree_alias:\n",
    "    l += [ list( df[e] )  ]\n",
    "two_year_recid_probs = torch.tensor( l )"
   ]
  },
  {
   "cell_type": "markdown",
   "metadata": {},
   "source": [
    "### Define model"
   ]
  },
  {
   "cell_type": "code",
   "execution_count": 52,
   "metadata": {},
   "outputs": [],
   "source": [
    "def model():\n",
    "    race = pyro.sample(\"race\", dist.Categorical( race_prob )) \n",
    "    sex = pyro.sample(\"sex\", dist.Categorical( sex_prob )) \n",
    "    age_cat = pyro.sample(\"age_cat\", dist.Categorical( age_cat_prob )) \n",
    "    c_charge_degree = pyro.sample(\"c_charge_degree\", dist.Categorical(c_charge_degree_probs[sex][age_cat]))\n",
    "    two_year_recid = pyro.sample(\"two_year_recid\", dist.Categorical(two_year_recid_probs[c_charge_degree]))\n",
    "    return two_year_recid\n"
   ]
  },
  {
   "cell_type": "markdown",
   "metadata": {},
   "source": [
    "### Association"
   ]
  },
  {
   "cell_type": "code",
   "execution_count": 54,
   "metadata": {
    "collapsed": true,
    "jupyter": {
     "outputs_hidden": true
    }
   },
   "outputs": [
    {
     "ename": "NameError",
     "evalue": "name 'pred' is not defined",
     "output_type": "error",
     "traceback": [
      "\u001b[0;31m---------------------------------------------------------------------------\u001b[0m",
      "\u001b[0;31mNameError\u001b[0m                                 Traceback (most recent call last)",
      "\u001b[0;32m<ipython-input-54-a4979b170703>\u001b[0m in \u001b[0;36m<module>\u001b[0;34m\u001b[0m\n\u001b[1;32m     19\u001b[0m     \u001b[0;31m# pred = int(trace.nodes['two_year_recid']['value'])\u001b[0m\u001b[0;34m\u001b[0m\u001b[0;34m\u001b[0m\u001b[0;34m\u001b[0m\u001b[0m\n\u001b[1;32m     20\u001b[0m     \u001b[0mtruth\u001b[0m \u001b[0;34m+=\u001b[0m \u001b[0;34m[\u001b[0m \u001b[0mconditioned_model\u001b[0m\u001b[0;34m(\u001b[0m\u001b[0;34m)\u001b[0m \u001b[0;34m]\u001b[0m\u001b[0;34m\u001b[0m\u001b[0;34m\u001b[0m\u001b[0m\n\u001b[0;32m---> 21\u001b[0;31m     \u001b[0mpreds\u001b[0m \u001b[0;34m+=\u001b[0m \u001b[0;34m[\u001b[0m \u001b[0mpred\u001b[0m \u001b[0;34m]\u001b[0m\u001b[0;34m\u001b[0m\u001b[0;34m\u001b[0m\u001b[0m\n\u001b[0m\u001b[1;32m     22\u001b[0m     \u001b[0;32mif\u001b[0m \u001b[0;34m(\u001b[0m\u001b[0;34m(\u001b[0m\u001b[0mindex\u001b[0m\u001b[0;34m%\u001b[0m\u001b[0;36m500\u001b[0m\u001b[0;34m)\u001b[0m\u001b[0;34m==\u001b[0m\u001b[0;36m0\u001b[0m\u001b[0;34m)\u001b[0m\u001b[0;34m:\u001b[0m\u001b[0mprint\u001b[0m\u001b[0;34m(\u001b[0m\u001b[0mindex\u001b[0m\u001b[0;34m//\u001b[0m\u001b[0;36m500\u001b[0m\u001b[0;34m)\u001b[0m\u001b[0;34m\u001b[0m\u001b[0;34m\u001b[0m\u001b[0m\n\u001b[1;32m     23\u001b[0m \u001b[0mtruth\u001b[0m \u001b[0;34m=\u001b[0m \u001b[0mnp\u001b[0m\u001b[0;34m.\u001b[0m\u001b[0marray\u001b[0m\u001b[0;34m(\u001b[0m\u001b[0mtruth\u001b[0m\u001b[0;34m)\u001b[0m\u001b[0;34m\u001b[0m\u001b[0;34m\u001b[0m\u001b[0m\n",
      "\u001b[0;31mNameError\u001b[0m: name 'pred' is not defined"
     ]
    }
   ],
   "source": [
    "df = pd.read_csv('data/compas-scores-two-years-short.csv')\n",
    "\n",
    "truth = []\n",
    "preds = []\n",
    "num_sample = 10\n",
    "for index, row in df.iterrows():\n",
    "    r = race_alias.index( row['race'] ) \n",
    "    s = sex_alias.index( row['sex'] ) \n",
    "    a = age_cat_alias.index( row['age_cat'] ) \n",
    "    c = c_charge_degree_alias.index( row['c_charge_degree'] ) \n",
    "    t = two_year_recid_alias.index( row['two_year_recid'] ) \n",
    "    conditioned_model = pyro.condition(model, data = {\"race\": torch.tensor( r ),\n",
    "                                                      \"sex\": torch.tensor( s ),\n",
    "                                                      \"age_cat\": torch.tensor( a ),\n",
    "                                                      \"c_charge_degree\": torch.tensor( c )\n",
    "                                                     })\n",
    "    posterior = pyro.infer.Importance(conditioned_model, num_samples=num_sample).run()\n",
    "    trace = posterior()\n",
    "    pred = int(trace.nodes['two_year_recid']['value'])\n",
    "    truth += [ conditioned_model() ]\n",
    "    preds += [ pred ]\n",
    "    if ((index%500)==0):print(index//500)\n",
    "truth = np.array(truth)\n",
    "preds = np.array(preds)\n",
    "\n",
    "# score for Black defendants\n",
    "y_test_ = truth[ df['race']=='African-American' ]\n",
    "y_pred_ = preds[ df['race']=='African-American' ]\n",
    "[[tn , fp],[fn , tp]]  = confusion_matrix(y_test_, y_pred_)\n",
    "print(\"False positive rate (Black)      : \", fp/(fp+tn))\n",
    "print(\"False negative rate (Black)      : \", fn/(fn+tp))\n",
    "print(\"Accuracy (Black)      :  \", accuracy_score(y_test_, y_pred_) )\n",
    "print(\"AUC (Black)      :  \", roc_auc_score(y_test_, y_pred_) )\n",
    "\n",
    "fpr_black = fp/(fp+tn)\n",
    "fnr_black =  fn/(fn+tp)\n",
    "\n",
    "# score for White defendants\n",
    "y_test_ = truth[ df['race']=='Caucasian' ]\n",
    "y_pred_ = preds[ df['race']=='Caucasian' ]\n",
    "[[tn , fp],[fn , tp]]  = confusion_matrix(y_test_, y_pred_)\n",
    "print(\"\\nFalse positive rate (White)      : \", fp/(fp+tn))\n",
    "print(\"False negative rate (White)      : \", fn/(fn+tp))\n",
    "print(\"Accuracy (White)      :  \", accuracy_score(y_test_, y_pred_) )\n",
    "print(\"AUC (White)      :  \", roc_auc_score(y_test_, y_pred_) )\n",
    "\n",
    "fpr_white = fp/(fp+tn)\n",
    "fnr_white =  fn/(fn+tp)\n",
    "\n",
    "print('\\nFalse positive rate Gap:', abs(fpr_black-fpr_white))\n",
    "print('False negative rate Gap:', abs(fnr_black-fnr_white))"
   ]
  },
  {
   "cell_type": "markdown",
   "metadata": {},
   "source": [
    "### Intervention"
   ]
  },
  {
   "cell_type": "code",
   "execution_count": 9,
   "metadata": {},
   "outputs": [],
   "source": [
    "# You are interested in the average causal effect P(two_year_recid = 1|do(race = 0)) − P(two_year_recid = 1|do(race = 1)),\n",
    "# where two_year_recid=1 represents recidivism, \n",
    "# race=0 represents \"African-American\" \n",
    "# race=0 represents \"Caucasian\" "
   ]
  },
  {
   "cell_type": "code",
   "execution_count": 55,
   "metadata": {},
   "outputs": [
    {
     "name": "stderr",
     "output_type": "stream",
     "text": [
      "100%|██████████| 100/100 [00:47<00:00,  2.12it/s]\n"
     ]
    }
   ],
   "source": [
    "ls = []\n",
    "for run in tqdm.tqdm(range(100)):\n",
    "    num_sample = 100\n",
    "    P_y1_do = {}\n",
    "    for x in [0,1]:\n",
    "        do_model = pyro.do(model, data={ 'race': torch.tensor( x )  })\n",
    "        posterior = pyro.infer.Importance(do_model, num_samples=num_sample).run()\n",
    "        marginal = pyro.infer.EmpiricalMarginal(posterior, \"two_year_recid\") \n",
    "        samples = np.array([marginal().item() for _ in range(num_sample)])\n",
    "        e_unique, e_counts = np.unique(samples, return_counts=True)\n",
    "        dic = dict( zip(e_unique, e_counts) )\n",
    "        P_y1_do[ x ] = dic[ 1 ] / num_sample\n",
    "    diff = P_y1_do[0] - P_y1_do[1]\n",
    "    ls += [ diff ]"
   ]
  },
  {
   "cell_type": "code",
   "execution_count": 56,
   "metadata": {},
   "outputs": [
    {
     "data": {
      "image/png": "[encoded data removed]",
      "text/plain": [
       "<Figure size 432x288 with 1 Axes>"
      ]
     },
     "metadata": {
      "needs_background": "light"
     },
     "output_type": "display_data"
    }
   ],
   "source": [
    "plt.hist(ls)\n",
    "plt.show()"
   ]
  },
  {
   "cell_type": "markdown",
   "metadata": {},
   "source": [
    "### Counterfactual fairness"
   ]
  },
  {
   "cell_type": "code",
   "execution_count": 62,
   "metadata": {},
   "outputs": [],
   "source": [
    "# P(two_year_recid race=0 = 1|race = 1,two_year_recid = 0)"
   ]
  },
  {
   "cell_type": "code",
   "execution_count": 64,
   "metadata": {},
   "outputs": [
    {
     "name": "stderr",
     "output_type": "stream",
     "text": [
      "100%|██████████| 100/100 [00:05<00:00, 17.87it/s]\n"
     ]
    }
   ],
   "source": [
    "num_sample = 100\n",
    "conditioned_model = pyro.condition(model, data = {\"race\": torch.tensor(1), \"two_year_recid\": torch.tensor(0)})\n",
    "posterior = pyro.infer.Importance(conditioned_model, num_samples=num_sample).run()\n",
    "ls = []\n",
    "for run in tqdm.tqdm(range(100)):\n",
    "    z = 0\n",
    "    for _ in range(num_sample):\n",
    "        trace = posterior()\n",
    "        s = trace.nodes['sex']['value']\n",
    "        a = trace.nodes['age_cat']['value']\n",
    "        c = trace.nodes['c_charge_degree']['value']\n",
    "        do_model = pyro.do(model, data = {\"race\": torch.tensor(0)})\n",
    "        counterfactual_model = pyro.condition(do_model, data = {'sex': s,'age_cat': a, 'c_charge_degree': c })\n",
    "        trace_counterfactual = pyro.poutine.trace(counterfactual_model)\n",
    "        trace = trace_counterfactual.get_trace()\n",
    "        z += trace.nodes['two_year_recid']['value']\n",
    "    ls += [ float(z)/num_sample ]"
   ]
  },
  {
   "cell_type": "code",
   "execution_count": 65,
   "metadata": {},
   "outputs": [
    {
     "data": {
      "image/png": "[encoded data removed]",
      "text/plain": [
       "<Figure size 432x288 with 1 Axes>"
      ]
     },
     "metadata": {
      "needs_background": "light"
     },
     "output_type": "display_data"
    }
   ],
   "source": [
    "plt.hist(ls)\n",
    "plt.show()"
   ]
  },
  {
   "cell_type": "code",
   "execution_count": 66,
   "metadata": {},
   "outputs": [],
   "source": [
    "# P(two_year_recid race=1 = 1|race = 0,two_year_recid = 1)"
   ]
  },
  {
   "cell_type": "code",
   "execution_count": 67,
   "metadata": {},
   "outputs": [
    {
     "name": "stderr",
     "output_type": "stream",
     "text": [
      "100%|██████████| 100/100 [00:05<00:00, 18.06it/s]\n"
     ]
    }
   ],
   "source": [
    "num_sample = 100\n",
    "conditioned_model = pyro.condition(model, data = {\"race\": torch.tensor(0), \"two_year_recid\": torch.tensor(1)})\n",
    "posterior = pyro.infer.Importance(conditioned_model, num_samples=num_sample).run()\n",
    "ls = []\n",
    "for run in tqdm.tqdm(range(100)):\n",
    "    z = 0\n",
    "    for _ in range(num_sample):\n",
    "        trace = posterior()\n",
    "        s = trace.nodes['sex']['value']\n",
    "        a = trace.nodes['age_cat']['value']\n",
    "        c = trace.nodes['c_charge_degree']['value']\n",
    "        do_model = pyro.do(model, data = {\"race\": torch.tensor(1)})\n",
    "        counterfactual_model = pyro.condition(do_model, data = {'sex': s,'age_cat': a, 'c_charge_degree': c })\n",
    "        trace_counterfactual = pyro.poutine.trace(counterfactual_model)\n",
    "        trace = trace_counterfactual.get_trace()\n",
    "        z += trace.nodes['two_year_recid']['value']\n",
    "    ls += [ float(z)/num_sample ]"
   ]
  },
  {
   "cell_type": "code",
   "execution_count": 68,
   "metadata": {},
   "outputs": [
    {
     "data": {
      "image/png": "[encoded data removed]",
      "text/plain": [
       "<Figure size 432x288 with 1 Axes>"
      ]
     },
     "metadata": {
      "needs_background": "light"
     },
     "output_type": "display_data"
    }
   ],
   "source": [
    "plt.hist(ls)\n",
    "plt.show()"
   ]
  },
  {
   "cell_type": "markdown",
   "metadata": {},
   "source": [
    "## Model 4"
   ]
  },
  {
   "cell_type": "markdown",
   "metadata": {},
   "source": [
    "### Read data"
   ]
  },
  {
   "cell_type": "code",
   "execution_count": 69,
   "metadata": {},
   "outputs": [],
   "source": [
    "# race\n",
    "df = pd.read_csv('data/model4_race.csv')\n",
    "race_alias = list(df['Var1'])\n",
    "race_prob = torch.tensor(list(df['Freq']) )\n",
    "\n",
    "# sex\n",
    "df = pd.read_csv('data/model4_sex.csv')\n",
    "sex_alias = list(df['Var1'])\n",
    "sex_prob = torch.tensor(list(df['Freq']) )\n",
    "\n",
    "# age_cat\n",
    "df = pd.read_csv('data/model4_age_cat.csv')\n",
    "age_cat_alias = list(df['Var1'])\n",
    "age_cat_prob = torch.tensor(list(df['Freq']) )\n",
    "\n",
    "# c_charge_degree\n",
    "df = pd.read_csv('data/model4_c_charge_degree.csv')\n",
    "c_charge_degree_alias = list(set( df['c_charge_degree'] ))\n",
    "\n",
    "dic = {}\n",
    "for index, row in df.iterrows():\n",
    "    dic[( row['sex'],row['age_cat'],row['c_charge_degree'])] = row['Freq']\n",
    "l1 = []\n",
    "for s in sex_alias:\n",
    "    l2 = []\n",
    "    for a in age_cat_alias:\n",
    "        l3 = []\n",
    "        for c in c_charge_degree_alias:            \n",
    "            l3 += [ dic[s,a,c] ]\n",
    "        l2 +=  [ l3 ]\n",
    "    l1 += [ l2 ]\n",
    "\n",
    "c_charge_degree_probs = torch.tensor( l1 )\n",
    "\n",
    "# two_year_recid\n",
    "df = pd.read_csv('data/model4_two_year_recid.csv')\n",
    "two_year_recid_alias = list(df['Unnamed: 0'])\n",
    "\n",
    "l = []\n",
    "for e in c_charge_degree_alias:\n",
    "    l += [ list( df[e] )  ]\n",
    "two_year_recid_probs = torch.tensor( l )"
   ]
  },
  {
   "cell_type": "markdown",
   "metadata": {},
   "source": [
    "### Define model"
   ]
  },
  {
   "cell_type": "code",
   "execution_count": 70,
   "metadata": {},
   "outputs": [],
   "source": [
    "def model():\n",
    "    race = pyro.sample(\"race\", dist.Categorical( race_prob )) \n",
    "    sex = pyro.sample(\"sex\", dist.Categorical( sex_prob )) \n",
    "    age_cat = pyro.sample(\"age_cat\", dist.Categorical( age_cat_prob )) \n",
    "    c_charge_degree = pyro.sample(\"c_charge_degree\", dist.Categorical(c_charge_degree_probs[sex][age_cat]))\n",
    "    two_year_recid = pyro.sample(\"two_year_recid\", dist.Categorical(two_year_recid_probs[c_charge_degree]))"
   ]
  },
  {
   "cell_type": "markdown",
   "metadata": {},
   "source": [
    "### Association"
   ]
  },
  {
   "cell_type": "code",
   "execution_count": 72,
   "metadata": {},
   "outputs": [
    {
     "name": "stdout",
     "output_type": "stream",
     "text": [
      "False positive rate (Black)      :  0.5935231714126187\n",
      "False negative rate (Black)      :  0.39498933901918976\n",
      "Accuracy (Black)      :   0.5080447232069811\n",
      "AUC (Black)      :   0.5057437447840958\n",
      "\n",
      "False positive rate (White)      :  0.5963611859838275\n",
      "False negative rate (White)      :  0.3970893970893971\n",
      "Accuracy (White)      :   0.482011447260834\n",
      "AUC (White)      :   0.5032747084633877\n",
      "\n",
      "False positive rate Gap: 0.0028380145712088023\n",
      "False negative rate Gap: 0.0021000580702073557\n"
     ]
    }
   ],
   "source": [
    "df = pd.read_csv('compas-scores-two-years_short.csv')\n",
    "\n",
    "truth = []\n",
    "preds = []\n",
    "num_sample = 10\n",
    "for index, row in df.iterrows():\n",
    "    r = race_alias.index( row['race'] ) \n",
    "    s = sex_alias.index( row['sex'] ) \n",
    "    a = age_cat_alias.index( row['age_cat'] ) \n",
    "    c = c_charge_degree_alias.index( row['c_charge_degree'] ) \n",
    "    t = two_year_recid_alias.index( row['two_year_recid'] ) \n",
    "    conditioned_model = pyro.condition(model, data = {\"race\": torch.tensor( r ),\n",
    "                                                      \"sex\": torch.tensor( s ),\n",
    "                                                      \"age_cat\": torch.tensor( a ),\n",
    "                                                      \"c_charge_degree\": torch.tensor( c )\n",
    "                                                     })\n",
    "    posterior = pyro.infer.Importance(conditioned_model, num_samples=num_sample).run()\n",
    "    trace = posterior()\n",
    "    pred = int(trace.nodes['two_year_recid']['value'])\n",
    "    truth += [ t ]\n",
    "    preds += [ pred ]\n",
    "#     if ((index%500)==0):\n",
    "#         print(index//500)\n",
    "truth = np.array(truth)\n",
    "preds = np.array(preds)\n",
    "\n",
    "# score for Black defendants\n",
    "y_test_ = truth[ df['race']=='African-American' ]\n",
    "y_pred_ = preds[ df['race']=='African-American' ]\n",
    "[[tn , fp],[fn , tp]]  = confusion_matrix(y_test_, y_pred_)\n",
    "print(\"False positive rate (Black)      : \", fp/(fp+tn))\n",
    "print(\"False negative rate (Black)      : \", fn/(fn+tp))\n",
    "print(\"Accuracy (Black)      :  \", accuracy_score(y_test_, y_pred_) )\n",
    "print(\"AUC (Black)      :  \", roc_auc_score(y_test_, y_pred_) )\n",
    "\n",
    "fpr_black = fp/(fp+tn)\n",
    "fnr_black =  fn/(fn+tp)\n",
    "\n",
    "# score for White defendants\n",
    "y_test_ = truth[ df['race']=='Caucasian' ]\n",
    "y_pred_ = preds[ df['race']=='Caucasian' ]\n",
    "[[tn , fp],[fn , tp]]  = confusion_matrix(y_test_, y_pred_)\n",
    "print(\"\\nFalse positive rate (White)      : \", fp/(fp+tn))\n",
    "print(\"False negative rate (White)      : \", fn/(fn+tp))\n",
    "print(\"Accuracy (White)      :  \", accuracy_score(y_test_, y_pred_) )\n",
    "print(\"AUC (White)      :  \", roc_auc_score(y_test_, y_pred_) )\n",
    "\n",
    "fpr_white = fp/(fp+tn)\n",
    "fnr_white =  fn/(fn+tp)\n",
    "\n",
    "print('\\nFalse positive rate Gap:', abs(fpr_black-fpr_white))\n",
    "print('False negative rate Gap:', abs(fnr_black-fnr_white))"
   ]
  },
  {
   "cell_type": "markdown",
   "metadata": {},
   "source": [
    "### Intervention"
   ]
  },
  {
   "cell_type": "code",
   "execution_count": 9,
   "metadata": {},
   "outputs": [],
   "source": [
    "# You are interested in the average causal effect P(two_year_recid = 1|do(race = 0)) − P(two_year_recid = 1|do(race = 1)),\n",
    "# where two_year_recid=1 represents recidivism, \n",
    "# race=0 represents \"African-American\" \n",
    "# race=0 represents \"Caucasian\" "
   ]
  },
  {
   "cell_type": "code",
   "execution_count": 72,
   "metadata": {},
   "outputs": [
    {
     "name": "stderr",
     "output_type": "stream",
     "text": [
      "100%|██████████| 100/100 [00:49<00:00,  2.04it/s]\n"
     ]
    }
   ],
   "source": [
    "ls = []\n",
    "for run in tqdm.tqdm(range(100)):\n",
    "    num_sample = 100\n",
    "    P_y1_do = {}\n",
    "    for x in [0,1]:\n",
    "        do_model = pyro.do(model, data={ 'race': torch.tensor( x )  })\n",
    "        posterior = pyro.infer.Importance(do_model, num_samples=num_sample).run()\n",
    "        marginal = pyro.infer.EmpiricalMarginal(posterior, \"two_year_recid\") \n",
    "        samples = np.array([marginal().item() for _ in range(num_sample)])\n",
    "        e_unique, e_counts = np.unique(samples, return_counts=True)\n",
    "        dic = dict( zip(e_unique, e_counts) )\n",
    "        P_y1_do[ x ] = dic[ 1 ] / num_sample\n",
    "    diff = P_y1_do[0] - P_y1_do[1]\n",
    "    ls += [ diff ]"
   ]
  },
  {
   "cell_type": "code",
   "execution_count": 73,
   "metadata": {},
   "outputs": [
    {
     "data": {
      "image/png": "[encoded data removed]",
      "text/plain": [
       "<Figure size 432x288 with 1 Axes>"
      ]
     },
     "metadata": {
      "needs_background": "light"
     },
     "output_type": "display_data"
    }
   ],
   "source": [
    "plt.hist(ls)\n",
    "plt.show()"
   ]
  },
  {
   "cell_type": "markdown",
   "metadata": {},
   "source": [
    "### Counterfactual fairness"
   ]
  },
  {
   "cell_type": "code",
   "execution_count": 11,
   "metadata": {},
   "outputs": [],
   "source": [
    "# P(two_year_recid race=0 = 1|race = 1,two_year_recid = 0)"
   ]
  },
  {
   "cell_type": "code",
   "execution_count": 74,
   "metadata": {},
   "outputs": [
    {
     "name": "stderr",
     "output_type": "stream",
     "text": [
      "100%|██████████| 100/100 [00:05<00:00, 18.52it/s]\n"
     ]
    }
   ],
   "source": [
    "num_sample = 100\n",
    "conditioned_model = pyro.condition(model, data = {\"race\": torch.tensor(1), \"two_year_recid\": torch.tensor(0)})\n",
    "posterior = pyro.infer.Importance(conditioned_model, num_samples=num_sample).run()\n",
    "ls = []\n",
    "for run in tqdm.tqdm(range(100)):\n",
    "    z = 0\n",
    "    for _ in range(num_sample):\n",
    "        trace = posterior()\n",
    "        s = trace.nodes['sex']['value']\n",
    "        a = trace.nodes['age_cat']['value']\n",
    "        c = trace.nodes['c_charge_degree']['value']\n",
    "        do_model = pyro.do(model, data = {\"race\": torch.tensor(0)})\n",
    "        counterfactual_model = pyro.condition(do_model, data = {'sex': s,'age_cat': a, 'c_charge_degree': c })\n",
    "        trace_counterfactual = pyro.poutine.trace(counterfactual_model)\n",
    "        trace = trace_counterfactual.get_trace()\n",
    "        z += trace.nodes['two_year_recid']['value']\n",
    "    ls += [ float(z)/num_sample ]"
   ]
  },
  {
   "cell_type": "code",
   "execution_count": 75,
   "metadata": {},
   "outputs": [
    {
     "data": {
      "image/png": "[encoded data removed]",
      "text/plain": [
       "<Figure size 432x288 with 1 Axes>"
      ]
     },
     "metadata": {
      "needs_background": "light"
     },
     "output_type": "display_data"
    }
   ],
   "source": [
    "plt.hist(ls)\n",
    "plt.show()"
   ]
  },
  {
   "cell_type": "code",
   "execution_count": 22,
   "metadata": {},
   "outputs": [],
   "source": [
    "# P(two_year_recid race=1 = 1|race = 0,two_year_recid = 0)"
   ]
  },
  {
   "cell_type": "code",
   "execution_count": 76,
   "metadata": {},
   "outputs": [
    {
     "name": "stderr",
     "output_type": "stream",
     "text": [
      "100%|██████████| 100/100 [00:05<00:00, 18.71it/s]\n"
     ]
    }
   ],
   "source": [
    "num_sample = 100\n",
    "conditioned_model = pyro.condition(model, data = {\"race\": torch.tensor(0), \"two_year_recid\": torch.tensor(0)})\n",
    "posterior = pyro.infer.Importance(conditioned_model, num_samples=num_sample).run()\n",
    "ls = []\n",
    "for run in tqdm.tqdm(range(100)):\n",
    "    z = 0\n",
    "    for _ in range(num_sample):\n",
    "        trace = posterior()\n",
    "        s = trace.nodes['sex']['value']\n",
    "        a = trace.nodes['age_cat']['value']\n",
    "        c = trace.nodes['c_charge_degree']['value']\n",
    "        do_model = pyro.do(model, data = {\"race\": torch.tensor(0)})\n",
    "        counterfactual_model = pyro.condition(do_model, data = {'sex': s,'age_cat': a, 'c_charge_degree': c })\n",
    "        trace_counterfactual = pyro.poutine.trace(counterfactual_model)\n",
    "        trace = trace_counterfactual.get_trace()\n",
    "        z += trace.nodes['two_year_recid']['value']\n",
    "    ls += [ float(z)/num_sample ]"
   ]
  },
  {
   "cell_type": "code",
   "execution_count": 77,
   "metadata": {},
   "outputs": [
    {
     "data": {
      "image/png": "[encoded data removed]",
      "text/plain": [
       "<Figure size 432x288 with 1 Axes>"
      ]
     },
     "metadata": {
      "needs_background": "light"
     },
     "output_type": "display_data"
    }
   ],
   "source": [
    "plt.hist(ls)\n",
    "plt.show()"
   ]
  }
 ],
 "metadata": {
  "kernelspec": {
   "display_name": "Python 3",
   "language": "python",
   "name": "python3"
  },
  "language_info": {
   "codemirror_mode": {
    "name": "ipython",
    "version": 3
   },
   "file_extension": ".py",
   "mimetype": "text/x-python",
   "name": "python",
   "nbconvert_exporter": "python",
   "pygments_lexer": "ipython3",
   "version": "3.8.2"
  }
 },
 "nbformat": 4,
 "nbformat_minor": 4
}
