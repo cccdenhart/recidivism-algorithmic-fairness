{
 "cells": [
  {
   "cell_type": "code",
   "execution_count": null,
   "metadata": {},
   "outputs": [],
   "source": []
  },
  {
   "cell_type": "code",
   "execution_count": 2,
   "metadata": {},
   "outputs": [],
   "source": [
    "import matplotlib.pyplot as plt\n",
    "import torch\n",
    "import pyro\n",
    "import pyro.distributions as dist\n",
    "import numpy as np\n",
    "import pandas as pd\n",
    "%matplotlib inline\n",
    "\n",
    "pyro.set_rng_seed(42)"
   ]
  },
  {
   "cell_type": "markdown",
   "metadata": {},
   "source": [
    "## Model 1 - Indirect Race Path"
   ]
  },
  {
   "cell_type": "markdown",
   "metadata": {},
   "source": [
    "### Preprocessing"
   ]
  },
  {
   "cell_type": "code",
   "execution_count": 3,
   "metadata": {},
   "outputs": [
    {
     "name": "stdout",
     "output_type": "stream",
     "text": [
      "['African-American', 'Caucasian']\n"
     ]
    },
    {
     "data": {
      "text/plain": [
       "tensor([0.5999, 0.4001])"
      ]
     },
     "execution_count": 3,
     "metadata": {},
     "output_type": "execute_result"
    }
   ],
   "source": [
    "# race\n",
    "df = pd.read_csv('model1_race.csv')\n",
    "race_alias = list(df['Var1'])\n",
    "race_prob = torch.tensor(list(df['Freq']) )\n",
    "print(race_alias)\n",
    "race_prob"
   ]
  },
  {
   "cell_type": "code",
   "execution_count": 4,
   "metadata": {},
   "outputs": [
    {
     "name": "stdout",
     "output_type": "stream",
     "text": [
      "['Female', 'Male']\n"
     ]
    },
    {
     "data": {
      "text/plain": [
       "tensor([0.1992, 0.8008])"
      ]
     },
     "execution_count": 4,
     "metadata": {},
     "output_type": "execute_result"
    }
   ],
   "source": [
    "# sex\n",
    "df = pd.read_csv('model1_sex.csv')\n",
    "sex_alias = list(df['Var1'])\n",
    "sex_prob = torch.tensor(list(df['Freq']) )\n",
    "print(sex_alias)\n",
    "sex_prob"
   ]
  },
  {
   "cell_type": "code",
   "execution_count": 5,
   "metadata": {},
   "outputs": [
    {
     "name": "stdout",
     "output_type": "stream",
     "text": [
      "['25 - 45', 'Greater than 45', 'Less than 25']\n"
     ]
    },
    {
     "data": {
      "text/plain": [
       "tensor([0.5701, 0.2182, 0.2117])"
      ]
     },
     "execution_count": 5,
     "metadata": {},
     "output_type": "execute_result"
    }
   ],
   "source": [
    "# age_cat\n",
    "df = pd.read_csv('model1_age_cat.csv')\n",
    "age_cat_alias = list(df['Var1'])\n",
    "age_cat_prob = torch.tensor(list(df['Freq']) )\n",
    "print(age_cat_alias)\n",
    "age_cat_prob"
   ]
  },
  {
   "cell_type": "code",
   "execution_count": 6,
   "metadata": {},
   "outputs": [
    {
     "name": "stdout",
     "output_type": "stream",
     "text": [
      "['F', 'M']\n"
     ]
    },
    {
     "data": {
      "text/plain": [
       "tensor([[[[0.6329, 0.3671],\n",
       "          [0.7273, 0.2727],\n",
       "          [0.6488, 0.3512]],\n",
       "\n",
       "         [[0.6787, 0.3213],\n",
       "          [0.6518, 0.3482],\n",
       "          [0.7722, 0.2278]]],\n",
       "\n",
       "\n",
       "        [[[0.5728, 0.4272],\n",
       "          [0.4795, 0.5205],\n",
       "          [0.5632, 0.4368]],\n",
       "\n",
       "         [[0.6294, 0.3706],\n",
       "          [0.5663, 0.4337],\n",
       "          [0.6970, 0.3030]]]])"
      ]
     },
     "execution_count": 6,
     "metadata": {},
     "output_type": "execute_result"
    }
   ],
   "source": [
    "# c_charge_degree\n",
    "df = pd.read_csv('model1_c_charge_degree.csv')\n",
    "c_charge_degree_alias = list(set( df['c_charge_degree'] ))\n",
    "\n",
    "dic = {}\n",
    "for index, row in df.iterrows():\n",
    "    dic[(row['race'], row['sex'],row['age_cat'],row['c_charge_degree'])] = row['Freq']\n",
    "l0 = []\n",
    "for r in race_alias:\n",
    "    l1 = []\n",
    "    for s in sex_alias:\n",
    "        l2 = []\n",
    "        for a in age_cat_alias:\n",
    "            l3 = []\n",
    "            for c in c_charge_degree_alias:            \n",
    "                l3 += [ dic[r,s,a,c] ]\n",
    "            l2 +=  [ l3 ]\n",
    "        l1 += [ l2 ]\n",
    "    l0 += [ l1 ]\n",
    "\n",
    "c_charge_degree_probs = torch.tensor( l0 )\n",
    "\n",
    "print(c_charge_degree_alias)\n",
    "c_charge_degree_probs"
   ]
  },
  {
   "cell_type": "code",
   "execution_count": 7,
   "metadata": {},
   "outputs": [
    {
     "name": "stdout",
     "output_type": "stream",
     "text": [
      "[0, 1]\n"
     ]
    },
    {
     "data": {
      "text/plain": [
       "tensor([[0.5010, 0.4990],\n",
       "        [0.6015, 0.3985]])"
      ]
     },
     "execution_count": 7,
     "metadata": {},
     "output_type": "execute_result"
    }
   ],
   "source": [
    "# two_year_recid\n",
    "df = pd.read_csv('model1_two_year_recid.csv')\n",
    "two_year_recid_alias = list(df['Unnamed: 0'])\n",
    "\n",
    "l = []\n",
    "for e in c_charge_degree_alias:\n",
    "    l += [ list( df[e] )  ]\n",
    "two_year_recid_probs = torch.tensor( l )\n",
    "\n",
    "print(two_year_recid_alias)\n",
    "two_year_recid_probs"
   ]
  },
  {
   "cell_type": "code",
   "execution_count": 35,
   "metadata": {},
   "outputs": [],
   "source": [
    "def model():\n",
    "    race = pyro.sample(\"race\", dist.Categorical( race_prob )) \n",
    "    sex = pyro.sample(\"sex\", dist.Categorical( sex_prob )) \n",
    "    age_cat = pyro.sample(\"age_cat\", dist.Categorical( age_cat_prob )) \n",
    "    c_charge_degree = pyro.sample(\"c_charge_degree\", dist.Categorical(c_charge_degree_probs[race][sex][age_cat]))\n",
    "    two_year_recid_prob = dist.Categorical(two_year_recid_probs[c_charge_degree])\n",
    "    two_year_recid = pyro.sample(\"two_year_recid\", two_year_recid_prob)\n",
    "    return two_year_recid\n"
   ]
  },
  {
   "cell_type": "markdown",
   "metadata": {},
   "source": [
    "### Intervention"
   ]
  },
  {
   "cell_type": "code",
   "execution_count": 9,
   "metadata": {},
   "outputs": [],
   "source": [
    "# You are interested in the average causal effect P(two_year_recid = 1|do(race = 0)) − P(two_year_recid = 1|do(race = 1)),\n",
    "# where two_year_recid=1 represents recidivism, \n",
    "# race=0 represents \"African-American\" \n",
    "# race=0 represents \"Caucasian\" "
   ]
  },
  {
   "cell_type": "code",
   "execution_count": 11,
   "metadata": {},
   "outputs": [
    {
     "data": {
      "text/plain": [
       "(array([ 4.,  5., 11., 20., 14., 19., 10.,  6.,  6.,  5.]),\n",
       " array([-0.21 , -0.166, -0.122, -0.078, -0.034,  0.01 ,  0.054,  0.098,\n",
       "         0.142,  0.186,  0.23 ]),\n",
       " <BarContainer object of 10 artists>)"
      ]
     },
     "execution_count": 11,
     "metadata": {},
     "output_type": "execute_result"
    },
    {
     "data": {
      "image/png": "[encoded data removed]",
      "text/plain": [
       "<Figure size 432x288 with 1 Axes>"
      ]
     },
     "metadata": {
      "needs_background": "light"
     },
     "output_type": "display_data"
    }
   ],
   "source": [
    "ls = []\n",
    "for run in range(100):\n",
    "    num_sample = 100\n",
    "    P_y1_do = {}\n",
    "    for x in [0,1]:\n",
    "        do_model = pyro.do(model, data={ 'race': torch.tensor( x )  })\n",
    "        posterior = pyro.infer.Importance(do_model, num_samples=num_sample).run()\n",
    "        marginal = pyro.infer.EmpiricalMarginal(posterior, \"two_year_recid\") \n",
    "        samples = np.array([marginal().item() for _ in range(num_sample)])\n",
    "        e_unique, e_counts = np.unique(samples, return_counts=True)\n",
    "        dic = dict( zip(e_unique, e_counts) )\n",
    "        P_y1_do[ x ] = dic[ 1 ] / num_sample\n",
    "    diff = P_y1_do[0] - P_y1_do[1]\n",
    "    ls += [ diff ]\n",
    "plt.hist(ls) "
   ]
  },
  {
   "cell_type": "markdown",
   "metadata": {},
   "source": [
    "### Counterfactual fairness"
   ]
  },
  {
   "cell_type": "code",
   "execution_count": 10,
   "metadata": {},
   "outputs": [],
   "source": [
    "# P(two_year_recid race=0 = 1|race = 1,two_year_recid = 0)"
   ]
  },
  {
   "cell_type": "markdown",
   "metadata": {},
   "source": [
    "#### Natural Direct Effects"
   ]
  },
  {
   "cell_type": "code",
   "execution_count": 37,
   "metadata": {},
   "outputs": [],
   "source": [
    "# When Z = 1 E(Y|(X = 1), do(M = 1)) - E(Y|(X = 1), do(M = 0))\n",
    "cond_model = pyro.condition(model, data={'race': torch.tensor(1)})\n",
    "e1_samples = [pyro.do(cond_model, data={'c_charge_degree': torch.tensor(1)})() for _ in range(1000)]\n",
    "e2_samples = [pyro.do(cond_model, data={'c_charge_degree': torch.tensor(0)})() for _ in range(1000)]"
   ]
  },
  {
   "cell_type": "code",
   "execution_count": 39,
   "metadata": {},
   "outputs": [],
   "source": [
    "e1_avg = sum(e1_samples) / len(e1_samples)\n",
    "e2_avg = sum(e2_samples) / len(e2_samples)"
   ]
  },
  {
   "cell_type": "code",
   "execution_count": 40,
   "metadata": {},
   "outputs": [
    {
     "data": {
      "text/plain": [
       "tensor(-0.1160)"
      ]
     },
     "execution_count": 40,
     "metadata": {},
     "output_type": "execute_result"
    }
   ],
   "source": [
    "e1_avg - e2_avg"
   ]
  },
  {
   "cell_type": "markdown",
   "metadata": {},
   "source": [
    "#### Inference"
   ]
  },
  {
   "cell_type": "code",
   "execution_count": 11,
   "metadata": {},
   "outputs": [
    {
     "data": {
      "text/plain": [
       "(array([ 3.,  4., 10., 17., 14., 25., 15.,  7.,  3.,  2.]),\n",
       " array([0.33 , 0.356, 0.382, 0.408, 0.434, 0.46 , 0.486, 0.512, 0.538,\n",
       "        0.564, 0.59 ]),\n",
       " <a list of 10 Patch objects>)"
      ]
     },
     "execution_count": 11,
     "metadata": {},
     "output_type": "execute_result"
    },
    {
     "data": {
      "image/png": "[encoded data removed]",
      "text/plain": [
       "<Figure size 432x288 with 1 Axes>"
      ]
     },
     "metadata": {
      "needs_background": "light"
     },
     "output_type": "display_data"
    }
   ],
   "source": [
    "num_sample = 100\n",
    "conditioned_model = pyro.condition(model, data = {\"race\": torch.tensor(1), \"two_year_recid\": torch.tensor(0)})\n",
    "posterior = pyro.infer.Importance(conditioned_model, num_samples=num_sample).run()\n",
    "ls = []\n",
    "for run in range(100):\n",
    "    z = 0\n",
    "    for _ in range(num_sample):\n",
    "        trace = posterior()\n",
    "        s = trace.nodes['sex']['value']\n",
    "        a = trace.nodes['age_cat']['value']\n",
    "        c = trace.nodes['c_charge_degree']['value']\n",
    "        do_model = pyro.do(model, data = {\"race\": torch.tensor(0)})\n",
    "        counterfactual_model = pyro.condition(do_model, data = {'sex': s,'age_cat': a, 'c_charge_degree': c })\n",
    "        trace_counterfactual = pyro.poutine.trace(counterfactual_model)\n",
    "        trace = trace_counterfactual.get_trace()\n",
    "        z += trace.nodes['two_year_recid']['value']\n",
    "    ls += [ float(z)/num_sample ]\n",
    "plt.hist(ls) "
   ]
  },
  {
   "cell_type": "markdown",
   "metadata": {},
   "source": [
    "## Model 2 - Direct Race Path"
   ]
  },
  {
   "cell_type": "markdown",
   "metadata": {},
   "source": [
    "### Preprocessing"
   ]
  },
  {
   "cell_type": "code",
   "execution_count": 45,
   "metadata": {},
   "outputs": [
    {
     "name": "stdout",
     "output_type": "stream",
     "text": [
      "['African-American', 'Caucasian']\n"
     ]
    },
    {
     "data": {
      "text/plain": [
       "tensor([0.5999, 0.4001])"
      ]
     },
     "execution_count": 45,
     "metadata": {},
     "output_type": "execute_result"
    }
   ],
   "source": [
    "# race\n",
    "df = pd.read_csv('model2_race.csv')\n",
    "race_alias = list(df['Var1'])\n",
    "race_prob = torch.tensor(list(df['Freq']) )\n",
    "print(race_alias)\n",
    "race_prob"
   ]
  },
  {
   "cell_type": "code",
   "execution_count": 46,
   "metadata": {},
   "outputs": [
    {
     "name": "stdout",
     "output_type": "stream",
     "text": [
      "['Female', 'Male']\n"
     ]
    },
    {
     "data": {
      "text/plain": [
       "tensor([0.1992, 0.8008])"
      ]
     },
     "execution_count": 46,
     "metadata": {},
     "output_type": "execute_result"
    }
   ],
   "source": [
    "# sex\n",
    "df = pd.read_csv('model2_sex.csv')\n",
    "sex_alias = list(df['Var1'])\n",
    "sex_prob = torch.tensor(list(df['Freq']) )\n",
    "print(sex_alias)\n",
    "sex_prob"
   ]
  },
  {
   "cell_type": "code",
   "execution_count": 47,
   "metadata": {},
   "outputs": [
    {
     "name": "stdout",
     "output_type": "stream",
     "text": [
      "['25 - 45', 'Greater than 45', 'Less than 25']\n"
     ]
    },
    {
     "data": {
      "text/plain": [
       "tensor([0.5701, 0.2182, 0.2117])"
      ]
     },
     "execution_count": 47,
     "metadata": {},
     "output_type": "execute_result"
    }
   ],
   "source": [
    "# age_cat\n",
    "df = pd.read_csv('model2_age_cat.csv')\n",
    "age_cat_alias = list(df['Var1'])\n",
    "age_cat_prob = torch.tensor(list(df['Freq']) )\n",
    "print(age_cat_alias)\n",
    "age_cat_prob"
   ]
  },
  {
   "cell_type": "code",
   "execution_count": 48,
   "metadata": {},
   "outputs": [
    {
     "name": "stdout",
     "output_type": "stream",
     "text": [
      "['F', 'M']\n"
     ]
    },
    {
     "data": {
      "text/plain": [
       "tensor([[[[0.6329, 0.3671],\n",
       "          [0.7273, 0.2727],\n",
       "          [0.6488, 0.3512]],\n",
       "\n",
       "         [[0.6787, 0.3213],\n",
       "          [0.6518, 0.3482],\n",
       "          [0.7722, 0.2278]]],\n",
       "\n",
       "\n",
       "        [[[0.5728, 0.4272],\n",
       "          [0.4795, 0.5205],\n",
       "          [0.5632, 0.4368]],\n",
       "\n",
       "         [[0.6294, 0.3706],\n",
       "          [0.5663, 0.4337],\n",
       "          [0.6970, 0.3030]]]])"
      ]
     },
     "execution_count": 48,
     "metadata": {},
     "output_type": "execute_result"
    }
   ],
   "source": [
    "# c_charge_degree\n",
    "df = pd.read_csv('model2_c_charge_degree.csv')\n",
    "c_charge_degree_alias = list(set( df['c_charge_degree'] ))\n",
    "\n",
    "dic = {}\n",
    "for index, row in df.iterrows():\n",
    "    dic[(row['race'], row['sex'],row['age_cat'],row['c_charge_degree'])] = row['Freq']\n",
    "l0 = []\n",
    "for r in race_alias:\n",
    "    l1 = []\n",
    "    for s in sex_alias:\n",
    "        l2 = []\n",
    "        for a in age_cat_alias:\n",
    "            l3 = []\n",
    "            for c in c_charge_degree_alias:            \n",
    "                l3 += [ dic[r,s,a,c] ]\n",
    "            l2 +=  [ l3 ]\n",
    "        l1 += [ l2 ]\n",
    "    l0 += [ l1 ]\n",
    "\n",
    "c_charge_degree_probs = torch.tensor( l0 )\n",
    "\n",
    "print(c_charge_degree_alias)\n",
    "c_charge_degree_probs"
   ]
  },
  {
   "cell_type": "code",
   "execution_count": 49,
   "metadata": {},
   "outputs": [
    {
     "name": "stdout",
     "output_type": "stream",
     "text": [
      "[0, 1]\n"
     ]
    },
    {
     "data": {
      "text/plain": [
       "tensor([[[0.4620, 0.5380],\n",
       "         [0.5469, 0.4531]],\n",
       "\n",
       "        [[0.5678, 0.4322],\n",
       "         [0.6656, 0.3344]]])"
      ]
     },
     "execution_count": 49,
     "metadata": {},
     "output_type": "execute_result"
    }
   ],
   "source": [
    "# two_year_recid\n",
    "df = pd.read_csv('model2_two_year_recid.csv')\n",
    "two_year_recid_alias = list(set( df['two_year_recid'] ))\n",
    "\n",
    "dic = {}\n",
    "for index, row in df.iterrows():\n",
    "    dic[(row['race'], row['c_charge_degree'],row['two_year_recid'])] = row['Freq']\n",
    "    \n",
    "l0 = []\n",
    "for r in race_alias:\n",
    "    l1 = []\n",
    "    for c in c_charge_degree_alias:\n",
    "        l2 = []\n",
    "        for t in two_year_recid_alias:\n",
    "            l2 += [ dic[r,c,t] ]\n",
    "        l1 += [ l2 ]\n",
    "    l0 += [ l1 ]\n",
    "\n",
    "two_year_recid_probs = torch.tensor( l0 )\n",
    "\n",
    "print(two_year_recid_alias)\n",
    "two_year_recid_probs"
   ]
  },
  {
   "cell_type": "code",
   "execution_count": 50,
   "metadata": {},
   "outputs": [],
   "source": [
    "def model():\n",
    "    race = pyro.sample(\"race\", dist.Categorical( race_prob )) \n",
    "    sex = pyro.sample(\"sex\", dist.Categorical( sex_prob )) \n",
    "    age_cat = pyro.sample(\"age_cat\", dist.Categorical( age_cat_prob )) \n",
    "    c_charge_degree = pyro.sample(\"c_charge_degree\", dist.Categorical(c_charge_degree_probs[race][sex][age_cat]))\n",
    "    two_year_recid = pyro.sample(\"two_year_recid\", dist.Categorical(two_year_recid_probs[race][c_charge_degree]))\n",
    "    return two_year_recid"
   ]
  },
  {
   "cell_type": "markdown",
   "metadata": {},
   "source": [
    "### Intervention"
   ]
  },
  {
   "cell_type": "code",
   "execution_count": 8,
   "metadata": {},
   "outputs": [],
   "source": [
    "# You are interested in the average causal effect P(two_year_recid = 1|do(race = 0)) − P(two_year_recid = 1|do(race = 1)),\n",
    "# where two_year_recid=1 represents recidivism, \n",
    "# race=0 represents \"African-American\" \n",
    "# race=0 represents \"Caucasian\" "
   ]
  },
  {
   "cell_type": "code",
   "execution_count": 9,
   "metadata": {},
   "outputs": [
    {
     "data": {
      "text/plain": [
       "(array([ 1.,  0.,  2., 14., 22., 24., 16., 12.,  6.,  3.]),\n",
       " array([-0.25 , -0.185, -0.12 , -0.055,  0.01 ,  0.075,  0.14 ,  0.205,\n",
       "         0.27 ,  0.335,  0.4  ]),\n",
       " <a list of 10 Patch objects>)"
      ]
     },
     "execution_count": 9,
     "metadata": {},
     "output_type": "execute_result"
    },
    {
     "data": {
      "image/png": "[encoded data removed]",
      "text/plain": [
       "<Figure size 432x288 with 1 Axes>"
      ]
     },
     "metadata": {
      "needs_background": "light"
     },
     "output_type": "display_data"
    }
   ],
   "source": [
    "ls = []\n",
    "for run in range(100):\n",
    "    num_sample = 100\n",
    "    P_y1_do = {}\n",
    "    for x in [0,1]:\n",
    "        do_model = pyro.do(model, data={ 'race': torch.tensor( x )  })\n",
    "        posterior = pyro.infer.Importance(do_model, num_samples=num_sample).run()\n",
    "        marginal = pyro.infer.EmpiricalMarginal(posterior, \"two_year_recid\") \n",
    "        samples = np.array([marginal().item() for _ in range(num_sample)])\n",
    "        e_unique, e_counts = np.unique(samples, return_counts=True)\n",
    "        dic = dict( zip(e_unique, e_counts) )\n",
    "        P_y1_do[ x ] = dic[ 1 ] / num_sample\n",
    "    diff = P_y1_do[0] - P_y1_do[1]\n",
    "    ls += [ diff ]\n",
    "plt.hist(ls) "
   ]
  },
  {
   "cell_type": "markdown",
   "metadata": {},
   "source": [
    "### Counterfactual fairness"
   ]
  },
  {
   "cell_type": "code",
   "execution_count": 10,
   "metadata": {},
   "outputs": [],
   "source": [
    "# P(two_year_recid race=0 = 1|race = 1,two_year_recid = 0)"
   ]
  },
  {
   "cell_type": "markdown",
   "metadata": {},
   "source": [
    "#### Natural Direct Effects"
   ]
  },
  {
   "cell_type": "code",
   "execution_count": 51,
   "metadata": {},
   "outputs": [],
   "source": [
    "# When Z = 1 E(Y|(X = 1), do(M = 1)) - E(Y|(X = 1), do(M = 0))\n",
    "cond_model = pyro.condition(model, data={'race': torch.tensor(1)})\n",
    "e1_samples = [pyro.do(cond_model, data={'c_charge_degree': torch.tensor(1)})() for _ in range(1000)]\n",
    "e2_samples = [pyro.do(cond_model, data={'c_charge_degree': torch.tensor(0)})() for _ in range(1000)]"
   ]
  },
  {
   "cell_type": "code",
   "execution_count": 52,
   "metadata": {},
   "outputs": [],
   "source": [
    "e1_avg = sum(e1_samples) / len(e1_samples)\n",
    "e2_avg = sum(e2_samples) / len(e2_samples)"
   ]
  },
  {
   "cell_type": "code",
   "execution_count": 53,
   "metadata": {},
   "outputs": [
    {
     "data": {
      "text/plain": [
       "tensor(-0.1000)"
      ]
     },
     "execution_count": 53,
     "metadata": {},
     "output_type": "execute_result"
    }
   ],
   "source": [
    "e1_avg - e2_avg"
   ]
  },
  {
   "cell_type": "markdown",
   "metadata": {},
   "source": [
    "#### Natural Indirect Effects"
   ]
  },
  {
   "cell_type": "code",
   "execution_count": 55,
   "metadata": {},
   "outputs": [],
   "source": [
    "# NIE = E(Y | M=1, do(X=0)) – E(Y | M=0, do(X=0))\n",
    "cond_model_1 = pyro.condition(model, data={'c_charge_degree': torch.tensor(1)})\n",
    "cond_model_2 = pyro.condition(model, data={'c_charge_degree': torch.tensor(0)})\n",
    "e1_samples = [pyro.do(cond_model_1, data={'race': torch.tensor(0)})() for _ in range(1000)]\n",
    "e2_samples = [pyro.do(cond_model_2, data={'race': torch.tensor(0)})() for _ in range(1000)]"
   ]
  },
  {
   "cell_type": "code",
   "execution_count": 56,
   "metadata": {},
   "outputs": [],
   "source": [
    "e1_avg = sum(e1_samples) / len(e1_samples)\n",
    "e2_avg = sum(e2_samples) / len(e2_samples)"
   ]
  },
  {
   "cell_type": "code",
   "execution_count": 57,
   "metadata": {},
   "outputs": [
    {
     "data": {
      "text/plain": [
       "tensor(-0.0810)"
      ]
     },
     "execution_count": 57,
     "metadata": {},
     "output_type": "execute_result"
    }
   ],
   "source": [
    "e1_avg - e2_avg"
   ]
  },
  {
   "cell_type": "markdown",
   "metadata": {},
   "source": [
    "#### Inference"
   ]
  },
  {
   "cell_type": "code",
   "execution_count": 11,
   "metadata": {},
   "outputs": [
    {
     "data": {
      "text/plain": [
       "(array([ 4.,  4., 18., 16., 13., 24., 14.,  5.,  1.,  1.]),\n",
       " array([0.4  , 0.424, 0.448, 0.472, 0.496, 0.52 , 0.544, 0.568, 0.592,\n",
       "        0.616, 0.64 ]),\n",
       " <a list of 10 Patch objects>)"
      ]
     },
     "execution_count": 11,
     "metadata": {},
     "output_type": "execute_result"
    },
    {
     "data": {
      "image/png": "[encoded data removed]",
      "text/plain": [
       "<Figure size 432x288 with 1 Axes>"
      ]
     },
     "metadata": {
      "needs_background": "light"
     },
     "output_type": "display_data"
    }
   ],
   "source": [
    "num_sample = 100\n",
    "conditioned_model = pyro.condition(model, data = {\"race\": torch.tensor(1), \"two_year_recid\": torch.tensor(0)})\n",
    "posterior = pyro.infer.Importance(conditioned_model, num_samples=num_sample).run()\n",
    "ls = []\n",
    "for run in range(100):\n",
    "    z = 0\n",
    "    for _ in range(num_sample):\n",
    "        trace = posterior()\n",
    "        s = trace.nodes['sex']['value']\n",
    "        a = trace.nodes['age_cat']['value']\n",
    "        c = trace.nodes['c_charge_degree']['value']\n",
    "        do_model = pyro.do(model, data = {\"race\": torch.tensor(0)})\n",
    "        counterfactual_model = pyro.condition(do_model, data = {'sex': s,'age_cat': a, 'c_charge_degree': c })\n",
    "        trace_counterfactual = pyro.poutine.trace(counterfactual_model)\n",
    "        trace = trace_counterfactual.get_trace()\n",
    "        z += trace.nodes['two_year_recid']['value']\n",
    "    ls += [ float(z)/num_sample ]\n",
    "plt.hist(ls) "
   ]
  }
 ],
 "metadata": {
  "kernelspec": {
   "display_name": "Python 3",
   "language": "python",
   "name": "python3"
  },
  "language_info": {
   "codemirror_mode": {
    "name": "ipython",
    "version": 3
   },
   "file_extension": ".py",
   "mimetype": "text/x-python",
   "name": "python",
   "nbconvert_exporter": "python",
   "pygments_lexer": "ipython3",
   "version": "3.8.2"
  }
 },
 "nbformat": 4,
 "nbformat_minor": 4
}
